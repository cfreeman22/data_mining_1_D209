{
  "nbformat": 4,
  "nbformat_minor": 0,
  "metadata": {
    "colab": {
      "provenance": [],
      "authorship_tag": "ABX9TyN/kuYkoLkTKL81r141bn4X",
      "include_colab_link": true
    },
    "kernelspec": {
      "name": "python3",
      "display_name": "Python 3"
    },
    "language_info": {
      "name": "python"
    }
  },
  "cells": [
    {
      "cell_type": "markdown",
      "metadata": {
        "id": "view-in-github",
        "colab_type": "text"
      },
      "source": [
        "<a href=\"https://colab.research.google.com/github/cfreeman22/data_mining_1_D209/blob/main/D209_data_mining1_task1.ipynb\" target=\"_parent\"><img src=\"https://colab.research.google.com/assets/colab-badge.svg\" alt=\"Open In Colab\"/></a>"
      ]
    },
    {
      "cell_type": "code",
      "execution_count": 1,
      "metadata": {
        "id": "7GyqO4W_m3Z_"
      },
      "outputs": [],
      "source": [
        "# Libraries to help with reading and manipulating data\n",
        "import numpy as np\n",
        "import pandas as pd\n",
        "\n",
        "# Libraries to help with data visualization\n",
        "import matplotlib.pyplot as plt\n",
        "import seaborn as sns\n",
        "\n",
        "#inporting GridSearch and Pipeline from theesklearn library\n",
        "from sklearn.pipeline import Pipeline\n",
        "from sklearn.model_selection import GridSearchCV\n",
        "\n",
        "\n",
        "\n",
        "# library to scaling the data\n",
        "from sklearn.preprocessing import StandardScaler\n",
        "# Library to split data\n",
        "from sklearn.model_selection import train_test_split\n",
        "\n",
        "# importing the kneighbors classifier\n",
        "from sklearn.neighbors import KNeighborsClassifier\n",
        "\n",
        "#importing metric to test our model\n",
        "\n",
        "from sklearn.metrics import (\n",
        "    f1_score,\n",
        "    accuracy_score,\n",
        "    recall_score,\n",
        "    precision_score,\n",
        "    confusion_matrix,\n",
        "    roc_auc_score,\n",
        "    plot_confusion_matrix,\n",
        "    precision_recall_curve,\n",
        "    roc_curve, classification_report, \n",
        ")\n"
      ]
    },
    {
      "cell_type": "markdown",
      "source": [],
      "metadata": {
        "id": "ZsiRw2Khz6qi"
      }
    },
    {
      "cell_type": "code",
      "source": [
        "#Customs funtions\n",
        "# defining a function to compute different metrics to check performance of a classification model built using sklearn\n",
        "\n",
        "def model_performance_classification_sklearn_with_threshold(model, predictors, target, threshold=0.5):\n",
        "    \"\"\"\n",
        "    Function to compute different metrics, based on the threshold specified, to check classification model performance\n",
        "\n",
        "    model: classifier\n",
        "    predictors: independent variables\n",
        "    target: dependent variable\n",
        "    threshold: threshold for classifying the observation as class 1\n",
        "    \"\"\"\n",
        "\n",
        "    # predicting using the independent variables\n",
        "    pred_prob = model.predict_proba(predictors)[:, 1]\n",
        "    pred_thres = pred_prob > threshold\n",
        "    pred = np.round(pred_thres)\n",
        "\n",
        "    acc = accuracy_score(target, pred)  # to compute Accuracy\n",
        "    recall = recall_score(target, pred)  # to compute Recall\n",
        "    precision = precision_score(target, pred)  # to compute Precision\n",
        "    f1 = f1_score(target, pred)  # to compute F1-score\n",
        "\n",
        "    # creating a dataframe of metrics\n",
        "    df_perf = pd.DataFrame(\n",
        "        {\n",
        "            \"Accuracy\": acc,\n",
        "            \"Recall\": recall,\n",
        "            \"Precision\": precision,\n",
        "            \"F1\": f1,\n",
        "        },\n",
        "        index=[0],\n",
        "    )\n",
        "\n",
        "    return df_perf"
      ],
      "metadata": {
        "id": "NkuMA-nBz58l"
      },
      "execution_count": 2,
      "outputs": []
    },
    {
      "cell_type": "code",
      "source": [
        "# defining a function to plot the confusion_matrix of a classification model built using sklearn\n",
        "def confusion_matrix_sklearn_with_threshold(model, predictors, target, threshold=0.5):\n",
        "    \"\"\"\n",
        "    To plot the confusion_matrix, based on the threshold specified, with percentages\n",
        "\n",
        "    model: classifier\n",
        "    predictors: independent variables\n",
        "    target: dependent variable\n",
        "    threshold: threshold for classifying the observation as class 1\n",
        "    \"\"\"\n",
        "    pred_prob = model.predict_proba(predictors)[:, 1]\n",
        "    pred_thres = pred_prob > threshold\n",
        "    y_pred = np.round(pred_thres)\n",
        "\n",
        "    cm = confusion_matrix(target, y_pred)\n",
        "    labels = np.asarray(\n",
        "        [\n",
        "            [\"{0:0.0f}\".format(item) + \"\\n{0:.2%}\".format(item / cm.flatten().sum())]\n",
        "            for item in cm.flatten()\n",
        "        ]\n",
        "    ).reshape(2, 2)\n",
        "\n",
        "    plt.figure(figsize=(6, 4))\n",
        "    sns.heatmap(cm, annot=labels, fmt=\"\")\n",
        "    plt.ylabel(\"True label\")\n",
        "    plt.xlabel(\"Predicted label\")"
      ],
      "metadata": {
        "id": "fXLHZdEB0rE1"
      },
      "execution_count": 3,
      "outputs": []
    },
    {
      "cell_type": "code",
      "source": [
        "#reading the data\n",
        "from google.colab import drive\n",
        "drive.mount('/content/drive')"
      ],
      "metadata": {
        "colab": {
          "base_uri": "https://localhost:8080/"
        },
        "id": "fE28wTPMnxsE",
        "outputId": "eda9f16c-826c-4d19-e2b1-872e2240695f"
      },
      "execution_count": 4,
      "outputs": [
        {
          "output_type": "stream",
          "name": "stdout",
          "text": [
            "Mounted at /content/drive\n"
          ]
        }
      ]
    },
    {
      "cell_type": "code",
      "source": [
        "#Reading the data from my google drive.\n",
        "df = pd.read_csv('/content/drive/My Drive/churn_clean.csv')"
      ],
      "metadata": {
        "id": "s_ZWb3Hjnxoi"
      },
      "execution_count": 5,
      "outputs": []
    },
    {
      "cell_type": "markdown",
      "source": [
        "## Data Preeparation steps"
      ],
      "metadata": {
        "id": "GpmsMVI6sVkJ"
      }
    },
    {
      "cell_type": "code",
      "source": [
        "df.info()"
      ],
      "metadata": {
        "colab": {
          "base_uri": "https://localhost:8080/"
        },
        "id": "LShg9Vlmnxkz",
        "outputId": "20ee5262-d30e-4bcf-b229-9dc0daf0cbcd"
      },
      "execution_count": 6,
      "outputs": [
        {
          "output_type": "stream",
          "name": "stdout",
          "text": [
            "<class 'pandas.core.frame.DataFrame'>\n",
            "RangeIndex: 10000 entries, 0 to 9999\n",
            "Data columns (total 50 columns):\n",
            " #   Column                Non-Null Count  Dtype  \n",
            "---  ------                --------------  -----  \n",
            " 0   CaseOrder             10000 non-null  int64  \n",
            " 1   Customer_id           10000 non-null  object \n",
            " 2   Interaction           10000 non-null  object \n",
            " 3   UID                   10000 non-null  object \n",
            " 4   City                  10000 non-null  object \n",
            " 5   State                 10000 non-null  object \n",
            " 6   County                10000 non-null  object \n",
            " 7   Zip                   10000 non-null  int64  \n",
            " 8   Lat                   10000 non-null  float64\n",
            " 9   Lng                   10000 non-null  float64\n",
            " 10  Population            10000 non-null  int64  \n",
            " 11  Area                  10000 non-null  object \n",
            " 12  TimeZone              10000 non-null  object \n",
            " 13  Job                   10000 non-null  object \n",
            " 14  Children              10000 non-null  int64  \n",
            " 15  Age                   10000 non-null  int64  \n",
            " 16  Income                10000 non-null  float64\n",
            " 17  Marital               10000 non-null  object \n",
            " 18  Gender                10000 non-null  object \n",
            " 19  Churn                 10000 non-null  object \n",
            " 20  Outage_sec_perweek    10000 non-null  float64\n",
            " 21  Email                 10000 non-null  int64  \n",
            " 22  Contacts              10000 non-null  int64  \n",
            " 23  Yearly_equip_failure  10000 non-null  int64  \n",
            " 24  Techie                10000 non-null  object \n",
            " 25  Contract              10000 non-null  object \n",
            " 26  Port_modem            10000 non-null  object \n",
            " 27  Tablet                10000 non-null  object \n",
            " 28  InternetService       10000 non-null  object \n",
            " 29  Phone                 10000 non-null  object \n",
            " 30  Multiple              10000 non-null  object \n",
            " 31  OnlineSecurity        10000 non-null  object \n",
            " 32  OnlineBackup          10000 non-null  object \n",
            " 33  DeviceProtection      10000 non-null  object \n",
            " 34  TechSupport           10000 non-null  object \n",
            " 35  StreamingTV           10000 non-null  object \n",
            " 36  StreamingMovies       10000 non-null  object \n",
            " 37  PaperlessBilling      10000 non-null  object \n",
            " 38  PaymentMethod         10000 non-null  object \n",
            " 39  Tenure                10000 non-null  float64\n",
            " 40  MonthlyCharge         10000 non-null  float64\n",
            " 41  Bandwidth_GB_Year     10000 non-null  float64\n",
            " 42  Item1                 10000 non-null  int64  \n",
            " 43  Item2                 10000 non-null  int64  \n",
            " 44  Item3                 10000 non-null  int64  \n",
            " 45  Item4                 10000 non-null  int64  \n",
            " 46  Item5                 10000 non-null  int64  \n",
            " 47  Item6                 10000 non-null  int64  \n",
            " 48  Item7                 10000 non-null  int64  \n",
            " 49  Item8                 10000 non-null  int64  \n",
            "dtypes: float64(7), int64(16), object(27)\n",
            "memory usage: 3.8+ MB\n"
          ]
        }
      ]
    },
    {
      "cell_type": "code",
      "source": [
        "#target variable\n",
        "df.Churn.value_counts()"
      ],
      "metadata": {
        "colab": {
          "base_uri": "https://localhost:8080/"
        },
        "id": "uYFpSmidoIOc",
        "outputId": "bc7b45fa-f9a4-4fae-ad29-2b25dac333c3"
      },
      "execution_count": 7,
      "outputs": [
        {
          "output_type": "execute_result",
          "data": {
            "text/plain": [
              "No     7350\n",
              "Yes    2650\n",
              "Name: Churn, dtype: int64"
            ]
          },
          "metadata": {},
          "execution_count": 7
        }
      ]
    },
    {
      "cell_type": "code",
      "source": [
        "df.Churn = df.Churn.map({'Yes':1 ,'No':0}).astype('int')\n",
        "  "
      ],
      "metadata": {
        "id": "r1Uc4dvfsZ9B"
      },
      "execution_count": 8,
      "outputs": []
    },
    {
      "cell_type": "code",
      "source": [
        "# Checking for duplicates\n",
        "df.duplicated().sum()"
      ],
      "metadata": {
        "id": "anIGbdhWPkMv",
        "colab": {
          "base_uri": "https://localhost:8080/"
        },
        "outputId": "32180b9e-7511-4886-8344-60e82bac7be3"
      },
      "execution_count": 9,
      "outputs": [
        {
          "output_type": "execute_result",
          "data": {
            "text/plain": [
              "0"
            ]
          },
          "metadata": {},
          "execution_count": 9
        }
      ]
    },
    {
      "cell_type": "code",
      "source": [
        "#Checking for null\n",
        "df.isnull().values.any()"
      ],
      "metadata": {
        "colab": {
          "base_uri": "https://localhost:8080/"
        },
        "id": "bY-LoOn66WSr",
        "outputId": "72d6297a-1273-4c80-e718-29d4a2d7bad7"
      },
      "execution_count": 10,
      "outputs": [
        {
          "output_type": "execute_result",
          "data": {
            "text/plain": [
              "False"
            ]
          },
          "metadata": {},
          "execution_count": 10
        }
      ]
    },
    {
      "cell_type": "code",
      "source": [
        "# Dropping unnecessary columns\n",
        "cols_to_drop =['CaseOrder', 'Customer_id', 'Interaction', 'UID', 'Zip', 'Lat', 'Lng', 'TimeZone','City', 'State', 'County','Job','Population' ]\n",
        "\n",
        "# Dropping unnecessary columns\n",
        "df = df.drop(cols_to_drop, axis = 1)\n",
        "\n",
        "# renaming the survey items columns\n",
        "df = df.rename(columns={'Item1': 'TimelyResponse','Item2': 'TimelyFixes' , 'Item3': 'TimelyReplacements', 'Item4': 'Reliability',\n",
        "\n",
        "                          'Item5': 'Options', 'Item6': 'RespectfulResponse', 'Item7': 'CourteousExchange', 'Item8': 'ActiveListening'})\n",
        "\n",
        "# Checking to confirm if unnecessary columns were dropped and survey columns renamed appropriately\n",
        "\n",
        "df.info()"
      ],
      "metadata": {
        "id": "RyUdX2FG6rkq",
        "colab": {
          "base_uri": "https://localhost:8080/"
        },
        "outputId": "2594e0b0-ee49-4a4b-827c-96539b26c70d"
      },
      "execution_count": 11,
      "outputs": [
        {
          "output_type": "stream",
          "name": "stdout",
          "text": [
            "<class 'pandas.core.frame.DataFrame'>\n",
            "RangeIndex: 10000 entries, 0 to 9999\n",
            "Data columns (total 37 columns):\n",
            " #   Column                Non-Null Count  Dtype  \n",
            "---  ------                --------------  -----  \n",
            " 0   Area                  10000 non-null  object \n",
            " 1   Children              10000 non-null  int64  \n",
            " 2   Age                   10000 non-null  int64  \n",
            " 3   Income                10000 non-null  float64\n",
            " 4   Marital               10000 non-null  object \n",
            " 5   Gender                10000 non-null  object \n",
            " 6   Churn                 10000 non-null  int64  \n",
            " 7   Outage_sec_perweek    10000 non-null  float64\n",
            " 8   Email                 10000 non-null  int64  \n",
            " 9   Contacts              10000 non-null  int64  \n",
            " 10  Yearly_equip_failure  10000 non-null  int64  \n",
            " 11  Techie                10000 non-null  object \n",
            " 12  Contract              10000 non-null  object \n",
            " 13  Port_modem            10000 non-null  object \n",
            " 14  Tablet                10000 non-null  object \n",
            " 15  InternetService       10000 non-null  object \n",
            " 16  Phone                 10000 non-null  object \n",
            " 17  Multiple              10000 non-null  object \n",
            " 18  OnlineSecurity        10000 non-null  object \n",
            " 19  OnlineBackup          10000 non-null  object \n",
            " 20  DeviceProtection      10000 non-null  object \n",
            " 21  TechSupport           10000 non-null  object \n",
            " 22  StreamingTV           10000 non-null  object \n",
            " 23  StreamingMovies       10000 non-null  object \n",
            " 24  PaperlessBilling      10000 non-null  object \n",
            " 25  PaymentMethod         10000 non-null  object \n",
            " 26  Tenure                10000 non-null  float64\n",
            " 27  MonthlyCharge         10000 non-null  float64\n",
            " 28  Bandwidth_GB_Year     10000 non-null  float64\n",
            " 29  TimelyResponse        10000 non-null  int64  \n",
            " 30  TimelyFixes           10000 non-null  int64  \n",
            " 31  TimelyReplacements    10000 non-null  int64  \n",
            " 32  Reliability           10000 non-null  int64  \n",
            " 33  Options               10000 non-null  int64  \n",
            " 34  RespectfulResponse    10000 non-null  int64  \n",
            " 35  CourteousExchange     10000 non-null  int64  \n",
            " 36  ActiveListening       10000 non-null  int64  \n",
            "dtypes: float64(5), int64(14), object(18)\n",
            "memory usage: 2.8+ MB\n"
          ]
        }
      ]
    },
    {
      "cell_type": "code",
      "source": [
        "#extracting categorical variables\n",
        "cat_vars =  df.select_dtypes(include=['object']).columns.to_list()\n",
        "cat_vars"
      ],
      "metadata": {
        "colab": {
          "base_uri": "https://localhost:8080/"
        },
        "id": "RAokYb-_7UXR",
        "outputId": "6705d18d-a1b1-41b9-be32-3261c28edc13"
      },
      "execution_count": 12,
      "outputs": [
        {
          "output_type": "execute_result",
          "data": {
            "text/plain": [
              "['Area',\n",
              " 'Marital',\n",
              " 'Gender',\n",
              " 'Techie',\n",
              " 'Contract',\n",
              " 'Port_modem',\n",
              " 'Tablet',\n",
              " 'InternetService',\n",
              " 'Phone',\n",
              " 'Multiple',\n",
              " 'OnlineSecurity',\n",
              " 'OnlineBackup',\n",
              " 'DeviceProtection',\n",
              " 'TechSupport',\n",
              " 'StreamingTV',\n",
              " 'StreamingMovies',\n",
              " 'PaperlessBilling',\n",
              " 'PaymentMethod']"
            ]
          },
          "metadata": {},
          "execution_count": 12
        }
      ]
    },
    {
      "cell_type": "code",
      "source": [
        "# Extracting numerical variables\n",
        "for x in df.columns.to_list():\n",
        "  if x not in cat_vars:\n",
        "    print(x)"
      ],
      "metadata": {
        "colab": {
          "base_uri": "https://localhost:8080/"
        },
        "id": "-MW6RjKZAR2e",
        "outputId": "75199406-0e34-4a30-ff52-f7b5c793cbdd"
      },
      "execution_count": 13,
      "outputs": [
        {
          "output_type": "stream",
          "name": "stdout",
          "text": [
            "Children\n",
            "Age\n",
            "Income\n",
            "Churn\n",
            "Outage_sec_perweek\n",
            "Email\n",
            "Contacts\n",
            "Yearly_equip_failure\n",
            "Tenure\n",
            "MonthlyCharge\n",
            "Bandwidth_GB_Year\n",
            "TimelyResponse\n",
            "TimelyFixes\n",
            "TimelyReplacements\n",
            "Reliability\n",
            "Options\n",
            "RespectfulResponse\n",
            "CourteousExchange\n",
            "ActiveListening\n"
          ]
        }
      ]
    },
    {
      "cell_type": "code",
      "source": [
        "# Changing object type to categories\n",
        "for col in cat_vars:\n",
        "   df[col] = df[col].astype('category')"
      ],
      "metadata": {
        "id": "kq1IHsbk-tT2"
      },
      "execution_count": 14,
      "outputs": []
    },
    {
      "cell_type": "code",
      "source": [
        "# Renaming some categories for easy processing\n",
        "df.Marital = df.Marital.cat.rename_categories({\"Divorced\":\"Divorced\",\"Widowed\": \"Widowed\",\"Separated\": \"Separated\", \"Never Married\": \"NeverMarried\", \"Married\":\"Married\"}) \n",
        "df.Contract = df.Contract.cat.rename_categories({\"Month-to-month\":\"month_to_month\",\"Two Year\": \"TwoYear\",\"One year\": \"OneYear\"})\n",
        "df.InternetService = df.InternetService.cat.rename_categories({\"Fiber Optic\":\"Fiber\",\"DSL\": \"DSL\",\"None\": \"NoService\"})\n",
        "df.PaymentMethod = df.PaymentMethod.cat.rename_categories({\"Electronic Check\":\"ElectronicCheck\",\"Mailed Check\": \"MailedCheck\",\"Bank Transfer(automatic)\": \"BankTransfer\",\n",
        "                                                           \"Credit Card (automatic)\": \"CreditCard\"}) \n"
      ],
      "metadata": {
        "id": "ZoCxHmKW8E7B"
      },
      "execution_count": 15,
      "outputs": []
    },
    {
      "cell_type": "code",
      "source": [
        "df.info()"
      ],
      "metadata": {
        "colab": {
          "base_uri": "https://localhost:8080/"
        },
        "id": "CpLgFCOVMsnC",
        "outputId": "f7faca42-2224-4452-a1a7-33504c95576c"
      },
      "execution_count": 16,
      "outputs": [
        {
          "output_type": "stream",
          "name": "stdout",
          "text": [
            "<class 'pandas.core.frame.DataFrame'>\n",
            "RangeIndex: 10000 entries, 0 to 9999\n",
            "Data columns (total 37 columns):\n",
            " #   Column                Non-Null Count  Dtype   \n",
            "---  ------                --------------  -----   \n",
            " 0   Area                  10000 non-null  category\n",
            " 1   Children              10000 non-null  int64   \n",
            " 2   Age                   10000 non-null  int64   \n",
            " 3   Income                10000 non-null  float64 \n",
            " 4   Marital               10000 non-null  category\n",
            " 5   Gender                10000 non-null  category\n",
            " 6   Churn                 10000 non-null  int64   \n",
            " 7   Outage_sec_perweek    10000 non-null  float64 \n",
            " 8   Email                 10000 non-null  int64   \n",
            " 9   Contacts              10000 non-null  int64   \n",
            " 10  Yearly_equip_failure  10000 non-null  int64   \n",
            " 11  Techie                10000 non-null  category\n",
            " 12  Contract              10000 non-null  category\n",
            " 13  Port_modem            10000 non-null  category\n",
            " 14  Tablet                10000 non-null  category\n",
            " 15  InternetService       10000 non-null  category\n",
            " 16  Phone                 10000 non-null  category\n",
            " 17  Multiple              10000 non-null  category\n",
            " 18  OnlineSecurity        10000 non-null  category\n",
            " 19  OnlineBackup          10000 non-null  category\n",
            " 20  DeviceProtection      10000 non-null  category\n",
            " 21  TechSupport           10000 non-null  category\n",
            " 22  StreamingTV           10000 non-null  category\n",
            " 23  StreamingMovies       10000 non-null  category\n",
            " 24  PaperlessBilling      10000 non-null  category\n",
            " 25  PaymentMethod         10000 non-null  category\n",
            " 26  Tenure                10000 non-null  float64 \n",
            " 27  MonthlyCharge         10000 non-null  float64 \n",
            " 28  Bandwidth_GB_Year     10000 non-null  float64 \n",
            " 29  TimelyResponse        10000 non-null  int64   \n",
            " 30  TimelyFixes           10000 non-null  int64   \n",
            " 31  TimelyReplacements    10000 non-null  int64   \n",
            " 32  Reliability           10000 non-null  int64   \n",
            " 33  Options               10000 non-null  int64   \n",
            " 34  RespectfulResponse    10000 non-null  int64   \n",
            " 35  CourteousExchange     10000 non-null  int64   \n",
            " 36  ActiveListening       10000 non-null  int64   \n",
            "dtypes: category(18), float64(5), int64(14)\n",
            "memory usage: 1.6 MB\n"
          ]
        }
      ]
    },
    {
      "cell_type": "code",
      "source": [
        "## DROP EITHER TENURE OR BANDWIDTH from previous analysis these two features were highly correlated\n",
        "#df = df.drop('Bandwidth_GB_Year', axis = 1)\n"
      ],
      "metadata": {
        "id": "SznR2wpm4sf5"
      },
      "execution_count": 17,
      "outputs": []
    },
    {
      "cell_type": "markdown",
      "source": [
        "## Saving the cleaned data set"
      ],
      "metadata": {
        "id": "auLvY2XYswVP"
      }
    },
    {
      "cell_type": "code",
      "source": [
        " \n",
        "\n",
        "#making a copy of the prepared dataset and extract a copy for submission\n",
        "\n",
        "churn_df =  df.copy()"
      ],
      "metadata": {
        "id": "Zuj70Au7Mwm5"
      },
      "execution_count": 18,
      "outputs": []
    },
    {
      "cell_type": "code",
      "source": [
        "churn_df.info()"
      ],
      "metadata": {
        "colab": {
          "base_uri": "https://localhost:8080/"
        },
        "id": "AXjnUDfgOp8c",
        "outputId": "98decad4-9396-484d-b6ba-0e2c5d92e30a"
      },
      "execution_count": 19,
      "outputs": [
        {
          "output_type": "stream",
          "name": "stdout",
          "text": [
            "<class 'pandas.core.frame.DataFrame'>\n",
            "RangeIndex: 10000 entries, 0 to 9999\n",
            "Data columns (total 37 columns):\n",
            " #   Column                Non-Null Count  Dtype   \n",
            "---  ------                --------------  -----   \n",
            " 0   Area                  10000 non-null  category\n",
            " 1   Children              10000 non-null  int64   \n",
            " 2   Age                   10000 non-null  int64   \n",
            " 3   Income                10000 non-null  float64 \n",
            " 4   Marital               10000 non-null  category\n",
            " 5   Gender                10000 non-null  category\n",
            " 6   Churn                 10000 non-null  int64   \n",
            " 7   Outage_sec_perweek    10000 non-null  float64 \n",
            " 8   Email                 10000 non-null  int64   \n",
            " 9   Contacts              10000 non-null  int64   \n",
            " 10  Yearly_equip_failure  10000 non-null  int64   \n",
            " 11  Techie                10000 non-null  category\n",
            " 12  Contract              10000 non-null  category\n",
            " 13  Port_modem            10000 non-null  category\n",
            " 14  Tablet                10000 non-null  category\n",
            " 15  InternetService       10000 non-null  category\n",
            " 16  Phone                 10000 non-null  category\n",
            " 17  Multiple              10000 non-null  category\n",
            " 18  OnlineSecurity        10000 non-null  category\n",
            " 19  OnlineBackup          10000 non-null  category\n",
            " 20  DeviceProtection      10000 non-null  category\n",
            " 21  TechSupport           10000 non-null  category\n",
            " 22  StreamingTV           10000 non-null  category\n",
            " 23  StreamingMovies       10000 non-null  category\n",
            " 24  PaperlessBilling      10000 non-null  category\n",
            " 25  PaymentMethod         10000 non-null  category\n",
            " 26  Tenure                10000 non-null  float64 \n",
            " 27  MonthlyCharge         10000 non-null  float64 \n",
            " 28  Bandwidth_GB_Year     10000 non-null  float64 \n",
            " 29  TimelyResponse        10000 non-null  int64   \n",
            " 30  TimelyFixes           10000 non-null  int64   \n",
            " 31  TimelyReplacements    10000 non-null  int64   \n",
            " 32  Reliability           10000 non-null  int64   \n",
            " 33  Options               10000 non-null  int64   \n",
            " 34  RespectfulResponse    10000 non-null  int64   \n",
            " 35  CourteousExchange     10000 non-null  int64   \n",
            " 36  ActiveListening       10000 non-null  int64   \n",
            "dtypes: category(18), float64(5), int64(14)\n",
            "memory usage: 1.6 MB\n"
          ]
        }
      ]
    },
    {
      "cell_type": "code",
      "source": [
        "# cleaned and prepared data\n",
        "churn_df.to_csv('cleaned_prepared_churn.csv')"
      ],
      "metadata": {
        "id": "tx6l-pySOuX6"
      },
      "execution_count": 20,
      "outputs": []
    },
    {
      "cell_type": "markdown",
      "source": [
        "## Test Train Split and Scaling"
      ],
      "metadata": {
        "id": "yMpblxgAS3JH"
      }
    },
    {
      "cell_type": "code",
      "source": [
        "X = churn_df\n",
        "y = X.pop('Churn')\n",
        "#Getting dummy variables for categorical columns\n",
        "X = pd.get_dummies(X, drop_first=True)"
      ],
      "metadata": {
        "id": "YVYija00SbZB"
      },
      "execution_count": 21,
      "outputs": []
    },
    {
      "cell_type": "code",
      "source": [
        "X.info()"
      ],
      "metadata": {
        "colab": {
          "base_uri": "https://localhost:8080/"
        },
        "id": "p4YSyZ2y4koR",
        "outputId": "196f39e8-107b-4046-b217-303bdbeda52c"
      },
      "execution_count": 22,
      "outputs": [
        {
          "output_type": "stream",
          "name": "stdout",
          "text": [
            "<class 'pandas.core.frame.DataFrame'>\n",
            "RangeIndex: 10000 entries, 0 to 9999\n",
            "Data columns (total 45 columns):\n",
            " #   Column                         Non-Null Count  Dtype  \n",
            "---  ------                         --------------  -----  \n",
            " 0   Children                       10000 non-null  int64  \n",
            " 1   Age                            10000 non-null  int64  \n",
            " 2   Income                         10000 non-null  float64\n",
            " 3   Outage_sec_perweek             10000 non-null  float64\n",
            " 4   Email                          10000 non-null  int64  \n",
            " 5   Contacts                       10000 non-null  int64  \n",
            " 6   Yearly_equip_failure           10000 non-null  int64  \n",
            " 7   Tenure                         10000 non-null  float64\n",
            " 8   MonthlyCharge                  10000 non-null  float64\n",
            " 9   Bandwidth_GB_Year              10000 non-null  float64\n",
            " 10  TimelyResponse                 10000 non-null  int64  \n",
            " 11  TimelyFixes                    10000 non-null  int64  \n",
            " 12  TimelyReplacements             10000 non-null  int64  \n",
            " 13  Reliability                    10000 non-null  int64  \n",
            " 14  Options                        10000 non-null  int64  \n",
            " 15  RespectfulResponse             10000 non-null  int64  \n",
            " 16  CourteousExchange              10000 non-null  int64  \n",
            " 17  ActiveListening                10000 non-null  int64  \n",
            " 18  Area_Suburban                  10000 non-null  uint8  \n",
            " 19  Area_Urban                     10000 non-null  uint8  \n",
            " 20  Marital_Married                10000 non-null  uint8  \n",
            " 21  Marital_NeverMarried           10000 non-null  uint8  \n",
            " 22  Marital_Separated              10000 non-null  uint8  \n",
            " 23  Marital_Widowed                10000 non-null  uint8  \n",
            " 24  Gender_Male                    10000 non-null  uint8  \n",
            " 25  Gender_Nonbinary               10000 non-null  uint8  \n",
            " 26  Techie_Yes                     10000 non-null  uint8  \n",
            " 27  Contract_OneYear               10000 non-null  uint8  \n",
            " 28  Contract_TwoYear               10000 non-null  uint8  \n",
            " 29  Port_modem_Yes                 10000 non-null  uint8  \n",
            " 30  Tablet_Yes                     10000 non-null  uint8  \n",
            " 31  InternetService_Fiber          10000 non-null  uint8  \n",
            " 32  InternetService_NoService      10000 non-null  uint8  \n",
            " 33  Phone_Yes                      10000 non-null  uint8  \n",
            " 34  Multiple_Yes                   10000 non-null  uint8  \n",
            " 35  OnlineSecurity_Yes             10000 non-null  uint8  \n",
            " 36  OnlineBackup_Yes               10000 non-null  uint8  \n",
            " 37  DeviceProtection_Yes           10000 non-null  uint8  \n",
            " 38  TechSupport_Yes                10000 non-null  uint8  \n",
            " 39  StreamingTV_Yes                10000 non-null  uint8  \n",
            " 40  StreamingMovies_Yes            10000 non-null  uint8  \n",
            " 41  PaperlessBilling_Yes           10000 non-null  uint8  \n",
            " 42  PaymentMethod_CreditCard       10000 non-null  uint8  \n",
            " 43  PaymentMethod_ElectronicCheck  10000 non-null  uint8  \n",
            " 44  PaymentMethod_MailedCheck      10000 non-null  uint8  \n",
            "dtypes: float64(5), int64(13), uint8(27)\n",
            "memory usage: 1.6 MB\n"
          ]
        }
      ]
    },
    {
      "cell_type": "code",
      "source": [
        "#spliting the data\n",
        "X_train, X_test, y_train, y_test = train_test_split( X, y, \n",
        "                                                    test_size=0.3, random_state=42, stratify=y)"
      ],
      "metadata": {
        "id": "bSrZCLh-TOuc"
      },
      "execution_count": 23,
      "outputs": []
    },
    {
      "cell_type": "markdown",
      "source": [
        "## Saving train and test sets into a csv"
      ],
      "metadata": {
        "id": "EYcattL6LtEs"
      }
    },
    {
      "cell_type": "code",
      "source": [
        "training_set = pd.concat([X_train, y_train], axis=1)\n",
        "test_set = pd.concat([X_test, y_test], axis=1)\n",
        "\n",
        "training_set.to_csv('training_set.csv', index=False)\n",
        "test_set.to_csv('test_set.csv', index=False)"
      ],
      "metadata": {
        "id": "VNuN_xj1L24U"
      },
      "execution_count": 24,
      "outputs": []
    },
    {
      "cell_type": "markdown",
      "source": [
        "## Scaling the data"
      ],
      "metadata": {
        "id": "VKxIEouQs-Kl"
      }
    },
    {
      "cell_type": "code",
      "source": [
        "#scaling the data\n",
        "scaler = StandardScaler()"
      ],
      "metadata": {
        "id": "g7Rtcw6QTSmg"
      },
      "execution_count": 25,
      "outputs": []
    },
    {
      "cell_type": "code",
      "source": [
        "scaled_X_train = scaler.fit_transform(X_train)\n",
        "scaled_X_test = scaler.transform(X_test)"
      ],
      "metadata": {
        "id": "hfdywsauVWw8"
      },
      "execution_count": 26,
      "outputs": []
    },
    {
      "cell_type": "markdown",
      "source": [
        "## Using k value of 3 "
      ],
      "metadata": {
        "id": "IBHW-B1btEpX"
      }
    },
    {
      "cell_type": "code",
      "source": [
        "knn = KNeighborsClassifier(n_neighbors= 3)"
      ],
      "metadata": {
        "id": "WBsvOwt_Xkdg"
      },
      "execution_count": 27,
      "outputs": []
    },
    {
      "cell_type": "code",
      "source": [
        "knn.fit(scaled_X_train, y_train)"
      ],
      "metadata": {
        "colab": {
          "base_uri": "https://localhost:8080/"
        },
        "id": "jC2NcqG9YrmX",
        "outputId": "b7c05ea9-904c-4ba3-e283-30869d6d5619"
      },
      "execution_count": 28,
      "outputs": [
        {
          "output_type": "execute_result",
          "data": {
            "text/plain": [
              "KNeighborsClassifier(n_neighbors=3)"
            ]
          },
          "metadata": {},
          "execution_count": 28
        }
      ]
    },
    {
      "cell_type": "code",
      "source": [
        "knn_model_train_perf = model_performance_classification_sklearn_with_threshold(\n",
        "    knn, scaled_X_train, y_train\n",
        ")\n",
        "\n",
        "print(\"Training performance:\")\n",
        "knn_model_train_perf"
      ],
      "metadata": {
        "colab": {
          "base_uri": "https://localhost:8080/",
          "height": 99
        },
        "id": "WHtyXozTZm0A",
        "outputId": "ca62c989-0795-4f83-bbf2-17844a2d9593"
      },
      "execution_count": 29,
      "outputs": [
        {
          "output_type": "stream",
          "name": "stdout",
          "text": [
            "Training performance:\n"
          ]
        },
        {
          "output_type": "execute_result",
          "data": {
            "text/plain": [
              "   Accuracy    Recall  Precision        F1\n",
              "0  0.903143  0.765499   0.853879  0.807277"
            ],
            "text/html": [
              "\n",
              "  <div id=\"df-a1e2abdf-11da-4ff1-acdd-0bb393ff463b\">\n",
              "    <div class=\"colab-df-container\">\n",
              "      <div>\n",
              "<style scoped>\n",
              "    .dataframe tbody tr th:only-of-type {\n",
              "        vertical-align: middle;\n",
              "    }\n",
              "\n",
              "    .dataframe tbody tr th {\n",
              "        vertical-align: top;\n",
              "    }\n",
              "\n",
              "    .dataframe thead th {\n",
              "        text-align: right;\n",
              "    }\n",
              "</style>\n",
              "<table border=\"1\" class=\"dataframe\">\n",
              "  <thead>\n",
              "    <tr style=\"text-align: right;\">\n",
              "      <th></th>\n",
              "      <th>Accuracy</th>\n",
              "      <th>Recall</th>\n",
              "      <th>Precision</th>\n",
              "      <th>F1</th>\n",
              "    </tr>\n",
              "  </thead>\n",
              "  <tbody>\n",
              "    <tr>\n",
              "      <th>0</th>\n",
              "      <td>0.903143</td>\n",
              "      <td>0.765499</td>\n",
              "      <td>0.853879</td>\n",
              "      <td>0.807277</td>\n",
              "    </tr>\n",
              "  </tbody>\n",
              "</table>\n",
              "</div>\n",
              "      <button class=\"colab-df-convert\" onclick=\"convertToInteractive('df-a1e2abdf-11da-4ff1-acdd-0bb393ff463b')\"\n",
              "              title=\"Convert this dataframe to an interactive table.\"\n",
              "              style=\"display:none;\">\n",
              "        \n",
              "  <svg xmlns=\"http://www.w3.org/2000/svg\" height=\"24px\"viewBox=\"0 0 24 24\"\n",
              "       width=\"24px\">\n",
              "    <path d=\"M0 0h24v24H0V0z\" fill=\"none\"/>\n",
              "    <path d=\"M18.56 5.44l.94 2.06.94-2.06 2.06-.94-2.06-.94-.94-2.06-.94 2.06-2.06.94zm-11 1L8.5 8.5l.94-2.06 2.06-.94-2.06-.94L8.5 2.5l-.94 2.06-2.06.94zm10 10l.94 2.06.94-2.06 2.06-.94-2.06-.94-.94-2.06-.94 2.06-2.06.94z\"/><path d=\"M17.41 7.96l-1.37-1.37c-.4-.4-.92-.59-1.43-.59-.52 0-1.04.2-1.43.59L10.3 9.45l-7.72 7.72c-.78.78-.78 2.05 0 2.83L4 21.41c.39.39.9.59 1.41.59.51 0 1.02-.2 1.41-.59l7.78-7.78 2.81-2.81c.8-.78.8-2.07 0-2.86zM5.41 20L4 18.59l7.72-7.72 1.47 1.35L5.41 20z\"/>\n",
              "  </svg>\n",
              "      </button>\n",
              "      \n",
              "  <style>\n",
              "    .colab-df-container {\n",
              "      display:flex;\n",
              "      flex-wrap:wrap;\n",
              "      gap: 12px;\n",
              "    }\n",
              "\n",
              "    .colab-df-convert {\n",
              "      background-color: #E8F0FE;\n",
              "      border: none;\n",
              "      border-radius: 50%;\n",
              "      cursor: pointer;\n",
              "      display: none;\n",
              "      fill: #1967D2;\n",
              "      height: 32px;\n",
              "      padding: 0 0 0 0;\n",
              "      width: 32px;\n",
              "    }\n",
              "\n",
              "    .colab-df-convert:hover {\n",
              "      background-color: #E2EBFA;\n",
              "      box-shadow: 0px 1px 2px rgba(60, 64, 67, 0.3), 0px 1px 3px 1px rgba(60, 64, 67, 0.15);\n",
              "      fill: #174EA6;\n",
              "    }\n",
              "\n",
              "    [theme=dark] .colab-df-convert {\n",
              "      background-color: #3B4455;\n",
              "      fill: #D2E3FC;\n",
              "    }\n",
              "\n",
              "    [theme=dark] .colab-df-convert:hover {\n",
              "      background-color: #434B5C;\n",
              "      box-shadow: 0px 1px 3px 1px rgba(0, 0, 0, 0.15);\n",
              "      filter: drop-shadow(0px 1px 2px rgba(0, 0, 0, 0.3));\n",
              "      fill: #FFFFFF;\n",
              "    }\n",
              "  </style>\n",
              "\n",
              "      <script>\n",
              "        const buttonEl =\n",
              "          document.querySelector('#df-a1e2abdf-11da-4ff1-acdd-0bb393ff463b button.colab-df-convert');\n",
              "        buttonEl.style.display =\n",
              "          google.colab.kernel.accessAllowed ? 'block' : 'none';\n",
              "\n",
              "        async function convertToInteractive(key) {\n",
              "          const element = document.querySelector('#df-a1e2abdf-11da-4ff1-acdd-0bb393ff463b');\n",
              "          const dataTable =\n",
              "            await google.colab.kernel.invokeFunction('convertToInteractive',\n",
              "                                                     [key], {});\n",
              "          if (!dataTable) return;\n",
              "\n",
              "          const docLinkHtml = 'Like what you see? Visit the ' +\n",
              "            '<a target=\"_blank\" href=https://colab.research.google.com/notebooks/data_table.ipynb>data table notebook</a>'\n",
              "            + ' to learn more about interactive tables.';\n",
              "          element.innerHTML = '';\n",
              "          dataTable['output_type'] = 'display_data';\n",
              "          await google.colab.output.renderOutput(dataTable, element);\n",
              "          const docLink = document.createElement('div');\n",
              "          docLink.innerHTML = docLinkHtml;\n",
              "          element.appendChild(docLink);\n",
              "        }\n",
              "      </script>\n",
              "    </div>\n",
              "  </div>\n",
              "  "
            ]
          },
          "metadata": {},
          "execution_count": 29
        }
      ]
    },
    {
      "cell_type": "code",
      "source": [
        "knn_model_test_perf = model_performance_classification_sklearn_with_threshold(\n",
        "    knn, scaled_X_test, y_test\n",
        ")\n",
        "\n",
        "print(\"Test set performance:\")\n",
        "knn_model_test_perf"
      ],
      "metadata": {
        "colab": {
          "base_uri": "https://localhost:8080/",
          "height": 99
        },
        "id": "61X9HIPF5XT6",
        "outputId": "24f8318b-c025-45a1-a3c0-2cf190bc2340"
      },
      "execution_count": 30,
      "outputs": [
        {
          "output_type": "stream",
          "name": "stdout",
          "text": [
            "Test set performance:\n"
          ]
        },
        {
          "output_type": "execute_result",
          "data": {
            "text/plain": [
              "   Accuracy    Recall  Precision        F1\n",
              "0     0.808  0.576101   0.657102  0.613941"
            ],
            "text/html": [
              "\n",
              "  <div id=\"df-411d99b6-2220-4479-b398-920530639f51\">\n",
              "    <div class=\"colab-df-container\">\n",
              "      <div>\n",
              "<style scoped>\n",
              "    .dataframe tbody tr th:only-of-type {\n",
              "        vertical-align: middle;\n",
              "    }\n",
              "\n",
              "    .dataframe tbody tr th {\n",
              "        vertical-align: top;\n",
              "    }\n",
              "\n",
              "    .dataframe thead th {\n",
              "        text-align: right;\n",
              "    }\n",
              "</style>\n",
              "<table border=\"1\" class=\"dataframe\">\n",
              "  <thead>\n",
              "    <tr style=\"text-align: right;\">\n",
              "      <th></th>\n",
              "      <th>Accuracy</th>\n",
              "      <th>Recall</th>\n",
              "      <th>Precision</th>\n",
              "      <th>F1</th>\n",
              "    </tr>\n",
              "  </thead>\n",
              "  <tbody>\n",
              "    <tr>\n",
              "      <th>0</th>\n",
              "      <td>0.808</td>\n",
              "      <td>0.576101</td>\n",
              "      <td>0.657102</td>\n",
              "      <td>0.613941</td>\n",
              "    </tr>\n",
              "  </tbody>\n",
              "</table>\n",
              "</div>\n",
              "      <button class=\"colab-df-convert\" onclick=\"convertToInteractive('df-411d99b6-2220-4479-b398-920530639f51')\"\n",
              "              title=\"Convert this dataframe to an interactive table.\"\n",
              "              style=\"display:none;\">\n",
              "        \n",
              "  <svg xmlns=\"http://www.w3.org/2000/svg\" height=\"24px\"viewBox=\"0 0 24 24\"\n",
              "       width=\"24px\">\n",
              "    <path d=\"M0 0h24v24H0V0z\" fill=\"none\"/>\n",
              "    <path d=\"M18.56 5.44l.94 2.06.94-2.06 2.06-.94-2.06-.94-.94-2.06-.94 2.06-2.06.94zm-11 1L8.5 8.5l.94-2.06 2.06-.94-2.06-.94L8.5 2.5l-.94 2.06-2.06.94zm10 10l.94 2.06.94-2.06 2.06-.94-2.06-.94-.94-2.06-.94 2.06-2.06.94z\"/><path d=\"M17.41 7.96l-1.37-1.37c-.4-.4-.92-.59-1.43-.59-.52 0-1.04.2-1.43.59L10.3 9.45l-7.72 7.72c-.78.78-.78 2.05 0 2.83L4 21.41c.39.39.9.59 1.41.59.51 0 1.02-.2 1.41-.59l7.78-7.78 2.81-2.81c.8-.78.8-2.07 0-2.86zM5.41 20L4 18.59l7.72-7.72 1.47 1.35L5.41 20z\"/>\n",
              "  </svg>\n",
              "      </button>\n",
              "      \n",
              "  <style>\n",
              "    .colab-df-container {\n",
              "      display:flex;\n",
              "      flex-wrap:wrap;\n",
              "      gap: 12px;\n",
              "    }\n",
              "\n",
              "    .colab-df-convert {\n",
              "      background-color: #E8F0FE;\n",
              "      border: none;\n",
              "      border-radius: 50%;\n",
              "      cursor: pointer;\n",
              "      display: none;\n",
              "      fill: #1967D2;\n",
              "      height: 32px;\n",
              "      padding: 0 0 0 0;\n",
              "      width: 32px;\n",
              "    }\n",
              "\n",
              "    .colab-df-convert:hover {\n",
              "      background-color: #E2EBFA;\n",
              "      box-shadow: 0px 1px 2px rgba(60, 64, 67, 0.3), 0px 1px 3px 1px rgba(60, 64, 67, 0.15);\n",
              "      fill: #174EA6;\n",
              "    }\n",
              "\n",
              "    [theme=dark] .colab-df-convert {\n",
              "      background-color: #3B4455;\n",
              "      fill: #D2E3FC;\n",
              "    }\n",
              "\n",
              "    [theme=dark] .colab-df-convert:hover {\n",
              "      background-color: #434B5C;\n",
              "      box-shadow: 0px 1px 3px 1px rgba(0, 0, 0, 0.15);\n",
              "      filter: drop-shadow(0px 1px 2px rgba(0, 0, 0, 0.3));\n",
              "      fill: #FFFFFF;\n",
              "    }\n",
              "  </style>\n",
              "\n",
              "      <script>\n",
              "        const buttonEl =\n",
              "          document.querySelector('#df-411d99b6-2220-4479-b398-920530639f51 button.colab-df-convert');\n",
              "        buttonEl.style.display =\n",
              "          google.colab.kernel.accessAllowed ? 'block' : 'none';\n",
              "\n",
              "        async function convertToInteractive(key) {\n",
              "          const element = document.querySelector('#df-411d99b6-2220-4479-b398-920530639f51');\n",
              "          const dataTable =\n",
              "            await google.colab.kernel.invokeFunction('convertToInteractive',\n",
              "                                                     [key], {});\n",
              "          if (!dataTable) return;\n",
              "\n",
              "          const docLinkHtml = 'Like what you see? Visit the ' +\n",
              "            '<a target=\"_blank\" href=https://colab.research.google.com/notebooks/data_table.ipynb>data table notebook</a>'\n",
              "            + ' to learn more about interactive tables.';\n",
              "          element.innerHTML = '';\n",
              "          dataTable['output_type'] = 'display_data';\n",
              "          await google.colab.output.renderOutput(dataTable, element);\n",
              "          const docLink = document.createElement('div');\n",
              "          docLink.innerHTML = docLinkHtml;\n",
              "          element.appendChild(docLink);\n",
              "        }\n",
              "      </script>\n",
              "    </div>\n",
              "  </div>\n",
              "  "
            ]
          },
          "metadata": {},
          "execution_count": 30
        }
      ]
    },
    {
      "cell_type": "markdown",
      "source": [],
      "metadata": {
        "id": "ktDtCJPM5PWo"
      }
    },
    {
      "cell_type": "markdown",
      "source": [
        "## Finding k using the elbow method and model accuracy"
      ],
      "metadata": {
        "id": "GimkOWj3yZsy"
      }
    },
    {
      "cell_type": "code",
      "source": [
        "#Finding the error rate for every value of k in range 1 - 25\n",
        "test_error_rate = []\n",
        "\n",
        "for k in range(1,25):\n",
        "  knn = KNeighborsClassifier(n_neighbors=k)\n",
        "  knn.fit(scaled_X_train, y_train)\n",
        "  y_pred_test = knn.predict(scaled_X_test)\n",
        "  test_error = 1 - accuracy_score(y_test, y_pred_test)\n",
        "  test_error_rate.append(test_error)\n"
      ],
      "metadata": {
        "id": "M7NqACZral6O"
      },
      "execution_count": 31,
      "outputs": []
    },
    {
      "cell_type": "code",
      "source": [
        "#Finding the accuracy for every value of k in range 1 - 25\n",
        "\n",
        "scores = []\n",
        "k_range = range(1,25)\n",
        "for k in k_range:\n",
        "  knn = KNeighborsClassifier(n_neighbors=k)\n",
        "  knn.fit(scaled_X_train, y_train)\n",
        "  scores.append(knn.score(scaled_X_test, y_test))\n",
        "\n",
        "\n",
        "plt.figure()\n",
        "plt.xlabel('K count')\n",
        "plt.ylabel('Model accuracy')\n",
        "plt.scatter(k_range, scores)\n",
        "plt.grid()\n",
        "plt.xticks([0,5,10,15,20,25,30])\n",
        "plt.show()\n",
        " "
      ],
      "metadata": {
        "colab": {
          "base_uri": "https://localhost:8080/",
          "height": 283
        },
        "id": "hz-W-AaOeJEl",
        "outputId": "57d59042-b3d9-43fe-cb72-0fbd6ec03501"
      },
      "execution_count": 32,
      "outputs": [
        {
          "output_type": "display_data",
          "data": {
            "text/plain": [
              "<Figure size 432x288 with 1 Axes>"
            ],
            "image/png": "[encoded data removed]"
          },
          "metadata": {
            "needs_background": "light"
          }
        }
      ]
    },
    {
      "cell_type": "code",
      "source": [
        "plt.plot(range(1,25), test_error_rate)\n",
        "plt.ylabel(\"ERROR RATE\")\n",
        "plt.xlabel(\"K NEIGHBORS\")"
      ],
      "metadata": {
        "id": "_VYN4N8Dn97N",
        "colab": {
          "base_uri": "https://localhost:8080/",
          "height": 297
        },
        "outputId": "1e2d60b2-90e3-42c9-d006-d758f78f086f"
      },
      "execution_count": 33,
      "outputs": [
        {
          "output_type": "execute_result",
          "data": {
            "text/plain": [
              "Text(0.5, 0, 'K NEIGHBORS')"
            ]
          },
          "metadata": {},
          "execution_count": 33
        },
        {
          "output_type": "display_data",
          "data": {
            "text/plain": [
              "<Figure size 432x288 with 1 Axes>"
            ],
            "image/png": "[encoded data removed]"
          },
          "metadata": {
            "needs_background": "light"
          }
        }
      ]
    },
    {
      "cell_type": "code",
      "source": [
        "# USING k = 5\n",
        "knn2 = KNeighborsClassifier(n_neighbors= 5)\n",
        "\n",
        "knn2.fit(scaled_X_train, y_train)"
      ],
      "metadata": {
        "colab": {
          "base_uri": "https://localhost:8080/"
        },
        "id": "8wsIpJOP7Bmu",
        "outputId": "7b26d117-09d3-4dda-dec4-b4221960c6ae"
      },
      "execution_count": 34,
      "outputs": [
        {
          "output_type": "execute_result",
          "data": {
            "text/plain": [
              "KNeighborsClassifier()"
            ]
          },
          "metadata": {},
          "execution_count": 34
        }
      ]
    },
    {
      "cell_type": "code",
      "source": [
        "#training set perfomance\n",
        "knn_model_train_perf = model_performance_classification_sklearn_with_threshold(\n",
        "    knn2, scaled_X_train, y_train\n",
        ")\n",
        "\n",
        "print(\"Training performance:\")\n",
        "knn_model_train_perf"
      ],
      "metadata": {
        "colab": {
          "base_uri": "https://localhost:8080/",
          "height": 99
        },
        "id": "9SaoeCFV7Bep",
        "outputId": "f6cbcfbf-fb72-4391-d337-c13cd34c1c10"
      },
      "execution_count": 35,
      "outputs": [
        {
          "output_type": "stream",
          "name": "stdout",
          "text": [
            "Training performance:\n"
          ]
        },
        {
          "output_type": "execute_result",
          "data": {
            "text/plain": [
              "   Accuracy    Recall  Precision        F1\n",
              "0     0.892  0.706739   0.860801  0.776199"
            ],
            "text/html": [
              "\n",
              "  <div id=\"df-b01bfb88-e649-48e1-99de-9d8f0b0994a0\">\n",
              "    <div class=\"colab-df-container\">\n",
              "      <div>\n",
              "<style scoped>\n",
              "    .dataframe tbody tr th:only-of-type {\n",
              "        vertical-align: middle;\n",
              "    }\n",
              "\n",
              "    .dataframe tbody tr th {\n",
              "        vertical-align: top;\n",
              "    }\n",
              "\n",
              "    .dataframe thead th {\n",
              "        text-align: right;\n",
              "    }\n",
              "</style>\n",
              "<table border=\"1\" class=\"dataframe\">\n",
              "  <thead>\n",
              "    <tr style=\"text-align: right;\">\n",
              "      <th></th>\n",
              "      <th>Accuracy</th>\n",
              "      <th>Recall</th>\n",
              "      <th>Precision</th>\n",
              "      <th>F1</th>\n",
              "    </tr>\n",
              "  </thead>\n",
              "  <tbody>\n",
              "    <tr>\n",
              "      <th>0</th>\n",
              "      <td>0.892</td>\n",
              "      <td>0.706739</td>\n",
              "      <td>0.860801</td>\n",
              "      <td>0.776199</td>\n",
              "    </tr>\n",
              "  </tbody>\n",
              "</table>\n",
              "</div>\n",
              "      <button class=\"colab-df-convert\" onclick=\"convertToInteractive('df-b01bfb88-e649-48e1-99de-9d8f0b0994a0')\"\n",
              "              title=\"Convert this dataframe to an interactive table.\"\n",
              "              style=\"display:none;\">\n",
              "        \n",
              "  <svg xmlns=\"http://www.w3.org/2000/svg\" height=\"24px\"viewBox=\"0 0 24 24\"\n",
              "       width=\"24px\">\n",
              "    <path d=\"M0 0h24v24H0V0z\" fill=\"none\"/>\n",
              "    <path d=\"M18.56 5.44l.94 2.06.94-2.06 2.06-.94-2.06-.94-.94-2.06-.94 2.06-2.06.94zm-11 1L8.5 8.5l.94-2.06 2.06-.94-2.06-.94L8.5 2.5l-.94 2.06-2.06.94zm10 10l.94 2.06.94-2.06 2.06-.94-2.06-.94-.94-2.06-.94 2.06-2.06.94z\"/><path d=\"M17.41 7.96l-1.37-1.37c-.4-.4-.92-.59-1.43-.59-.52 0-1.04.2-1.43.59L10.3 9.45l-7.72 7.72c-.78.78-.78 2.05 0 2.83L4 21.41c.39.39.9.59 1.41.59.51 0 1.02-.2 1.41-.59l7.78-7.78 2.81-2.81c.8-.78.8-2.07 0-2.86zM5.41 20L4 18.59l7.72-7.72 1.47 1.35L5.41 20z\"/>\n",
              "  </svg>\n",
              "      </button>\n",
              "      \n",
              "  <style>\n",
              "    .colab-df-container {\n",
              "      display:flex;\n",
              "      flex-wrap:wrap;\n",
              "      gap: 12px;\n",
              "    }\n",
              "\n",
              "    .colab-df-convert {\n",
              "      background-color: #E8F0FE;\n",
              "      border: none;\n",
              "      border-radius: 50%;\n",
              "      cursor: pointer;\n",
              "      display: none;\n",
              "      fill: #1967D2;\n",
              "      height: 32px;\n",
              "      padding: 0 0 0 0;\n",
              "      width: 32px;\n",
              "    }\n",
              "\n",
              "    .colab-df-convert:hover {\n",
              "      background-color: #E2EBFA;\n",
              "      box-shadow: 0px 1px 2px rgba(60, 64, 67, 0.3), 0px 1px 3px 1px rgba(60, 64, 67, 0.15);\n",
              "      fill: #174EA6;\n",
              "    }\n",
              "\n",
              "    [theme=dark] .colab-df-convert {\n",
              "      background-color: #3B4455;\n",
              "      fill: #D2E3FC;\n",
              "    }\n",
              "\n",
              "    [theme=dark] .colab-df-convert:hover {\n",
              "      background-color: #434B5C;\n",
              "      box-shadow: 0px 1px 3px 1px rgba(0, 0, 0, 0.15);\n",
              "      filter: drop-shadow(0px 1px 2px rgba(0, 0, 0, 0.3));\n",
              "      fill: #FFFFFF;\n",
              "    }\n",
              "  </style>\n",
              "\n",
              "      <script>\n",
              "        const buttonEl =\n",
              "          document.querySelector('#df-b01bfb88-e649-48e1-99de-9d8f0b0994a0 button.colab-df-convert');\n",
              "        buttonEl.style.display =\n",
              "          google.colab.kernel.accessAllowed ? 'block' : 'none';\n",
              "\n",
              "        async function convertToInteractive(key) {\n",
              "          const element = document.querySelector('#df-b01bfb88-e649-48e1-99de-9d8f0b0994a0');\n",
              "          const dataTable =\n",
              "            await google.colab.kernel.invokeFunction('convertToInteractive',\n",
              "                                                     [key], {});\n",
              "          if (!dataTable) return;\n",
              "\n",
              "          const docLinkHtml = 'Like what you see? Visit the ' +\n",
              "            '<a target=\"_blank\" href=https://colab.research.google.com/notebooks/data_table.ipynb>data table notebook</a>'\n",
              "            + ' to learn more about interactive tables.';\n",
              "          element.innerHTML = '';\n",
              "          dataTable['output_type'] = 'display_data';\n",
              "          await google.colab.output.renderOutput(dataTable, element);\n",
              "          const docLink = document.createElement('div');\n",
              "          docLink.innerHTML = docLinkHtml;\n",
              "          element.appendChild(docLink);\n",
              "        }\n",
              "      </script>\n",
              "    </div>\n",
              "  </div>\n",
              "  "
            ]
          },
          "metadata": {},
          "execution_count": 35
        }
      ]
    },
    {
      "cell_type": "code",
      "source": [
        "# Test set performance\n",
        "knn_model_test_perf = model_performance_classification_sklearn_with_threshold(\n",
        "    knn2, scaled_X_test, y_test\n",
        ")\n",
        "\n",
        "print(\"Test set performance:\")\n",
        "knn_model_test_perf"
      ],
      "metadata": {
        "colab": {
          "base_uri": "https://localhost:8080/",
          "height": 99
        },
        "id": "I8xXHoWO7Bao",
        "outputId": "966938ca-976d-4ccd-ad8a-57c06031988d"
      },
      "execution_count": 36,
      "outputs": [
        {
          "output_type": "stream",
          "name": "stdout",
          "text": [
            "Test set performance:\n"
          ]
        },
        {
          "output_type": "execute_result",
          "data": {
            "text/plain": [
              "   Accuracy    Recall  Precision        F1\n",
              "0  0.829333  0.597484   0.712144  0.649795"
            ],
            "text/html": [
              "\n",
              "  <div id=\"df-9a66f4eb-6d52-496a-b0ef-8cc977069b45\">\n",
              "    <div class=\"colab-df-container\">\n",
              "      <div>\n",
              "<style scoped>\n",
              "    .dataframe tbody tr th:only-of-type {\n",
              "        vertical-align: middle;\n",
              "    }\n",
              "\n",
              "    .dataframe tbody tr th {\n",
              "        vertical-align: top;\n",
              "    }\n",
              "\n",
              "    .dataframe thead th {\n",
              "        text-align: right;\n",
              "    }\n",
              "</style>\n",
              "<table border=\"1\" class=\"dataframe\">\n",
              "  <thead>\n",
              "    <tr style=\"text-align: right;\">\n",
              "      <th></th>\n",
              "      <th>Accuracy</th>\n",
              "      <th>Recall</th>\n",
              "      <th>Precision</th>\n",
              "      <th>F1</th>\n",
              "    </tr>\n",
              "  </thead>\n",
              "  <tbody>\n",
              "    <tr>\n",
              "      <th>0</th>\n",
              "      <td>0.829333</td>\n",
              "      <td>0.597484</td>\n",
              "      <td>0.712144</td>\n",
              "      <td>0.649795</td>\n",
              "    </tr>\n",
              "  </tbody>\n",
              "</table>\n",
              "</div>\n",
              "      <button class=\"colab-df-convert\" onclick=\"convertToInteractive('df-9a66f4eb-6d52-496a-b0ef-8cc977069b45')\"\n",
              "              title=\"Convert this dataframe to an interactive table.\"\n",
              "              style=\"display:none;\">\n",
              "        \n",
              "  <svg xmlns=\"http://www.w3.org/2000/svg\" height=\"24px\"viewBox=\"0 0 24 24\"\n",
              "       width=\"24px\">\n",
              "    <path d=\"M0 0h24v24H0V0z\" fill=\"none\"/>\n",
              "    <path d=\"M18.56 5.44l.94 2.06.94-2.06 2.06-.94-2.06-.94-.94-2.06-.94 2.06-2.06.94zm-11 1L8.5 8.5l.94-2.06 2.06-.94-2.06-.94L8.5 2.5l-.94 2.06-2.06.94zm10 10l.94 2.06.94-2.06 2.06-.94-2.06-.94-.94-2.06-.94 2.06-2.06.94z\"/><path d=\"M17.41 7.96l-1.37-1.37c-.4-.4-.92-.59-1.43-.59-.52 0-1.04.2-1.43.59L10.3 9.45l-7.72 7.72c-.78.78-.78 2.05 0 2.83L4 21.41c.39.39.9.59 1.41.59.51 0 1.02-.2 1.41-.59l7.78-7.78 2.81-2.81c.8-.78.8-2.07 0-2.86zM5.41 20L4 18.59l7.72-7.72 1.47 1.35L5.41 20z\"/>\n",
              "  </svg>\n",
              "      </button>\n",
              "      \n",
              "  <style>\n",
              "    .colab-df-container {\n",
              "      display:flex;\n",
              "      flex-wrap:wrap;\n",
              "      gap: 12px;\n",
              "    }\n",
              "\n",
              "    .colab-df-convert {\n",
              "      background-color: #E8F0FE;\n",
              "      border: none;\n",
              "      border-radius: 50%;\n",
              "      cursor: pointer;\n",
              "      display: none;\n",
              "      fill: #1967D2;\n",
              "      height: 32px;\n",
              "      padding: 0 0 0 0;\n",
              "      width: 32px;\n",
              "    }\n",
              "\n",
              "    .colab-df-convert:hover {\n",
              "      background-color: #E2EBFA;\n",
              "      box-shadow: 0px 1px 2px rgba(60, 64, 67, 0.3), 0px 1px 3px 1px rgba(60, 64, 67, 0.15);\n",
              "      fill: #174EA6;\n",
              "    }\n",
              "\n",
              "    [theme=dark] .colab-df-convert {\n",
              "      background-color: #3B4455;\n",
              "      fill: #D2E3FC;\n",
              "    }\n",
              "\n",
              "    [theme=dark] .colab-df-convert:hover {\n",
              "      background-color: #434B5C;\n",
              "      box-shadow: 0px 1px 3px 1px rgba(0, 0, 0, 0.15);\n",
              "      filter: drop-shadow(0px 1px 2px rgba(0, 0, 0, 0.3));\n",
              "      fill: #FFFFFF;\n",
              "    }\n",
              "  </style>\n",
              "\n",
              "      <script>\n",
              "        const buttonEl =\n",
              "          document.querySelector('#df-9a66f4eb-6d52-496a-b0ef-8cc977069b45 button.colab-df-convert');\n",
              "        buttonEl.style.display =\n",
              "          google.colab.kernel.accessAllowed ? 'block' : 'none';\n",
              "\n",
              "        async function convertToInteractive(key) {\n",
              "          const element = document.querySelector('#df-9a66f4eb-6d52-496a-b0ef-8cc977069b45');\n",
              "          const dataTable =\n",
              "            await google.colab.kernel.invokeFunction('convertToInteractive',\n",
              "                                                     [key], {});\n",
              "          if (!dataTable) return;\n",
              "\n",
              "          const docLinkHtml = 'Like what you see? Visit the ' +\n",
              "            '<a target=\"_blank\" href=https://colab.research.google.com/notebooks/data_table.ipynb>data table notebook</a>'\n",
              "            + ' to learn more about interactive tables.';\n",
              "          element.innerHTML = '';\n",
              "          dataTable['output_type'] = 'display_data';\n",
              "          await google.colab.output.renderOutput(dataTable, element);\n",
              "          const docLink = document.createElement('div');\n",
              "          docLink.innerHTML = docLinkHtml;\n",
              "          element.appendChild(docLink);\n",
              "        }\n",
              "      </script>\n",
              "    </div>\n",
              "  </div>\n",
              "  "
            ]
          },
          "metadata": {},
          "execution_count": 36
        }
      ]
    },
    {
      "cell_type": "code",
      "source": [],
      "metadata": {
        "id": "KzZGvyNu7BIf"
      },
      "execution_count": 36,
      "outputs": []
    },
    {
      "cell_type": "markdown",
      "source": [
        "## Finding k with cross-validation using GridSearchCV "
      ],
      "metadata": {
        "id": "fzMQPyIpyl3C"
      }
    },
    {
      "cell_type": "code",
      "source": [
        "\n",
        "# Pipeline for gridsearch and cross validation\n",
        "#setting the scaller\n",
        "scaler2 = StandardScaler()\n",
        "\n",
        "#setting the knn model\n",
        "knn3 = KNeighborsClassifier()\n",
        "\n",
        "# our operations\n",
        "operations = [('scaler2', scaler2), ('knn3', knn3)]\n",
        "\n"
      ],
      "metadata": {
        "id": "JQfm8gBQx03P"
      },
      "execution_count": 37,
      "outputs": []
    },
    {
      "cell_type": "code",
      "source": [
        "pipe = Pipeline(operations)"
      ],
      "metadata": {
        "id": "SslFLB115JIr"
      },
      "execution_count": 39,
      "outputs": []
    },
    {
      "cell_type": "code",
      "source": [
        "k_values = list(range(1,20))"
      ],
      "metadata": {
        "id": "04pDfnGl5f9p"
      },
      "execution_count": 40,
      "outputs": []
    },
    {
      "cell_type": "code",
      "source": [
        "param_grid = {'knn3__n_neighbors':k_values}"
      ],
      "metadata": {
        "id": "TgTIXEDI5r3h"
      },
      "execution_count": 41,
      "outputs": []
    },
    {
      "cell_type": "code",
      "source": [
        "full_knn_cv_classifier = GridSearchCV(pipe,param_grid, cv =5, scoring='accuracy')"
      ],
      "metadata": {
        "id": "2IgtSXsL6v1h"
      },
      "execution_count": 42,
      "outputs": []
    },
    {
      "cell_type": "code",
      "source": [
        "full_knn_cv_classifier.fit(X_train,y_train)"
      ],
      "metadata": {
        "colab": {
          "base_uri": "https://localhost:8080/"
        },
        "id": "Lc7LlnVy7Gej",
        "outputId": "d22605fd-193e-4fa1-a5c8-8a23ed6a1e8a"
      },
      "execution_count": 43,
      "outputs": [
        {
          "output_type": "execute_result",
          "data": {
            "text/plain": [
              "GridSearchCV(cv=5,\n",
              "             estimator=Pipeline(steps=[('scaler2', StandardScaler()),\n",
              "                                       ('knn3', KNeighborsClassifier())]),\n",
              "             param_grid={'knn3__n_neighbors': [1, 2, 3, 4, 5, 6, 7, 8, 9, 10,\n",
              "                                               11, 12, 13, 14, 15, 16, 17, 18,\n",
              "                                               19]},\n",
              "             scoring='accuracy')"
            ]
          },
          "metadata": {},
          "execution_count": 43
        }
      ]
    },
    {
      "cell_type": "code",
      "source": [
        "full_knn_cv_classifier.best_estimator_.get_params()"
      ],
      "metadata": {
        "colab": {
          "base_uri": "https://localhost:8080/"
        },
        "id": "B1PyQC8q7SWZ",
        "outputId": "7bd98512-357c-416b-964f-962417b91ac8"
      },
      "execution_count": 44,
      "outputs": [
        {
          "output_type": "execute_result",
          "data": {
            "text/plain": [
              "{'memory': None,\n",
              " 'steps': [('scaler2', StandardScaler()),\n",
              "  ('knn3', KNeighborsClassifier(n_neighbors=13))],\n",
              " 'verbose': False,\n",
              " 'scaler2': StandardScaler(),\n",
              " 'knn3': KNeighborsClassifier(n_neighbors=13),\n",
              " 'scaler2__copy': True,\n",
              " 'scaler2__with_mean': True,\n",
              " 'scaler2__with_std': True,\n",
              " 'knn3__algorithm': 'auto',\n",
              " 'knn3__leaf_size': 30,\n",
              " 'knn3__metric': 'minkowski',\n",
              " 'knn3__metric_params': None,\n",
              " 'knn3__n_jobs': None,\n",
              " 'knn3__n_neighbors': 13,\n",
              " 'knn3__p': 2,\n",
              " 'knn3__weights': 'uniform'}"
            ]
          },
          "metadata": {},
          "execution_count": 44
        }
      ]
    },
    {
      "cell_type": "code",
      "source": [
        "knn_model_train_perf = model_performance_classification_sklearn_with_threshold(\n",
        "    full_knn_cv_classifier, X_train, y_train\n",
        ")\n",
        "\n",
        "print(\"Training performance:\")\n",
        "knn_model_train_perf"
      ],
      "metadata": {
        "colab": {
          "base_uri": "https://localhost:8080/",
          "height": 99
        },
        "id": "8njBdFjz9sxV",
        "outputId": "8d602ce8-c9f6-4452-ff2e-489030f4ccc1"
      },
      "execution_count": 45,
      "outputs": [
        {
          "output_type": "stream",
          "name": "stdout",
          "text": [
            "Training performance:\n"
          ]
        },
        {
          "output_type": "execute_result",
          "data": {
            "text/plain": [
              "   Accuracy    Recall  Precision       F1\n",
              "0  0.872286  0.609164     0.8699  0.71655"
            ],
            "text/html": [
              "\n",
              "  <div id=\"df-16a602f3-12db-4cfa-a38e-f8e929621f1f\">\n",
              "    <div class=\"colab-df-container\">\n",
              "      <div>\n",
              "<style scoped>\n",
              "    .dataframe tbody tr th:only-of-type {\n",
              "        vertical-align: middle;\n",
              "    }\n",
              "\n",
              "    .dataframe tbody tr th {\n",
              "        vertical-align: top;\n",
              "    }\n",
              "\n",
              "    .dataframe thead th {\n",
              "        text-align: right;\n",
              "    }\n",
              "</style>\n",
              "<table border=\"1\" class=\"dataframe\">\n",
              "  <thead>\n",
              "    <tr style=\"text-align: right;\">\n",
              "      <th></th>\n",
              "      <th>Accuracy</th>\n",
              "      <th>Recall</th>\n",
              "      <th>Precision</th>\n",
              "      <th>F1</th>\n",
              "    </tr>\n",
              "  </thead>\n",
              "  <tbody>\n",
              "    <tr>\n",
              "      <th>0</th>\n",
              "      <td>0.872286</td>\n",
              "      <td>0.609164</td>\n",
              "      <td>0.8699</td>\n",
              "      <td>0.71655</td>\n",
              "    </tr>\n",
              "  </tbody>\n",
              "</table>\n",
              "</div>\n",
              "      <button class=\"colab-df-convert\" onclick=\"convertToInteractive('df-16a602f3-12db-4cfa-a38e-f8e929621f1f')\"\n",
              "              title=\"Convert this dataframe to an interactive table.\"\n",
              "              style=\"display:none;\">\n",
              "        \n",
              "  <svg xmlns=\"http://www.w3.org/2000/svg\" height=\"24px\"viewBox=\"0 0 24 24\"\n",
              "       width=\"24px\">\n",
              "    <path d=\"M0 0h24v24H0V0z\" fill=\"none\"/>\n",
              "    <path d=\"M18.56 5.44l.94 2.06.94-2.06 2.06-.94-2.06-.94-.94-2.06-.94 2.06-2.06.94zm-11 1L8.5 8.5l.94-2.06 2.06-.94-2.06-.94L8.5 2.5l-.94 2.06-2.06.94zm10 10l.94 2.06.94-2.06 2.06-.94-2.06-.94-.94-2.06-.94 2.06-2.06.94z\"/><path d=\"M17.41 7.96l-1.37-1.37c-.4-.4-.92-.59-1.43-.59-.52 0-1.04.2-1.43.59L10.3 9.45l-7.72 7.72c-.78.78-.78 2.05 0 2.83L4 21.41c.39.39.9.59 1.41.59.51 0 1.02-.2 1.41-.59l7.78-7.78 2.81-2.81c.8-.78.8-2.07 0-2.86zM5.41 20L4 18.59l7.72-7.72 1.47 1.35L5.41 20z\"/>\n",
              "  </svg>\n",
              "      </button>\n",
              "      \n",
              "  <style>\n",
              "    .colab-df-container {\n",
              "      display:flex;\n",
              "      flex-wrap:wrap;\n",
              "      gap: 12px;\n",
              "    }\n",
              "\n",
              "    .colab-df-convert {\n",
              "      background-color: #E8F0FE;\n",
              "      border: none;\n",
              "      border-radius: 50%;\n",
              "      cursor: pointer;\n",
              "      display: none;\n",
              "      fill: #1967D2;\n",
              "      height: 32px;\n",
              "      padding: 0 0 0 0;\n",
              "      width: 32px;\n",
              "    }\n",
              "\n",
              "    .colab-df-convert:hover {\n",
              "      background-color: #E2EBFA;\n",
              "      box-shadow: 0px 1px 2px rgba(60, 64, 67, 0.3), 0px 1px 3px 1px rgba(60, 64, 67, 0.15);\n",
              "      fill: #174EA6;\n",
              "    }\n",
              "\n",
              "    [theme=dark] .colab-df-convert {\n",
              "      background-color: #3B4455;\n",
              "      fill: #D2E3FC;\n",
              "    }\n",
              "\n",
              "    [theme=dark] .colab-df-convert:hover {\n",
              "      background-color: #434B5C;\n",
              "      box-shadow: 0px 1px 3px 1px rgba(0, 0, 0, 0.15);\n",
              "      filter: drop-shadow(0px 1px 2px rgba(0, 0, 0, 0.3));\n",
              "      fill: #FFFFFF;\n",
              "    }\n",
              "  </style>\n",
              "\n",
              "      <script>\n",
              "        const buttonEl =\n",
              "          document.querySelector('#df-16a602f3-12db-4cfa-a38e-f8e929621f1f button.colab-df-convert');\n",
              "        buttonEl.style.display =\n",
              "          google.colab.kernel.accessAllowed ? 'block' : 'none';\n",
              "\n",
              "        async function convertToInteractive(key) {\n",
              "          const element = document.querySelector('#df-16a602f3-12db-4cfa-a38e-f8e929621f1f');\n",
              "          const dataTable =\n",
              "            await google.colab.kernel.invokeFunction('convertToInteractive',\n",
              "                                                     [key], {});\n",
              "          if (!dataTable) return;\n",
              "\n",
              "          const docLinkHtml = 'Like what you see? Visit the ' +\n",
              "            '<a target=\"_blank\" href=https://colab.research.google.com/notebooks/data_table.ipynb>data table notebook</a>'\n",
              "            + ' to learn more about interactive tables.';\n",
              "          element.innerHTML = '';\n",
              "          dataTable['output_type'] = 'display_data';\n",
              "          await google.colab.output.renderOutput(dataTable, element);\n",
              "          const docLink = document.createElement('div');\n",
              "          docLink.innerHTML = docLinkHtml;\n",
              "          element.appendChild(docLink);\n",
              "        }\n",
              "      </script>\n",
              "    </div>\n",
              "  </div>\n",
              "  "
            ]
          },
          "metadata": {},
          "execution_count": 45
        }
      ]
    },
    {
      "cell_type": "code",
      "source": [
        "knn_model_train_perf = model_performance_classification_sklearn_with_threshold(\n",
        "    full_knn_cv_classifier, X_test, y_test\n",
        ")\n",
        "\n",
        "print(\"Test set performance:\")\n",
        "knn_model_train_perf"
      ],
      "metadata": {
        "colab": {
          "base_uri": "https://localhost:8080/",
          "height": 99
        },
        "id": "jP87PPZb-idq",
        "outputId": "04fe6cf6-599e-4c66-be62-91b6897332b2"
      },
      "execution_count": 46,
      "outputs": [
        {
          "output_type": "stream",
          "name": "stdout",
          "text": [
            "Test set performance:\n"
          ]
        },
        {
          "output_type": "execute_result",
          "data": {
            "text/plain": [
              "   Accuracy    Recall  Precision        F1\n",
              "0     0.839  0.530818   0.793233  0.636021"
            ],
            "text/html": [
              "\n",
              "  <div id=\"df-dfae6620-04e2-429a-a028-2d0f8b3c0f3b\">\n",
              "    <div class=\"colab-df-container\">\n",
              "      <div>\n",
              "<style scoped>\n",
              "    .dataframe tbody tr th:only-of-type {\n",
              "        vertical-align: middle;\n",
              "    }\n",
              "\n",
              "    .dataframe tbody tr th {\n",
              "        vertical-align: top;\n",
              "    }\n",
              "\n",
              "    .dataframe thead th {\n",
              "        text-align: right;\n",
              "    }\n",
              "</style>\n",
              "<table border=\"1\" class=\"dataframe\">\n",
              "  <thead>\n",
              "    <tr style=\"text-align: right;\">\n",
              "      <th></th>\n",
              "      <th>Accuracy</th>\n",
              "      <th>Recall</th>\n",
              "      <th>Precision</th>\n",
              "      <th>F1</th>\n",
              "    </tr>\n",
              "  </thead>\n",
              "  <tbody>\n",
              "    <tr>\n",
              "      <th>0</th>\n",
              "      <td>0.839</td>\n",
              "      <td>0.530818</td>\n",
              "      <td>0.793233</td>\n",
              "      <td>0.636021</td>\n",
              "    </tr>\n",
              "  </tbody>\n",
              "</table>\n",
              "</div>\n",
              "      <button class=\"colab-df-convert\" onclick=\"convertToInteractive('df-dfae6620-04e2-429a-a028-2d0f8b3c0f3b')\"\n",
              "              title=\"Convert this dataframe to an interactive table.\"\n",
              "              style=\"display:none;\">\n",
              "        \n",
              "  <svg xmlns=\"http://www.w3.org/2000/svg\" height=\"24px\"viewBox=\"0 0 24 24\"\n",
              "       width=\"24px\">\n",
              "    <path d=\"M0 0h24v24H0V0z\" fill=\"none\"/>\n",
              "    <path d=\"M18.56 5.44l.94 2.06.94-2.06 2.06-.94-2.06-.94-.94-2.06-.94 2.06-2.06.94zm-11 1L8.5 8.5l.94-2.06 2.06-.94-2.06-.94L8.5 2.5l-.94 2.06-2.06.94zm10 10l.94 2.06.94-2.06 2.06-.94-2.06-.94-.94-2.06-.94 2.06-2.06.94z\"/><path d=\"M17.41 7.96l-1.37-1.37c-.4-.4-.92-.59-1.43-.59-.52 0-1.04.2-1.43.59L10.3 9.45l-7.72 7.72c-.78.78-.78 2.05 0 2.83L4 21.41c.39.39.9.59 1.41.59.51 0 1.02-.2 1.41-.59l7.78-7.78 2.81-2.81c.8-.78.8-2.07 0-2.86zM5.41 20L4 18.59l7.72-7.72 1.47 1.35L5.41 20z\"/>\n",
              "  </svg>\n",
              "      </button>\n",
              "      \n",
              "  <style>\n",
              "    .colab-df-container {\n",
              "      display:flex;\n",
              "      flex-wrap:wrap;\n",
              "      gap: 12px;\n",
              "    }\n",
              "\n",
              "    .colab-df-convert {\n",
              "      background-color: #E8F0FE;\n",
              "      border: none;\n",
              "      border-radius: 50%;\n",
              "      cursor: pointer;\n",
              "      display: none;\n",
              "      fill: #1967D2;\n",
              "      height: 32px;\n",
              "      padding: 0 0 0 0;\n",
              "      width: 32px;\n",
              "    }\n",
              "\n",
              "    .colab-df-convert:hover {\n",
              "      background-color: #E2EBFA;\n",
              "      box-shadow: 0px 1px 2px rgba(60, 64, 67, 0.3), 0px 1px 3px 1px rgba(60, 64, 67, 0.15);\n",
              "      fill: #174EA6;\n",
              "    }\n",
              "\n",
              "    [theme=dark] .colab-df-convert {\n",
              "      background-color: #3B4455;\n",
              "      fill: #D2E3FC;\n",
              "    }\n",
              "\n",
              "    [theme=dark] .colab-df-convert:hover {\n",
              "      background-color: #434B5C;\n",
              "      box-shadow: 0px 1px 3px 1px rgba(0, 0, 0, 0.15);\n",
              "      filter: drop-shadow(0px 1px 2px rgba(0, 0, 0, 0.3));\n",
              "      fill: #FFFFFF;\n",
              "    }\n",
              "  </style>\n",
              "\n",
              "      <script>\n",
              "        const buttonEl =\n",
              "          document.querySelector('#df-dfae6620-04e2-429a-a028-2d0f8b3c0f3b button.colab-df-convert');\n",
              "        buttonEl.style.display =\n",
              "          google.colab.kernel.accessAllowed ? 'block' : 'none';\n",
              "\n",
              "        async function convertToInteractive(key) {\n",
              "          const element = document.querySelector('#df-dfae6620-04e2-429a-a028-2d0f8b3c0f3b');\n",
              "          const dataTable =\n",
              "            await google.colab.kernel.invokeFunction('convertToInteractive',\n",
              "                                                     [key], {});\n",
              "          if (!dataTable) return;\n",
              "\n",
              "          const docLinkHtml = 'Like what you see? Visit the ' +\n",
              "            '<a target=\"_blank\" href=https://colab.research.google.com/notebooks/data_table.ipynb>data table notebook</a>'\n",
              "            + ' to learn more about interactive tables.';\n",
              "          element.innerHTML = '';\n",
              "          dataTable['output_type'] = 'display_data';\n",
              "          await google.colab.output.renderOutput(dataTable, element);\n",
              "          const docLink = document.createElement('div');\n",
              "          docLink.innerHTML = docLinkHtml;\n",
              "          element.appendChild(docLink);\n",
              "        }\n",
              "      </script>\n",
              "    </div>\n",
              "  </div>\n",
              "  "
            ]
          },
          "metadata": {},
          "execution_count": 46
        }
      ]
    },
    {
      "cell_type": "code",
      "source": [
        "# creating confusion matrix\n",
        "confusion_matrix_sklearn_with_threshold(full_knn_cv_classifier, X_test, y_test)"
      ],
      "metadata": {
        "id": "mpbCxWDZ_UEx",
        "colab": {
          "base_uri": "https://localhost:8080/",
          "height": 279
        },
        "outputId": "068fe705-32be-4396-b7f5-c0a5ba54356a"
      },
      "execution_count": 47,
      "outputs": [
        {
          "output_type": "display_data",
          "data": {
            "text/plain": [
              "<Figure size 432x288 with 2 Axes>"
            ],
            "image/png": "[encoded data removed]"
          },
          "metadata": {
            "needs_background": "light"
          }
        }
      ]
    },
    {
      "cell_type": "code",
      "source": [
        "pred_prob1 = knn.predict(scaled_X_test)\n",
        "pred_prob2 = knn2.predict(scaled_X_test)\n",
        "pred_prob3 = full_knn_cv_classifier.predict(X_test)\n"
      ],
      "metadata": {
        "id": "BGdnTaHFA516"
      },
      "execution_count": 48,
      "outputs": []
    },
    {
      "cell_type": "code",
      "source": [
        "# Find fpr, tpr and threshold values\n",
        "fpr1, tpr1, thresholds1 = roc_curve(y_test, knn.predict_proba(scaled_X_test)[:, 1], pos_label=1)\n",
        "fpr2, tpr2, thresholds2 = roc_curve(y_test, knn2.predict_proba(scaled_X_test)[:, 1], pos_label=1)\n",
        "fpr3, tpr3, thresholds3 = roc_curve(y_test, full_knn_cv_classifier.predict_proba(X_test)[:, 1], pos_label=1)\n",
        "#ROC CURVE FOR TPR = FPR \n",
        "random_probs = [0 for i in range(len(y_test))]\n",
        "p_fpr, p_tpr, _ = roc_curve(y_test, random_probs, pos_label=1)"
      ],
      "metadata": {
        "id": "GVCl4MrgZUEz"
      },
      "execution_count": 49,
      "outputs": []
    },
    {
      "cell_type": "code",
      "source": [
        "# AUC scores for the three models\n",
        "auc_score1 = roc_auc_score(y_test,knn.predict_proba(scaled_X_test)[:, 1])\n",
        "auc_score2 = roc_auc_score(y_test,knn2.predict_proba(scaled_X_test)[:, 1])\n",
        "auc_score3 = roc_auc_score(y_test,full_knn_cv_classifier.predict_proba(X_test)[:, 1])\n",
        "\n",
        "\n",
        "print(auc_score1,auc_score2,auc_score3)"
      ],
      "metadata": {
        "colab": {
          "base_uri": "https://localhost:8080/"
        },
        "id": "ZGoWXCrObJJv",
        "outputId": "e893e1a8-cc5f-4fda-a782-e7fef985a140"
      },
      "execution_count": 50,
      "outputs": [
        {
          "output_type": "stream",
          "name": "stdout",
          "text": [
            "0.9197629743721388 0.8583199988590824 0.9050040645188893\n"
          ]
        }
      ]
    },
    {
      "cell_type": "code",
      "source": [
        "plt.figure(figsize=(12, 7))\n",
        "plt.plot(fpr1, tpr1, linestyle= '--', color= 'red', label = 'KNN k-value 3 (area = %0.2f)' % auc_score1 )\n",
        "plt.plot(fpr2, tpr2, linestyle= '--', color= 'orange', label = ' KNN Kvalue 5 (area = %0.2f)' % auc_score2 )\n",
        "plt.plot(fpr3, tpr3, linestyle= '--', color= 'green', label = ' KNN Kvalue 13 (area = %0.2f)' % auc_score3 )\n",
        "plt.plot(p_fpr, p_tpr, linestyle= '--', color= 'blue')\n",
        " \n",
        "plt.xlabel(\"False Positive Rate\")\n",
        "plt.ylabel(\"True Positive Rate\")\n",
        "plt.title(\"ROC CURVE\")\n",
        "plt.legend(loc=\"best\")\n",
        "plt.show()"
      ],
      "metadata": {
        "colab": {
          "base_uri": "https://localhost:8080/",
          "height": 458
        },
        "id": "JOTKbKbodZ_D",
        "outputId": "65e240ad-7dc2-4596-9db7-6f3af20473e5"
      },
      "execution_count": 51,
      "outputs": [
        {
          "output_type": "display_data",
          "data": {
            "text/plain": [
              "<Figure size 864x504 with 1 Axes>"
            ],
            "image/png": "[encoded data removed]"
          },
          "metadata": {
            "needs_background": "light"
          }
        }
      ]
    },
    {
      "cell_type": "code",
      "source": [],
      "metadata": {
        "id": "3cngkz-nLsUX"
      },
      "execution_count": 51,
      "outputs": []
    }
  ]
}