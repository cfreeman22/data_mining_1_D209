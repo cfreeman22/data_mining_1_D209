{
  "nbformat": 4,
  "nbformat_minor": 0,
  "metadata": {
    "colab": {
      "provenance": [],
      "authorship_tag": "ABX9TyPkvIwaXMcno8A+3yl0cmR9",
      "include_colab_link": true
    },
    "kernelspec": {
      "name": "python3",
      "display_name": "Python 3"
    },
    "language_info": {
      "name": "python"
    }
  },
  "cells": [
    {
      "cell_type": "markdown",
      "metadata": {
        "id": "view-in-github",
        "colab_type": "text"
      },
      "source": [
        "<a href=\"https://colab.research.google.com/github/cfreeman22/data_mining_1_D209/blob/main/D209_data_mining1_task1.ipynb\" target=\"_parent\"><img src=\"https://colab.research.google.com/assets/colab-badge.svg\" alt=\"Open In Colab\"/></a>"
      ]
    },
    {
      "cell_type": "code",
      "execution_count": 1,
      "metadata": {
        "id": "7GyqO4W_m3Z_"
      },
      "outputs": [],
      "source": [
        "# Libraries to help with reading and manipulating data\n",
        "import numpy as np\n",
        "import pandas as pd\n",
        "\n",
        "# Libraries to help with data visualization\n",
        "import matplotlib.pyplot as plt\n",
        "import seaborn as sns"
      ]
    },
    {
      "cell_type": "code",
      "source": [
        "#reading the data\n",
        "from google.colab import drive\n",
        "drive.mount('/content/drive')"
      ],
      "metadata": {
        "colab": {
          "base_uri": "https://localhost:8080/"
        },
        "id": "fE28wTPMnxsE",
        "outputId": "94fdd6a9-27c4-42d2-c71d-212a9d85e61b"
      },
      "execution_count": 2,
      "outputs": [
        {
          "output_type": "stream",
          "name": "stdout",
          "text": [
            "Mounted at /content/drive\n"
          ]
        }
      ]
    },
    {
      "cell_type": "code",
      "source": [
        "#Reading the data from my google drive.\n",
        "df = pd.read_csv('/content/drive/My Drive/churn_clean.csv')"
      ],
      "metadata": {
        "id": "s_ZWb3Hjnxoi"
      },
      "execution_count": 3,
      "outputs": []
    },
    {
      "cell_type": "code",
      "source": [
        "df.info()"
      ],
      "metadata": {
        "colab": {
          "base_uri": "https://localhost:8080/"
        },
        "id": "LShg9Vlmnxkz",
        "outputId": "c85679cb-ea8f-45b2-c778-65aaf3a51c1d"
      },
      "execution_count": 4,
      "outputs": [
        {
          "output_type": "stream",
          "name": "stdout",
          "text": [
            "<class 'pandas.core.frame.DataFrame'>\n",
            "RangeIndex: 10000 entries, 0 to 9999\n",
            "Data columns (total 50 columns):\n",
            " #   Column                Non-Null Count  Dtype  \n",
            "---  ------                --------------  -----  \n",
            " 0   CaseOrder             10000 non-null  int64  \n",
            " 1   Customer_id           10000 non-null  object \n",
            " 2   Interaction           10000 non-null  object \n",
            " 3   UID                   10000 non-null  object \n",
            " 4   City                  10000 non-null  object \n",
            " 5   State                 10000 non-null  object \n",
            " 6   County                10000 non-null  object \n",
            " 7   Zip                   10000 non-null  int64  \n",
            " 8   Lat                   10000 non-null  float64\n",
            " 9   Lng                   10000 non-null  float64\n",
            " 10  Population            10000 non-null  int64  \n",
            " 11  Area                  10000 non-null  object \n",
            " 12  TimeZone              10000 non-null  object \n",
            " 13  Job                   10000 non-null  object \n",
            " 14  Children              10000 non-null  int64  \n",
            " 15  Age                   10000 non-null  int64  \n",
            " 16  Income                10000 non-null  float64\n",
            " 17  Marital               10000 non-null  object \n",
            " 18  Gender                10000 non-null  object \n",
            " 19  Churn                 10000 non-null  object \n",
            " 20  Outage_sec_perweek    10000 non-null  float64\n",
            " 21  Email                 10000 non-null  int64  \n",
            " 22  Contacts              10000 non-null  int64  \n",
            " 23  Yearly_equip_failure  10000 non-null  int64  \n",
            " 24  Techie                10000 non-null  object \n",
            " 25  Contract              10000 non-null  object \n",
            " 26  Port_modem            10000 non-null  object \n",
            " 27  Tablet                10000 non-null  object \n",
            " 28  InternetService       10000 non-null  object \n",
            " 29  Phone                 10000 non-null  object \n",
            " 30  Multiple              10000 non-null  object \n",
            " 31  OnlineSecurity        10000 non-null  object \n",
            " 32  OnlineBackup          10000 non-null  object \n",
            " 33  DeviceProtection      10000 non-null  object \n",
            " 34  TechSupport           10000 non-null  object \n",
            " 35  StreamingTV           10000 non-null  object \n",
            " 36  StreamingMovies       10000 non-null  object \n",
            " 37  PaperlessBilling      10000 non-null  object \n",
            " 38  PaymentMethod         10000 non-null  object \n",
            " 39  Tenure                10000 non-null  float64\n",
            " 40  MonthlyCharge         10000 non-null  float64\n",
            " 41  Bandwidth_GB_Year     10000 non-null  float64\n",
            " 42  Item1                 10000 non-null  int64  \n",
            " 43  Item2                 10000 non-null  int64  \n",
            " 44  Item3                 10000 non-null  int64  \n",
            " 45  Item4                 10000 non-null  int64  \n",
            " 46  Item5                 10000 non-null  int64  \n",
            " 47  Item6                 10000 non-null  int64  \n",
            " 48  Item7                 10000 non-null  int64  \n",
            " 49  Item8                 10000 non-null  int64  \n",
            "dtypes: float64(7), int64(16), object(27)\n",
            "memory usage: 3.8+ MB\n"
          ]
        }
      ]
    },
    {
      "cell_type": "code",
      "source": [],
      "metadata": {
        "id": "uYFpSmidoIOc"
      },
      "execution_count": null,
      "outputs": []
    }
  ]
}