{
  "nbformat": 4,
  "nbformat_minor": 0,
  "metadata": {
    "colab": {
      "provenance": [],
      "authorship_tag": "ABX9TyP6Gh7UsMy0wP0wXzo0Icai",
      "include_colab_link": true
    },
    "kernelspec": {
      "name": "python3",
      "display_name": "Python 3"
    },
    "language_info": {
      "name": "python"
    }
  },
  "cells": [
    {
      "cell_type": "markdown",
      "metadata": {
        "id": "view-in-github",
        "colab_type": "text"
      },
      "source": [
        "<a href=\"https://colab.research.google.com/github/cfreeman22/data_mining_1_D209/blob/main/D209_data_mining1_task1.ipynb\" target=\"_parent\"><img src=\"https://colab.research.google.com/assets/colab-badge.svg\" alt=\"Open In Colab\"/></a>"
      ]
    },
    {
      "cell_type": "code",
      "execution_count": 2,
      "metadata": {
        "id": "7GyqO4W_m3Z_"
      },
      "outputs": [],
      "source": [
        "# Libraries to help with reading and manipulating data\n",
        "import numpy as np\n",
        "import pandas as pd\n",
        "\n",
        "# Libraries to help with data visualization\n",
        "import matplotlib.pyplot as plt\n",
        "import seaborn as sns"
      ]
    },
    {
      "cell_type": "code",
      "source": [
        "#reading the data\n",
        "from google.colab import drive\n",
        "drive.mount('/content/drive')"
      ],
      "metadata": {
        "colab": {
          "base_uri": "https://localhost:8080/"
        },
        "id": "fE28wTPMnxsE",
        "outputId": "8757985f-17ad-4bf1-c059-d6c000f702cb"
      },
      "execution_count": 3,
      "outputs": [
        {
          "output_type": "stream",
          "name": "stdout",
          "text": [
            "Mounted at /content/drive\n"
          ]
        }
      ]
    },
    {
      "cell_type": "code",
      "source": [
        "#Reading the data from my google drive.\n",
        "df = pd.read_csv('/content/drive/My Drive/churn_clean.csv')"
      ],
      "metadata": {
        "id": "s_ZWb3Hjnxoi"
      },
      "execution_count": 4,
      "outputs": []
    },
    {
      "cell_type": "code",
      "source": [
        "df.info()"
      ],
      "metadata": {
        "colab": {
          "base_uri": "https://localhost:8080/"
        },
        "id": "LShg9Vlmnxkz",
        "outputId": "1aaf2472-2e0f-4947-a38b-aabe3bf76d53"
      },
      "execution_count": 5,
      "outputs": [
        {
          "output_type": "stream",
          "name": "stdout",
          "text": [
            "<class 'pandas.core.frame.DataFrame'>\n",
            "RangeIndex: 10000 entries, 0 to 9999\n",
            "Data columns (total 50 columns):\n",
            " #   Column                Non-Null Count  Dtype  \n",
            "---  ------                --------------  -----  \n",
            " 0   CaseOrder             10000 non-null  int64  \n",
            " 1   Customer_id           10000 non-null  object \n",
            " 2   Interaction           10000 non-null  object \n",
            " 3   UID                   10000 non-null  object \n",
            " 4   City                  10000 non-null  object \n",
            " 5   State                 10000 non-null  object \n",
            " 6   County                10000 non-null  object \n",
            " 7   Zip                   10000 non-null  int64  \n",
            " 8   Lat                   10000 non-null  float64\n",
            " 9   Lng                   10000 non-null  float64\n",
            " 10  Population            10000 non-null  int64  \n",
            " 11  Area                  10000 non-null  object \n",
            " 12  TimeZone              10000 non-null  object \n",
            " 13  Job                   10000 non-null  object \n",
            " 14  Children              10000 non-null  int64  \n",
            " 15  Age                   10000 non-null  int64  \n",
            " 16  Income                10000 non-null  float64\n",
            " 17  Marital               10000 non-null  object \n",
            " 18  Gender                10000 non-null  object \n",
            " 19  Churn                 10000 non-null  object \n",
            " 20  Outage_sec_perweek    10000 non-null  float64\n",
            " 21  Email                 10000 non-null  int64  \n",
            " 22  Contacts              10000 non-null  int64  \n",
            " 23  Yearly_equip_failure  10000 non-null  int64  \n",
            " 24  Techie                10000 non-null  object \n",
            " 25  Contract              10000 non-null  object \n",
            " 26  Port_modem            10000 non-null  object \n",
            " 27  Tablet                10000 non-null  object \n",
            " 28  InternetService       10000 non-null  object \n",
            " 29  Phone                 10000 non-null  object \n",
            " 30  Multiple              10000 non-null  object \n",
            " 31  OnlineSecurity        10000 non-null  object \n",
            " 32  OnlineBackup          10000 non-null  object \n",
            " 33  DeviceProtection      10000 non-null  object \n",
            " 34  TechSupport           10000 non-null  object \n",
            " 35  StreamingTV           10000 non-null  object \n",
            " 36  StreamingMovies       10000 non-null  object \n",
            " 37  PaperlessBilling      10000 non-null  object \n",
            " 38  PaymentMethod         10000 non-null  object \n",
            " 39  Tenure                10000 non-null  float64\n",
            " 40  MonthlyCharge         10000 non-null  float64\n",
            " 41  Bandwidth_GB_Year     10000 non-null  float64\n",
            " 42  Item1                 10000 non-null  int64  \n",
            " 43  Item2                 10000 non-null  int64  \n",
            " 44  Item3                 10000 non-null  int64  \n",
            " 45  Item4                 10000 non-null  int64  \n",
            " 46  Item5                 10000 non-null  int64  \n",
            " 47  Item6                 10000 non-null  int64  \n",
            " 48  Item7                 10000 non-null  int64  \n",
            " 49  Item8                 10000 non-null  int64  \n",
            "dtypes: float64(7), int64(16), object(27)\n",
            "memory usage: 3.8+ MB\n"
          ]
        }
      ]
    },
    {
      "cell_type": "code",
      "source": [
        "#target variables\n",
        "df.Contract.value_counts()"
      ],
      "metadata": {
        "colab": {
          "base_uri": "https://localhost:8080/"
        },
        "id": "uYFpSmidoIOc",
        "outputId": "bb1ff286-3a88-4622-f7d9-42ab32e9260f"
      },
      "execution_count": 6,
      "outputs": [
        {
          "output_type": "execute_result",
          "data": {
            "text/plain": [
              "Month-to-month    5456\n",
              "Two Year          2442\n",
              "One year          2102\n",
              "Name: Contract, dtype: int64"
            ]
          },
          "metadata": {},
          "execution_count": 6
        }
      ]
    },
    {
      "cell_type": "code",
      "source": [
        "# Checking for duplicates\n",
        "df.duplicated().sum()"
      ],
      "metadata": {
        "id": "anIGbdhWPkMv",
        "colab": {
          "base_uri": "https://localhost:8080/"
        },
        "outputId": "6e8e000a-c029-48df-c498-9960635cba36"
      },
      "execution_count": 7,
      "outputs": [
        {
          "output_type": "execute_result",
          "data": {
            "text/plain": [
              "0"
            ]
          },
          "metadata": {},
          "execution_count": 7
        }
      ]
    },
    {
      "cell_type": "code",
      "source": [
        "#Checking for null\n",
        "df.isnull().values.any()"
      ],
      "metadata": {
        "colab": {
          "base_uri": "https://localhost:8080/"
        },
        "id": "bY-LoOn66WSr",
        "outputId": "922750dc-23f9-4475-f1e7-dcf42a6dfd61"
      },
      "execution_count": 8,
      "outputs": [
        {
          "output_type": "execute_result",
          "data": {
            "text/plain": [
              "False"
            ]
          },
          "metadata": {},
          "execution_count": 8
        }
      ]
    },
    {
      "cell_type": "code",
      "source": [
        "\n",
        "# Dropping unnecessary columns\n",
        "cols_to_drop =['CaseOrder', 'Customer_id', 'Interaction', 'UID', 'Zip', 'Lat', 'Lng', 'TimeZone','City', 'State', 'County','Job','Population' ]\n",
        "\n",
        "# Dropping unnecessary columns\n",
        "df = df.drop(cols_to_drop, axis = 1)\n",
        "\n",
        "# renaming the survey items columns\n",
        "df = df.rename(columns={'Item1': 'TimelyResponse','Item2': 'TimelyFixes' , 'Item3': 'TimelyReplacements', 'Item4': 'Reliability',\n",
        "\n",
        "                          'Item5': 'Options', 'Item6': 'RespectfulResponse', 'Item7': 'CourteousExchange', 'Item8': 'ActiveListening'})\n",
        "\n",
        "# Checking to confirm if unnecessary columns were dropped and survey columns renamed appropriately\n",
        "\n",
        "df.info()"
      ],
      "metadata": {
        "colab": {
          "base_uri": "https://localhost:8080/"
        },
        "id": "RyUdX2FG6rkq",
        "outputId": "ee8d4b1f-2a5e-47fa-c315-d63d864c0d30"
      },
      "execution_count": 9,
      "outputs": [
        {
          "output_type": "stream",
          "name": "stdout",
          "text": [
            "<class 'pandas.core.frame.DataFrame'>\n",
            "RangeIndex: 10000 entries, 0 to 9999\n",
            "Data columns (total 37 columns):\n",
            " #   Column                Non-Null Count  Dtype  \n",
            "---  ------                --------------  -----  \n",
            " 0   Area                  10000 non-null  object \n",
            " 1   Children              10000 non-null  int64  \n",
            " 2   Age                   10000 non-null  int64  \n",
            " 3   Income                10000 non-null  float64\n",
            " 4   Marital               10000 non-null  object \n",
            " 5   Gender                10000 non-null  object \n",
            " 6   Churn                 10000 non-null  object \n",
            " 7   Outage_sec_perweek    10000 non-null  float64\n",
            " 8   Email                 10000 non-null  int64  \n",
            " 9   Contacts              10000 non-null  int64  \n",
            " 10  Yearly_equip_failure  10000 non-null  int64  \n",
            " 11  Techie                10000 non-null  object \n",
            " 12  Contract              10000 non-null  object \n",
            " 13  Port_modem            10000 non-null  object \n",
            " 14  Tablet                10000 non-null  object \n",
            " 15  InternetService       10000 non-null  object \n",
            " 16  Phone                 10000 non-null  object \n",
            " 17  Multiple              10000 non-null  object \n",
            " 18  OnlineSecurity        10000 non-null  object \n",
            " 19  OnlineBackup          10000 non-null  object \n",
            " 20  DeviceProtection      10000 non-null  object \n",
            " 21  TechSupport           10000 non-null  object \n",
            " 22  StreamingTV           10000 non-null  object \n",
            " 23  StreamingMovies       10000 non-null  object \n",
            " 24  PaperlessBilling      10000 non-null  object \n",
            " 25  PaymentMethod         10000 non-null  object \n",
            " 26  Tenure                10000 non-null  float64\n",
            " 27  MonthlyCharge         10000 non-null  float64\n",
            " 28  Bandwidth_GB_Year     10000 non-null  float64\n",
            " 29  TimelyResponse        10000 non-null  int64  \n",
            " 30  TimelyFixes           10000 non-null  int64  \n",
            " 31  TimelyReplacements    10000 non-null  int64  \n",
            " 32  Reliability           10000 non-null  int64  \n",
            " 33  Options               10000 non-null  int64  \n",
            " 34  RespectfulResponse    10000 non-null  int64  \n",
            " 35  CourteousExchange     10000 non-null  int64  \n",
            " 36  ActiveListening       10000 non-null  int64  \n",
            "dtypes: float64(5), int64(13), object(19)\n",
            "memory usage: 2.8+ MB\n"
          ]
        }
      ]
    },
    {
      "cell_type": "code",
      "source": [
        "#extracting categorical variables\n",
        "cat_vars =  df.select_dtypes(include=['object']).columns.to_list()\n",
        "cat_vars"
      ],
      "metadata": {
        "colab": {
          "base_uri": "https://localhost:8080/"
        },
        "id": "RAokYb-_7UXR",
        "outputId": "e43ccf98-95ad-4ad3-fcd5-d94765cb47c8"
      },
      "execution_count": 14,
      "outputs": [
        {
          "output_type": "execute_result",
          "data": {
            "text/plain": [
              "['Area',\n",
              " 'Marital',\n",
              " 'Gender',\n",
              " 'Churn',\n",
              " 'Techie',\n",
              " 'Contract',\n",
              " 'Port_modem',\n",
              " 'Tablet',\n",
              " 'InternetService',\n",
              " 'Phone',\n",
              " 'Multiple',\n",
              " 'OnlineSecurity',\n",
              " 'OnlineBackup',\n",
              " 'DeviceProtection',\n",
              " 'TechSupport',\n",
              " 'StreamingTV',\n",
              " 'StreamingMovies',\n",
              " 'PaperlessBilling',\n",
              " 'PaymentMethod']"
            ]
          },
          "metadata": {},
          "execution_count": 14
        }
      ]
    },
    {
      "cell_type": "code",
      "source": [
        "# Extracting numerical variables\n",
        "for x in df.columns.to_list():\n",
        "  if x not in cat_vars:\n",
        "    print(x)"
      ],
      "metadata": {
        "colab": {
          "base_uri": "https://localhost:8080/"
        },
        "id": "-MW6RjKZAR2e",
        "outputId": "e16e23f1-a7a4-46fd-c1d5-c73342ccc50e"
      },
      "execution_count": 20,
      "outputs": [
        {
          "output_type": "stream",
          "name": "stdout",
          "text": [
            "Children\n",
            "Age\n",
            "Income\n",
            "Outage_sec_perweek\n",
            "Email\n",
            "Contacts\n",
            "Yearly_equip_failure\n",
            "Tenure\n",
            "MonthlyCharge\n",
            "Bandwidth_GB_Year\n",
            "TimelyResponse\n",
            "TimelyFixes\n",
            "TimelyReplacements\n",
            "Reliability\n",
            "Options\n",
            "RespectfulResponse\n",
            "CourteousExchange\n",
            "ActiveListening\n"
          ]
        }
      ]
    },
    {
      "cell_type": "code",
      "source": [
        "# Changing object type to categories\n",
        "for col in cat_vars:\n",
        "   df[col] = df[col].astype('category')"
      ],
      "metadata": {
        "id": "kq1IHsbk-tT2"
      },
      "execution_count": 16,
      "outputs": []
    },
    {
      "cell_type": "code",
      "source": [
        "# Renaming some categories for easy processing\n",
        "df.Marital = df.Marital.cat.rename_categories({\"Divorced\":\"Divorced\",\"Widowed\": \"Widowed\",\"Separated\": \"Separated\", \"Never Married\": \"NeverMarried\", \"Married\":\"Married\"}) \n",
        "df.Contract = df.Contract.cat.rename_categories({\"Month-to-month\":\"month_to_month\",\"Two Year\": \"TwoYear\",\"One year\": \"OneYear\"})\n",
        "df.InternetService = df.InternetService.cat.rename_categories({\"Fiber Optic\":\"Fiber\",\"DSL\": \"DSL\",\"None\": \"NoService\"})\n",
        "df.PaymentMethod = df.PaymentMethod.cat.rename_categories({\"Electronic Check\":\"ElectronicCheck\",\"Mailed Check\": \"MailedCheck\",\"Bank Transfer(automatic)\": \"BankTransfer\",\n",
        "                                                           \"Credit Card (automatic)\": \"CreditCard\"}) \n"
      ],
      "metadata": {
        "id": "ZoCxHmKW8E7B"
      },
      "execution_count": 17,
      "outputs": []
    },
    {
      "cell_type": "code",
      "source": [],
      "metadata": {
        "id": "2dxThWSD-p_r"
      },
      "execution_count": null,
      "outputs": []
    }
  ]
}