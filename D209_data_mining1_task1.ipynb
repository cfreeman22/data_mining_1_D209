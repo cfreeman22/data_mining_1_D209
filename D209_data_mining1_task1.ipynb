{
  "nbformat": 4,
  "nbformat_minor": 0,
  "metadata": {
    "colab": {
      "provenance": [],
      "authorship_tag": "ABX9TyPMo2bXrZx0zyae+isoEvK7",
      "include_colab_link": true
    },
    "kernelspec": {
      "name": "python3",
      "display_name": "Python 3"
    },
    "language_info": {
      "name": "python"
    }
  },
  "cells": [
    {
      "cell_type": "markdown",
      "metadata": {
        "id": "view-in-github",
        "colab_type": "text"
      },
      "source": [
        "<a href=\"https://colab.research.google.com/github/cfreeman22/data_mining_1_D209/blob/main/D209_data_mining1_task1.ipynb\" target=\"_parent\"><img src=\"https://colab.research.google.com/assets/colab-badge.svg\" alt=\"Open In Colab\"/></a>"
      ]
    },
    {
      "cell_type": "code",
      "execution_count": 1,
      "metadata": {
        "id": "7GyqO4W_m3Z_"
      },
      "outputs": [],
      "source": [
        "# Libraries to help with reading and manipulating data\n",
        "import numpy as np\n",
        "import pandas as pd\n",
        "\n",
        "# Libraries to help with data visualization\n",
        "import matplotlib.pyplot as plt\n",
        "import seaborn as sns\n",
        "\n",
        "\n",
        "# library to scaling the data\n",
        "from sklearn.preprocessing import StandardScaler\n",
        "# Library to split data\n",
        "from sklearn.model_selection import train_test_split\n",
        "\n",
        "# importing the kneighbors classifier\n",
        "from sklearn.neighbors import KNeighborsClassifier\n",
        "\n",
        "#importing metric to test our model\n",
        "\n",
        "from sklearn.metrics import (\n",
        "    f1_score,\n",
        "    accuracy_score,\n",
        "    recall_score,\n",
        "    precision_score,\n",
        "    confusion_matrix,\n",
        "    roc_auc_score,\n",
        "    plot_confusion_matrix,\n",
        "    precision_recall_curve,\n",
        "    roc_curve, classification_report, \n",
        ")\n"
      ]
    },
    {
      "cell_type": "code",
      "source": [
        "#reading the data\n",
        "from google.colab import drive\n",
        "drive.mount('/content/drive')"
      ],
      "metadata": {
        "colab": {
          "base_uri": "https://localhost:8080/"
        },
        "id": "fE28wTPMnxsE",
        "outputId": "0cd45a4c-92ab-4b93-8a9c-bab78ff8248d"
      },
      "execution_count": 2,
      "outputs": [
        {
          "output_type": "stream",
          "name": "stdout",
          "text": [
            "Mounted at /content/drive\n"
          ]
        }
      ]
    },
    {
      "cell_type": "code",
      "source": [
        "#Reading the data from my google drive.\n",
        "df = pd.read_csv('/content/drive/My Drive/churn_clean.csv')"
      ],
      "metadata": {
        "id": "s_ZWb3Hjnxoi"
      },
      "execution_count": 3,
      "outputs": []
    },
    {
      "cell_type": "code",
      "source": [
        "df.info()"
      ],
      "metadata": {
        "colab": {
          "base_uri": "https://localhost:8080/"
        },
        "id": "LShg9Vlmnxkz",
        "outputId": "a605879c-0f37-4218-faac-9c9a02500b8b"
      },
      "execution_count": 4,
      "outputs": [
        {
          "output_type": "stream",
          "name": "stdout",
          "text": [
            "<class 'pandas.core.frame.DataFrame'>\n",
            "RangeIndex: 10000 entries, 0 to 9999\n",
            "Data columns (total 50 columns):\n",
            " #   Column                Non-Null Count  Dtype  \n",
            "---  ------                --------------  -----  \n",
            " 0   CaseOrder             10000 non-null  int64  \n",
            " 1   Customer_id           10000 non-null  object \n",
            " 2   Interaction           10000 non-null  object \n",
            " 3   UID                   10000 non-null  object \n",
            " 4   City                  10000 non-null  object \n",
            " 5   State                 10000 non-null  object \n",
            " 6   County                10000 non-null  object \n",
            " 7   Zip                   10000 non-null  int64  \n",
            " 8   Lat                   10000 non-null  float64\n",
            " 9   Lng                   10000 non-null  float64\n",
            " 10  Population            10000 non-null  int64  \n",
            " 11  Area                  10000 non-null  object \n",
            " 12  TimeZone              10000 non-null  object \n",
            " 13  Job                   10000 non-null  object \n",
            " 14  Children              10000 non-null  int64  \n",
            " 15  Age                   10000 non-null  int64  \n",
            " 16  Income                10000 non-null  float64\n",
            " 17  Marital               10000 non-null  object \n",
            " 18  Gender                10000 non-null  object \n",
            " 19  Churn                 10000 non-null  object \n",
            " 20  Outage_sec_perweek    10000 non-null  float64\n",
            " 21  Email                 10000 non-null  int64  \n",
            " 22  Contacts              10000 non-null  int64  \n",
            " 23  Yearly_equip_failure  10000 non-null  int64  \n",
            " 24  Techie                10000 non-null  object \n",
            " 25  Contract              10000 non-null  object \n",
            " 26  Port_modem            10000 non-null  object \n",
            " 27  Tablet                10000 non-null  object \n",
            " 28  InternetService       10000 non-null  object \n",
            " 29  Phone                 10000 non-null  object \n",
            " 30  Multiple              10000 non-null  object \n",
            " 31  OnlineSecurity        10000 non-null  object \n",
            " 32  OnlineBackup          10000 non-null  object \n",
            " 33  DeviceProtection      10000 non-null  object \n",
            " 34  TechSupport           10000 non-null  object \n",
            " 35  StreamingTV           10000 non-null  object \n",
            " 36  StreamingMovies       10000 non-null  object \n",
            " 37  PaperlessBilling      10000 non-null  object \n",
            " 38  PaymentMethod         10000 non-null  object \n",
            " 39  Tenure                10000 non-null  float64\n",
            " 40  MonthlyCharge         10000 non-null  float64\n",
            " 41  Bandwidth_GB_Year     10000 non-null  float64\n",
            " 42  Item1                 10000 non-null  int64  \n",
            " 43  Item2                 10000 non-null  int64  \n",
            " 44  Item3                 10000 non-null  int64  \n",
            " 45  Item4                 10000 non-null  int64  \n",
            " 46  Item5                 10000 non-null  int64  \n",
            " 47  Item6                 10000 non-null  int64  \n",
            " 48  Item7                 10000 non-null  int64  \n",
            " 49  Item8                 10000 non-null  int64  \n",
            "dtypes: float64(7), int64(16), object(27)\n",
            "memory usage: 3.8+ MB\n"
          ]
        }
      ]
    },
    {
      "cell_type": "code",
      "source": [
        "#target variable\n",
        "df.Churn.value_counts()"
      ],
      "metadata": {
        "colab": {
          "base_uri": "https://localhost:8080/"
        },
        "id": "uYFpSmidoIOc",
        "outputId": "a599dc2c-cb95-4455-eeb9-40bc91ebd69d"
      },
      "execution_count": 5,
      "outputs": [
        {
          "output_type": "execute_result",
          "data": {
            "text/plain": [
              "No     7350\n",
              "Yes    2650\n",
              "Name: Churn, dtype: int64"
            ]
          },
          "metadata": {},
          "execution_count": 5
        }
      ]
    },
    {
      "cell_type": "code",
      "source": [
        "df.Churn = df.Churn.map({'Yes':1 ,'No':0}).astype('int')\n",
        "  "
      ],
      "metadata": {
        "id": "r1Uc4dvfsZ9B"
      },
      "execution_count": 6,
      "outputs": []
    },
    {
      "cell_type": "code",
      "source": [
        "# Checking for duplicates\n",
        "df.duplicated().sum()"
      ],
      "metadata": {
        "id": "anIGbdhWPkMv",
        "colab": {
          "base_uri": "https://localhost:8080/"
        },
        "outputId": "0f64a923-b3c3-4a05-e1a8-695b011969b8"
      },
      "execution_count": 7,
      "outputs": [
        {
          "output_type": "execute_result",
          "data": {
            "text/plain": [
              "0"
            ]
          },
          "metadata": {},
          "execution_count": 7
        }
      ]
    },
    {
      "cell_type": "code",
      "source": [
        "#Checking for null\n",
        "df.isnull().values.any()"
      ],
      "metadata": {
        "colab": {
          "base_uri": "https://localhost:8080/"
        },
        "id": "bY-LoOn66WSr",
        "outputId": "6d92ae3a-7b5e-4d2a-ef7c-ee5902ff6219"
      },
      "execution_count": 8,
      "outputs": [
        {
          "output_type": "execute_result",
          "data": {
            "text/plain": [
              "False"
            ]
          },
          "metadata": {},
          "execution_count": 8
        }
      ]
    },
    {
      "cell_type": "code",
      "source": [
        "# Dropping unnecessary columns\n",
        "cols_to_drop =['CaseOrder', 'Customer_id', 'Interaction', 'UID', 'Zip', 'Lat', 'Lng', 'TimeZone','City', 'State', 'County','Job','Population' ]\n",
        "\n",
        "# Dropping unnecessary columns\n",
        "df = df.drop(cols_to_drop, axis = 1)\n",
        "\n",
        "# renaming the survey items columns\n",
        "df = df.rename(columns={'Item1': 'TimelyResponse','Item2': 'TimelyFixes' , 'Item3': 'TimelyReplacements', 'Item4': 'Reliability',\n",
        "\n",
        "                          'Item5': 'Options', 'Item6': 'RespectfulResponse', 'Item7': 'CourteousExchange', 'Item8': 'ActiveListening'})\n",
        "\n",
        "# Checking to confirm if unnecessary columns were dropped and survey columns renamed appropriately\n",
        "\n",
        "df.info()"
      ],
      "metadata": {
        "id": "RyUdX2FG6rkq",
        "colab": {
          "base_uri": "https://localhost:8080/"
        },
        "outputId": "351651d0-026c-4325-d41c-9d821651647b"
      },
      "execution_count": 9,
      "outputs": [
        {
          "output_type": "stream",
          "name": "stdout",
          "text": [
            "<class 'pandas.core.frame.DataFrame'>\n",
            "RangeIndex: 10000 entries, 0 to 9999\n",
            "Data columns (total 37 columns):\n",
            " #   Column                Non-Null Count  Dtype  \n",
            "---  ------                --------------  -----  \n",
            " 0   Area                  10000 non-null  object \n",
            " 1   Children              10000 non-null  int64  \n",
            " 2   Age                   10000 non-null  int64  \n",
            " 3   Income                10000 non-null  float64\n",
            " 4   Marital               10000 non-null  object \n",
            " 5   Gender                10000 non-null  object \n",
            " 6   Churn                 10000 non-null  int64  \n",
            " 7   Outage_sec_perweek    10000 non-null  float64\n",
            " 8   Email                 10000 non-null  int64  \n",
            " 9   Contacts              10000 non-null  int64  \n",
            " 10  Yearly_equip_failure  10000 non-null  int64  \n",
            " 11  Techie                10000 non-null  object \n",
            " 12  Contract              10000 non-null  object \n",
            " 13  Port_modem            10000 non-null  object \n",
            " 14  Tablet                10000 non-null  object \n",
            " 15  InternetService       10000 non-null  object \n",
            " 16  Phone                 10000 non-null  object \n",
            " 17  Multiple              10000 non-null  object \n",
            " 18  OnlineSecurity        10000 non-null  object \n",
            " 19  OnlineBackup          10000 non-null  object \n",
            " 20  DeviceProtection      10000 non-null  object \n",
            " 21  TechSupport           10000 non-null  object \n",
            " 22  StreamingTV           10000 non-null  object \n",
            " 23  StreamingMovies       10000 non-null  object \n",
            " 24  PaperlessBilling      10000 non-null  object \n",
            " 25  PaymentMethod         10000 non-null  object \n",
            " 26  Tenure                10000 non-null  float64\n",
            " 27  MonthlyCharge         10000 non-null  float64\n",
            " 28  Bandwidth_GB_Year     10000 non-null  float64\n",
            " 29  TimelyResponse        10000 non-null  int64  \n",
            " 30  TimelyFixes           10000 non-null  int64  \n",
            " 31  TimelyReplacements    10000 non-null  int64  \n",
            " 32  Reliability           10000 non-null  int64  \n",
            " 33  Options               10000 non-null  int64  \n",
            " 34  RespectfulResponse    10000 non-null  int64  \n",
            " 35  CourteousExchange     10000 non-null  int64  \n",
            " 36  ActiveListening       10000 non-null  int64  \n",
            "dtypes: float64(5), int64(14), object(18)\n",
            "memory usage: 2.8+ MB\n"
          ]
        }
      ]
    },
    {
      "cell_type": "code",
      "source": [],
      "metadata": {
        "id": "Zss9iIagUa8r"
      },
      "execution_count": 9,
      "outputs": []
    },
    {
      "cell_type": "code",
      "source": [
        "#extracting categorical variables\n",
        "cat_vars =  df.select_dtypes(include=['object']).columns.to_list()\n",
        "cat_vars"
      ],
      "metadata": {
        "colab": {
          "base_uri": "https://localhost:8080/"
        },
        "id": "RAokYb-_7UXR",
        "outputId": "7a538c71-a5fa-4ec1-a21f-c561c30ee57d"
      },
      "execution_count": 10,
      "outputs": [
        {
          "output_type": "execute_result",
          "data": {
            "text/plain": [
              "['Area',\n",
              " 'Marital',\n",
              " 'Gender',\n",
              " 'Techie',\n",
              " 'Contract',\n",
              " 'Port_modem',\n",
              " 'Tablet',\n",
              " 'InternetService',\n",
              " 'Phone',\n",
              " 'Multiple',\n",
              " 'OnlineSecurity',\n",
              " 'OnlineBackup',\n",
              " 'DeviceProtection',\n",
              " 'TechSupport',\n",
              " 'StreamingTV',\n",
              " 'StreamingMovies',\n",
              " 'PaperlessBilling',\n",
              " 'PaymentMethod']"
            ]
          },
          "metadata": {},
          "execution_count": 10
        }
      ]
    },
    {
      "cell_type": "code",
      "source": [
        "# Extracting numerical variables\n",
        "for x in df.columns.to_list():\n",
        "  if x not in cat_vars:\n",
        "    print(x)"
      ],
      "metadata": {
        "colab": {
          "base_uri": "https://localhost:8080/"
        },
        "id": "-MW6RjKZAR2e",
        "outputId": "c1af3fa7-7ae7-4221-f24a-9354082da62d"
      },
      "execution_count": 11,
      "outputs": [
        {
          "output_type": "stream",
          "name": "stdout",
          "text": [
            "Children\n",
            "Age\n",
            "Income\n",
            "Churn\n",
            "Outage_sec_perweek\n",
            "Email\n",
            "Contacts\n",
            "Yearly_equip_failure\n",
            "Tenure\n",
            "MonthlyCharge\n",
            "Bandwidth_GB_Year\n",
            "TimelyResponse\n",
            "TimelyFixes\n",
            "TimelyReplacements\n",
            "Reliability\n",
            "Options\n",
            "RespectfulResponse\n",
            "CourteousExchange\n",
            "ActiveListening\n"
          ]
        }
      ]
    },
    {
      "cell_type": "code",
      "source": [
        "# Changing object type to categories\n",
        "for col in cat_vars:\n",
        "   df[col] = df[col].astype('category')"
      ],
      "metadata": {
        "id": "kq1IHsbk-tT2"
      },
      "execution_count": 12,
      "outputs": []
    },
    {
      "cell_type": "code",
      "source": [
        "# Renaming some categories for easy processing\n",
        "df.Marital = df.Marital.cat.rename_categories({\"Divorced\":\"Divorced\",\"Widowed\": \"Widowed\",\"Separated\": \"Separated\", \"Never Married\": \"NeverMarried\", \"Married\":\"Married\"}) \n",
        "df.Contract = df.Contract.cat.rename_categories({\"Month-to-month\":\"month_to_month\",\"Two Year\": \"TwoYear\",\"One year\": \"OneYear\"})\n",
        "df.InternetService = df.InternetService.cat.rename_categories({\"Fiber Optic\":\"Fiber\",\"DSL\": \"DSL\",\"None\": \"NoService\"})\n",
        "df.PaymentMethod = df.PaymentMethod.cat.rename_categories({\"Electronic Check\":\"ElectronicCheck\",\"Mailed Check\": \"MailedCheck\",\"Bank Transfer(automatic)\": \"BankTransfer\",\n",
        "                                                           \"Credit Card (automatic)\": \"CreditCard\"}) \n"
      ],
      "metadata": {
        "id": "ZoCxHmKW8E7B"
      },
      "execution_count": 13,
      "outputs": []
    },
    {
      "cell_type": "code",
      "source": [
        "df.info()"
      ],
      "metadata": {
        "colab": {
          "base_uri": "https://localhost:8080/"
        },
        "id": "CpLgFCOVMsnC",
        "outputId": "52ddde2a-204a-4ce7-9f59-3f360d6b080f"
      },
      "execution_count": 14,
      "outputs": [
        {
          "output_type": "stream",
          "name": "stdout",
          "text": [
            "<class 'pandas.core.frame.DataFrame'>\n",
            "RangeIndex: 10000 entries, 0 to 9999\n",
            "Data columns (total 37 columns):\n",
            " #   Column                Non-Null Count  Dtype   \n",
            "---  ------                --------------  -----   \n",
            " 0   Area                  10000 non-null  category\n",
            " 1   Children              10000 non-null  int64   \n",
            " 2   Age                   10000 non-null  int64   \n",
            " 3   Income                10000 non-null  float64 \n",
            " 4   Marital               10000 non-null  category\n",
            " 5   Gender                10000 non-null  category\n",
            " 6   Churn                 10000 non-null  int64   \n",
            " 7   Outage_sec_perweek    10000 non-null  float64 \n",
            " 8   Email                 10000 non-null  int64   \n",
            " 9   Contacts              10000 non-null  int64   \n",
            " 10  Yearly_equip_failure  10000 non-null  int64   \n",
            " 11  Techie                10000 non-null  category\n",
            " 12  Contract              10000 non-null  category\n",
            " 13  Port_modem            10000 non-null  category\n",
            " 14  Tablet                10000 non-null  category\n",
            " 15  InternetService       10000 non-null  category\n",
            " 16  Phone                 10000 non-null  category\n",
            " 17  Multiple              10000 non-null  category\n",
            " 18  OnlineSecurity        10000 non-null  category\n",
            " 19  OnlineBackup          10000 non-null  category\n",
            " 20  DeviceProtection      10000 non-null  category\n",
            " 21  TechSupport           10000 non-null  category\n",
            " 22  StreamingTV           10000 non-null  category\n",
            " 23  StreamingMovies       10000 non-null  category\n",
            " 24  PaperlessBilling      10000 non-null  category\n",
            " 25  PaymentMethod         10000 non-null  category\n",
            " 26  Tenure                10000 non-null  float64 \n",
            " 27  MonthlyCharge         10000 non-null  float64 \n",
            " 28  Bandwidth_GB_Year     10000 non-null  float64 \n",
            " 29  TimelyResponse        10000 non-null  int64   \n",
            " 30  TimelyFixes           10000 non-null  int64   \n",
            " 31  TimelyReplacements    10000 non-null  int64   \n",
            " 32  Reliability           10000 non-null  int64   \n",
            " 33  Options               10000 non-null  int64   \n",
            " 34  RespectfulResponse    10000 non-null  int64   \n",
            " 35  CourteousExchange     10000 non-null  int64   \n",
            " 36  ActiveListening       10000 non-null  int64   \n",
            "dtypes: category(18), float64(5), int64(14)\n",
            "memory usage: 1.6 MB\n"
          ]
        }
      ]
    },
    {
      "cell_type": "code",
      "source": [
        "## DROP EITHER TENURE OR BANDWIDTH from previous analysis these two features were highly correlated\n",
        "#df = df.drop('Bandwidth_GB_Year', axis = 1)\n"
      ],
      "metadata": {
        "id": "SznR2wpm4sf5"
      },
      "execution_count": 15,
      "outputs": []
    },
    {
      "cell_type": "code",
      "source": [
        " \n",
        "\n",
        "#making a copy of the prepared dataset and extract a copy for submission\n",
        "\n",
        "churn_df =  df.copy()"
      ],
      "metadata": {
        "id": "Zuj70Au7Mwm5"
      },
      "execution_count": 16,
      "outputs": []
    },
    {
      "cell_type": "code",
      "source": [
        "churn_df.info()"
      ],
      "metadata": {
        "colab": {
          "base_uri": "https://localhost:8080/"
        },
        "id": "AXjnUDfgOp8c",
        "outputId": "a906ba72-bc51-48d6-cb1a-011252497807"
      },
      "execution_count": 17,
      "outputs": [
        {
          "output_type": "stream",
          "name": "stdout",
          "text": [
            "<class 'pandas.core.frame.DataFrame'>\n",
            "RangeIndex: 10000 entries, 0 to 9999\n",
            "Data columns (total 37 columns):\n",
            " #   Column                Non-Null Count  Dtype   \n",
            "---  ------                --------------  -----   \n",
            " 0   Area                  10000 non-null  category\n",
            " 1   Children              10000 non-null  int64   \n",
            " 2   Age                   10000 non-null  int64   \n",
            " 3   Income                10000 non-null  float64 \n",
            " 4   Marital               10000 non-null  category\n",
            " 5   Gender                10000 non-null  category\n",
            " 6   Churn                 10000 non-null  int64   \n",
            " 7   Outage_sec_perweek    10000 non-null  float64 \n",
            " 8   Email                 10000 non-null  int64   \n",
            " 9   Contacts              10000 non-null  int64   \n",
            " 10  Yearly_equip_failure  10000 non-null  int64   \n",
            " 11  Techie                10000 non-null  category\n",
            " 12  Contract              10000 non-null  category\n",
            " 13  Port_modem            10000 non-null  category\n",
            " 14  Tablet                10000 non-null  category\n",
            " 15  InternetService       10000 non-null  category\n",
            " 16  Phone                 10000 non-null  category\n",
            " 17  Multiple              10000 non-null  category\n",
            " 18  OnlineSecurity        10000 non-null  category\n",
            " 19  OnlineBackup          10000 non-null  category\n",
            " 20  DeviceProtection      10000 non-null  category\n",
            " 21  TechSupport           10000 non-null  category\n",
            " 22  StreamingTV           10000 non-null  category\n",
            " 23  StreamingMovies       10000 non-null  category\n",
            " 24  PaperlessBilling      10000 non-null  category\n",
            " 25  PaymentMethod         10000 non-null  category\n",
            " 26  Tenure                10000 non-null  float64 \n",
            " 27  MonthlyCharge         10000 non-null  float64 \n",
            " 28  Bandwidth_GB_Year     10000 non-null  float64 \n",
            " 29  TimelyResponse        10000 non-null  int64   \n",
            " 30  TimelyFixes           10000 non-null  int64   \n",
            " 31  TimelyReplacements    10000 non-null  int64   \n",
            " 32  Reliability           10000 non-null  int64   \n",
            " 33  Options               10000 non-null  int64   \n",
            " 34  RespectfulResponse    10000 non-null  int64   \n",
            " 35  CourteousExchange     10000 non-null  int64   \n",
            " 36  ActiveListening       10000 non-null  int64   \n",
            "dtypes: category(18), float64(5), int64(14)\n",
            "memory usage: 1.6 MB\n"
          ]
        }
      ]
    },
    {
      "cell_type": "code",
      "source": [
        "# cleaned and prepared data\n",
        "#churn_df.to_csv('cleaned_churn.csv')"
      ],
      "metadata": {
        "id": "tx6l-pySOuX6"
      },
      "execution_count": 18,
      "outputs": []
    },
    {
      "cell_type": "markdown",
      "source": [
        "## Test Train Split and Scaling"
      ],
      "metadata": {
        "id": "yMpblxgAS3JH"
      }
    },
    {
      "cell_type": "code",
      "source": [
        "X = churn_df\n",
        "y = X.pop('Churn')\n",
        "#Getting dummy variables for categorical columns\n",
        "X = pd.get_dummies(X, drop_first=True)"
      ],
      "metadata": {
        "id": "YVYija00SbZB"
      },
      "execution_count": 19,
      "outputs": []
    },
    {
      "cell_type": "code",
      "source": [
        "X.info()"
      ],
      "metadata": {
        "colab": {
          "base_uri": "https://localhost:8080/"
        },
        "id": "p4YSyZ2y4koR",
        "outputId": "8663728d-e8cb-4ed5-b922-b80ebc04fad3"
      },
      "execution_count": 20,
      "outputs": [
        {
          "output_type": "stream",
          "name": "stdout",
          "text": [
            "<class 'pandas.core.frame.DataFrame'>\n",
            "RangeIndex: 10000 entries, 0 to 9999\n",
            "Data columns (total 45 columns):\n",
            " #   Column                         Non-Null Count  Dtype  \n",
            "---  ------                         --------------  -----  \n",
            " 0   Children                       10000 non-null  int64  \n",
            " 1   Age                            10000 non-null  int64  \n",
            " 2   Income                         10000 non-null  float64\n",
            " 3   Outage_sec_perweek             10000 non-null  float64\n",
            " 4   Email                          10000 non-null  int64  \n",
            " 5   Contacts                       10000 non-null  int64  \n",
            " 6   Yearly_equip_failure           10000 non-null  int64  \n",
            " 7   Tenure                         10000 non-null  float64\n",
            " 8   MonthlyCharge                  10000 non-null  float64\n",
            " 9   Bandwidth_GB_Year              10000 non-null  float64\n",
            " 10  TimelyResponse                 10000 non-null  int64  \n",
            " 11  TimelyFixes                    10000 non-null  int64  \n",
            " 12  TimelyReplacements             10000 non-null  int64  \n",
            " 13  Reliability                    10000 non-null  int64  \n",
            " 14  Options                        10000 non-null  int64  \n",
            " 15  RespectfulResponse             10000 non-null  int64  \n",
            " 16  CourteousExchange              10000 non-null  int64  \n",
            " 17  ActiveListening                10000 non-null  int64  \n",
            " 18  Area_Suburban                  10000 non-null  uint8  \n",
            " 19  Area_Urban                     10000 non-null  uint8  \n",
            " 20  Marital_Married                10000 non-null  uint8  \n",
            " 21  Marital_NeverMarried           10000 non-null  uint8  \n",
            " 22  Marital_Separated              10000 non-null  uint8  \n",
            " 23  Marital_Widowed                10000 non-null  uint8  \n",
            " 24  Gender_Male                    10000 non-null  uint8  \n",
            " 25  Gender_Nonbinary               10000 non-null  uint8  \n",
            " 26  Techie_Yes                     10000 non-null  uint8  \n",
            " 27  Contract_OneYear               10000 non-null  uint8  \n",
            " 28  Contract_TwoYear               10000 non-null  uint8  \n",
            " 29  Port_modem_Yes                 10000 non-null  uint8  \n",
            " 30  Tablet_Yes                     10000 non-null  uint8  \n",
            " 31  InternetService_Fiber          10000 non-null  uint8  \n",
            " 32  InternetService_NoService      10000 non-null  uint8  \n",
            " 33  Phone_Yes                      10000 non-null  uint8  \n",
            " 34  Multiple_Yes                   10000 non-null  uint8  \n",
            " 35  OnlineSecurity_Yes             10000 non-null  uint8  \n",
            " 36  OnlineBackup_Yes               10000 non-null  uint8  \n",
            " 37  DeviceProtection_Yes           10000 non-null  uint8  \n",
            " 38  TechSupport_Yes                10000 non-null  uint8  \n",
            " 39  StreamingTV_Yes                10000 non-null  uint8  \n",
            " 40  StreamingMovies_Yes            10000 non-null  uint8  \n",
            " 41  PaperlessBilling_Yes           10000 non-null  uint8  \n",
            " 42  PaymentMethod_CreditCard       10000 non-null  uint8  \n",
            " 43  PaymentMethod_ElectronicCheck  10000 non-null  uint8  \n",
            " 44  PaymentMethod_MailedCheck      10000 non-null  uint8  \n",
            "dtypes: float64(5), int64(13), uint8(27)\n",
            "memory usage: 1.6 MB\n"
          ]
        }
      ]
    },
    {
      "cell_type": "code",
      "source": [
        "#spliting the data\n",
        "X_train, X_test, y_train, y_test = train_test_split( X, y, \n",
        "                                                    test_size=0.3, random_state=42, stratify=y)"
      ],
      "metadata": {
        "id": "bSrZCLh-TOuc"
      },
      "execution_count": 21,
      "outputs": []
    },
    {
      "cell_type": "markdown",
      "source": [
        "## Saving train and test sets into a csv"
      ],
      "metadata": {
        "id": "EYcattL6LtEs"
      }
    },
    {
      "cell_type": "code",
      "source": [
        "training_set = pd.concat([X_train, y_train], axis=1)\n",
        "test_set = pd.concat([X_test, y_test], axis=1)\n",
        "\n",
        "#training_set.to_csv('training.csv', index=False)\n",
        "#test_set.to_csv('test.csv', index=False)"
      ],
      "metadata": {
        "id": "VNuN_xj1L24U"
      },
      "execution_count": 22,
      "outputs": []
    },
    {
      "cell_type": "code",
      "source": [
        "test_set.info()"
      ],
      "metadata": {
        "colab": {
          "base_uri": "https://localhost:8080/"
        },
        "id": "pLU5saQGRXO9",
        "outputId": "04bad03d-8d6d-4eaf-dd83-edb40dfaee78"
      },
      "execution_count": 23,
      "outputs": [
        {
          "output_type": "stream",
          "name": "stdout",
          "text": [
            "<class 'pandas.core.frame.DataFrame'>\n",
            "Int64Index: 3000 entries, 788 to 7625\n",
            "Data columns (total 46 columns):\n",
            " #   Column                         Non-Null Count  Dtype  \n",
            "---  ------                         --------------  -----  \n",
            " 0   Children                       3000 non-null   int64  \n",
            " 1   Age                            3000 non-null   int64  \n",
            " 2   Income                         3000 non-null   float64\n",
            " 3   Outage_sec_perweek             3000 non-null   float64\n",
            " 4   Email                          3000 non-null   int64  \n",
            " 5   Contacts                       3000 non-null   int64  \n",
            " 6   Yearly_equip_failure           3000 non-null   int64  \n",
            " 7   Tenure                         3000 non-null   float64\n",
            " 8   MonthlyCharge                  3000 non-null   float64\n",
            " 9   Bandwidth_GB_Year              3000 non-null   float64\n",
            " 10  TimelyResponse                 3000 non-null   int64  \n",
            " 11  TimelyFixes                    3000 non-null   int64  \n",
            " 12  TimelyReplacements             3000 non-null   int64  \n",
            " 13  Reliability                    3000 non-null   int64  \n",
            " 14  Options                        3000 non-null   int64  \n",
            " 15  RespectfulResponse             3000 non-null   int64  \n",
            " 16  CourteousExchange              3000 non-null   int64  \n",
            " 17  ActiveListening                3000 non-null   int64  \n",
            " 18  Area_Suburban                  3000 non-null   uint8  \n",
            " 19  Area_Urban                     3000 non-null   uint8  \n",
            " 20  Marital_Married                3000 non-null   uint8  \n",
            " 21  Marital_NeverMarried           3000 non-null   uint8  \n",
            " 22  Marital_Separated              3000 non-null   uint8  \n",
            " 23  Marital_Widowed                3000 non-null   uint8  \n",
            " 24  Gender_Male                    3000 non-null   uint8  \n",
            " 25  Gender_Nonbinary               3000 non-null   uint8  \n",
            " 26  Techie_Yes                     3000 non-null   uint8  \n",
            " 27  Contract_OneYear               3000 non-null   uint8  \n",
            " 28  Contract_TwoYear               3000 non-null   uint8  \n",
            " 29  Port_modem_Yes                 3000 non-null   uint8  \n",
            " 30  Tablet_Yes                     3000 non-null   uint8  \n",
            " 31  InternetService_Fiber          3000 non-null   uint8  \n",
            " 32  InternetService_NoService      3000 non-null   uint8  \n",
            " 33  Phone_Yes                      3000 non-null   uint8  \n",
            " 34  Multiple_Yes                   3000 non-null   uint8  \n",
            " 35  OnlineSecurity_Yes             3000 non-null   uint8  \n",
            " 36  OnlineBackup_Yes               3000 non-null   uint8  \n",
            " 37  DeviceProtection_Yes           3000 non-null   uint8  \n",
            " 38  TechSupport_Yes                3000 non-null   uint8  \n",
            " 39  StreamingTV_Yes                3000 non-null   uint8  \n",
            " 40  StreamingMovies_Yes            3000 non-null   uint8  \n",
            " 41  PaperlessBilling_Yes           3000 non-null   uint8  \n",
            " 42  PaymentMethod_CreditCard       3000 non-null   uint8  \n",
            " 43  PaymentMethod_ElectronicCheck  3000 non-null   uint8  \n",
            " 44  PaymentMethod_MailedCheck      3000 non-null   uint8  \n",
            " 45  Churn                          3000 non-null   int64  \n",
            "dtypes: float64(5), int64(14), uint8(27)\n",
            "memory usage: 547.9 KB\n"
          ]
        }
      ]
    },
    {
      "cell_type": "code",
      "source": [
        "#scaling the data\n",
        "scaler = StandardScaler()"
      ],
      "metadata": {
        "id": "g7Rtcw6QTSmg"
      },
      "execution_count": 24,
      "outputs": []
    },
    {
      "cell_type": "code",
      "source": [
        "scaled_X_train = scaler.fit_transform(X_train)\n",
        "scaled_X_test = scaler.transform(X_test)"
      ],
      "metadata": {
        "id": "hfdywsauVWw8"
      },
      "execution_count": 25,
      "outputs": []
    },
    {
      "cell_type": "code",
      "source": [
        "scaled_X_train"
      ],
      "metadata": {
        "colab": {
          "base_uri": "https://localhost:8080/"
        },
        "id": "MHBy190VfeDc",
        "outputId": "32d92a70-ae34-41c8-ed4e-846501f17027"
      },
      "execution_count": 26,
      "outputs": [
        {
          "output_type": "execute_result",
          "data": {
            "text/plain": [
              "array([[ 2.75338005e+00, -6.77400279e-01,  5.98907602e-01, ...,\n",
              "        -5.09135821e-01,  1.38137050e+00, -5.42346197e-01],\n",
              "       [-5.08129944e-01,  2.38405622e-01, -1.11514718e+00, ...,\n",
              "        -5.09135821e-01, -7.23918745e-01,  1.84384072e+00],\n",
              "       [-5.08129944e-01,  9.38046901e-02, -5.58332948e-01, ...,\n",
              "        -5.09135821e-01, -7.23918745e-01,  1.84384072e+00],\n",
              "       ...,\n",
              "       [ 8.89660052e-01, -5.32799347e-01, -9.35222717e-01, ...,\n",
              "        -5.09135821e-01,  1.38137050e+00, -5.42346197e-01],\n",
              "       [-4.21999456e-02, -2.59593101e-03, -1.22553114e+00, ...,\n",
              "        -5.09135821e-01,  1.38137050e+00, -5.42346197e-01],\n",
              "       [-4.21999456e-02, -3.39998105e-01, -5.98645721e-01, ...,\n",
              "        -5.09135821e-01, -7.23918745e-01,  1.84384072e+00]])"
            ]
          },
          "metadata": {},
          "execution_count": 26
        }
      ]
    },
    {
      "cell_type": "code",
      "source": [
        "X_train"
      ],
      "metadata": {
        "colab": {
          "base_uri": "https://localhost:8080/",
          "height": 487
        },
        "id": "_g4IYnQmfuf0",
        "outputId": "dbddf76c-c93e-4ce9-eb36-4c945cafef98"
      },
      "execution_count": 27,
      "outputs": [
        {
          "output_type": "execute_result",
          "data": {
            "text/plain": [
              "      Children  Age    Income  Outage_sec_perweek  Email  Contacts  \\\n",
              "7581         8   39  57201.39            1.882426     17         0   \n",
              "6553         1   58   8137.98           13.564140     15         1   \n",
              "6746         1   55  24076.33           16.322610     12         0   \n",
              "1924         5   28  23613.85           14.064275      9         3   \n",
              "3004         1   22  15864.70           14.396200     17         1   \n",
              "...        ...  ...       ...                 ...    ...       ...   \n",
              "8486         0   42  32929.09           11.081140     13         0   \n",
              "180          1   67  12779.23           12.538309      9         2   \n",
              "1131         4   42  13288.17           12.849761     10         1   \n",
              "8493         2   53   4978.33           10.575800      9         1   \n",
              "4477         2   46  22922.41           12.309490      9         1   \n",
              "\n",
              "      Yearly_equip_failure     Tenure  MonthlyCharge  Bandwidth_GB_Year  ...  \\\n",
              "7581                     0  68.985080     159.951200        6176.702519  ...   \n",
              "6553                     1  50.023430     174.988200        4904.424094  ...   \n",
              "6746                     0  67.326480     179.965600        5696.824115  ...   \n",
              "1924                     2  10.484385     159.965008        1325.529732  ...   \n",
              "3004                     0   3.255652     242.628100        1021.343044  ...   \n",
              "...                    ...        ...            ...                ...  ...   \n",
              "8486                     1  46.031830     119.956800        4478.070702  ...   \n",
              "180                      1  15.645967     240.114868        1781.854862  ...   \n",
              "1131                     1   3.123139     194.988208         875.119639  ...   \n",
              "8493                     0  61.845430     190.173700        5779.476540  ...   \n",
              "4477                     1   2.577535     139.956800         552.480335  ...   \n",
              "\n",
              "      OnlineSecurity_Yes  OnlineBackup_Yes  DeviceProtection_Yes  \\\n",
              "7581                   0                 0                     0   \n",
              "6553                   1                 0                     1   \n",
              "6746                   0                 1                     0   \n",
              "1924                   0                 0                     1   \n",
              "3004                   0                 1                     1   \n",
              "...                  ...               ...                   ...   \n",
              "8486                   1                 0                     0   \n",
              "180                    0                 0                     0   \n",
              "1131                   1                 0                     1   \n",
              "8493                   1                 0                     1   \n",
              "4477                   1                 0                     0   \n",
              "\n",
              "      TechSupport_Yes  StreamingTV_Yes  StreamingMovies_Yes  \\\n",
              "7581                1                0                    1   \n",
              "6553                0                0                    1   \n",
              "6746                1                0                    0   \n",
              "1924                0                0                    1   \n",
              "3004                0                1                    1   \n",
              "...               ...              ...                  ...   \n",
              "8486                0                1                    0   \n",
              "180                 0                1                    1   \n",
              "1131                0                0                    1   \n",
              "8493                0                1                    1   \n",
              "4477                0                1                    0   \n",
              "\n",
              "      PaperlessBilling_Yes  PaymentMethod_CreditCard  \\\n",
              "7581                     1                         0   \n",
              "6553                     1                         0   \n",
              "6746                     1                         0   \n",
              "1924                     1                         0   \n",
              "3004                     0                         0   \n",
              "...                    ...                       ...   \n",
              "8486                     1                         0   \n",
              "180                      0                         0   \n",
              "1131                     1                         0   \n",
              "8493                     1                         0   \n",
              "4477                     1                         0   \n",
              "\n",
              "      PaymentMethod_ElectronicCheck  PaymentMethod_MailedCheck  \n",
              "7581                              1                          0  \n",
              "6553                              0                          1  \n",
              "6746                              0                          1  \n",
              "1924                              1                          0  \n",
              "3004                              1                          0  \n",
              "...                             ...                        ...  \n",
              "8486                              0                          0  \n",
              "180                               0                          1  \n",
              "1131                              1                          0  \n",
              "8493                              1                          0  \n",
              "4477                              0                          1  \n",
              "\n",
              "[7000 rows x 45 columns]"
            ],
            "text/html": [
              "\n",
              "  <div id=\"df-2faa49ab-a207-4b76-a202-9c9ffe6e5dbc\">\n",
              "    <div class=\"colab-df-container\">\n",
              "      <div>\n",
              "<style scoped>\n",
              "    .dataframe tbody tr th:only-of-type {\n",
              "        vertical-align: middle;\n",
              "    }\n",
              "\n",
              "    .dataframe tbody tr th {\n",
              "        vertical-align: top;\n",
              "    }\n",
              "\n",
              "    .dataframe thead th {\n",
              "        text-align: right;\n",
              "    }\n",
              "</style>\n",
              "<table border=\"1\" class=\"dataframe\">\n",
              "  <thead>\n",
              "    <tr style=\"text-align: right;\">\n",
              "      <th></th>\n",
              "      <th>Children</th>\n",
              "      <th>Age</th>\n",
              "      <th>Income</th>\n",
              "      <th>Outage_sec_perweek</th>\n",
              "      <th>Email</th>\n",
              "      <th>Contacts</th>\n",
              "      <th>Yearly_equip_failure</th>\n",
              "      <th>Tenure</th>\n",
              "      <th>MonthlyCharge</th>\n",
              "      <th>Bandwidth_GB_Year</th>\n",
              "      <th>...</th>\n",
              "      <th>OnlineSecurity_Yes</th>\n",
              "      <th>OnlineBackup_Yes</th>\n",
              "      <th>DeviceProtection_Yes</th>\n",
              "      <th>TechSupport_Yes</th>\n",
              "      <th>StreamingTV_Yes</th>\n",
              "      <th>StreamingMovies_Yes</th>\n",
              "      <th>PaperlessBilling_Yes</th>\n",
              "      <th>PaymentMethod_CreditCard</th>\n",
              "      <th>PaymentMethod_ElectronicCheck</th>\n",
              "      <th>PaymentMethod_MailedCheck</th>\n",
              "    </tr>\n",
              "  </thead>\n",
              "  <tbody>\n",
              "    <tr>\n",
              "      <th>7581</th>\n",
              "      <td>8</td>\n",
              "      <td>39</td>\n",
              "      <td>57201.39</td>\n",
              "      <td>1.882426</td>\n",
              "      <td>17</td>\n",
              "      <td>0</td>\n",
              "      <td>0</td>\n",
              "      <td>68.985080</td>\n",
              "      <td>159.951200</td>\n",
              "      <td>6176.702519</td>\n",
              "      <td>...</td>\n",
              "      <td>0</td>\n",
              "      <td>0</td>\n",
              "      <td>0</td>\n",
              "      <td>1</td>\n",
              "      <td>0</td>\n",
              "      <td>1</td>\n",
              "      <td>1</td>\n",
              "      <td>0</td>\n",
              "      <td>1</td>\n",
              "      <td>0</td>\n",
              "    </tr>\n",
              "    <tr>\n",
              "      <th>6553</th>\n",
              "      <td>1</td>\n",
              "      <td>58</td>\n",
              "      <td>8137.98</td>\n",
              "      <td>13.564140</td>\n",
              "      <td>15</td>\n",
              "      <td>1</td>\n",
              "      <td>1</td>\n",
              "      <td>50.023430</td>\n",
              "      <td>174.988200</td>\n",
              "      <td>4904.424094</td>\n",
              "      <td>...</td>\n",
              "      <td>1</td>\n",
              "      <td>0</td>\n",
              "      <td>1</td>\n",
              "      <td>0</td>\n",
              "      <td>0</td>\n",
              "      <td>1</td>\n",
              "      <td>1</td>\n",
              "      <td>0</td>\n",
              "      <td>0</td>\n",
              "      <td>1</td>\n",
              "    </tr>\n",
              "    <tr>\n",
              "      <th>6746</th>\n",
              "      <td>1</td>\n",
              "      <td>55</td>\n",
              "      <td>24076.33</td>\n",
              "      <td>16.322610</td>\n",
              "      <td>12</td>\n",
              "      <td>0</td>\n",
              "      <td>0</td>\n",
              "      <td>67.326480</td>\n",
              "      <td>179.965600</td>\n",
              "      <td>5696.824115</td>\n",
              "      <td>...</td>\n",
              "      <td>0</td>\n",
              "      <td>1</td>\n",
              "      <td>0</td>\n",
              "      <td>1</td>\n",
              "      <td>0</td>\n",
              "      <td>0</td>\n",
              "      <td>1</td>\n",
              "      <td>0</td>\n",
              "      <td>0</td>\n",
              "      <td>1</td>\n",
              "    </tr>\n",
              "    <tr>\n",
              "      <th>1924</th>\n",
              "      <td>5</td>\n",
              "      <td>28</td>\n",
              "      <td>23613.85</td>\n",
              "      <td>14.064275</td>\n",
              "      <td>9</td>\n",
              "      <td>3</td>\n",
              "      <td>2</td>\n",
              "      <td>10.484385</td>\n",
              "      <td>159.965008</td>\n",
              "      <td>1325.529732</td>\n",
              "      <td>...</td>\n",
              "      <td>0</td>\n",
              "      <td>0</td>\n",
              "      <td>1</td>\n",
              "      <td>0</td>\n",
              "      <td>0</td>\n",
              "      <td>1</td>\n",
              "      <td>1</td>\n",
              "      <td>0</td>\n",
              "      <td>1</td>\n",
              "      <td>0</td>\n",
              "    </tr>\n",
              "    <tr>\n",
              "      <th>3004</th>\n",
              "      <td>1</td>\n",
              "      <td>22</td>\n",
              "      <td>15864.70</td>\n",
              "      <td>14.396200</td>\n",
              "      <td>17</td>\n",
              "      <td>1</td>\n",
              "      <td>0</td>\n",
              "      <td>3.255652</td>\n",
              "      <td>242.628100</td>\n",
              "      <td>1021.343044</td>\n",
              "      <td>...</td>\n",
              "      <td>0</td>\n",
              "      <td>1</td>\n",
              "      <td>1</td>\n",
              "      <td>0</td>\n",
              "      <td>1</td>\n",
              "      <td>1</td>\n",
              "      <td>0</td>\n",
              "      <td>0</td>\n",
              "      <td>1</td>\n",
              "      <td>0</td>\n",
              "    </tr>\n",
              "    <tr>\n",
              "      <th>...</th>\n",
              "      <td>...</td>\n",
              "      <td>...</td>\n",
              "      <td>...</td>\n",
              "      <td>...</td>\n",
              "      <td>...</td>\n",
              "      <td>...</td>\n",
              "      <td>...</td>\n",
              "      <td>...</td>\n",
              "      <td>...</td>\n",
              "      <td>...</td>\n",
              "      <td>...</td>\n",
              "      <td>...</td>\n",
              "      <td>...</td>\n",
              "      <td>...</td>\n",
              "      <td>...</td>\n",
              "      <td>...</td>\n",
              "      <td>...</td>\n",
              "      <td>...</td>\n",
              "      <td>...</td>\n",
              "      <td>...</td>\n",
              "      <td>...</td>\n",
              "    </tr>\n",
              "    <tr>\n",
              "      <th>8486</th>\n",
              "      <td>0</td>\n",
              "      <td>42</td>\n",
              "      <td>32929.09</td>\n",
              "      <td>11.081140</td>\n",
              "      <td>13</td>\n",
              "      <td>0</td>\n",
              "      <td>1</td>\n",
              "      <td>46.031830</td>\n",
              "      <td>119.956800</td>\n",
              "      <td>4478.070702</td>\n",
              "      <td>...</td>\n",
              "      <td>1</td>\n",
              "      <td>0</td>\n",
              "      <td>0</td>\n",
              "      <td>0</td>\n",
              "      <td>1</td>\n",
              "      <td>0</td>\n",
              "      <td>1</td>\n",
              "      <td>0</td>\n",
              "      <td>0</td>\n",
              "      <td>0</td>\n",
              "    </tr>\n",
              "    <tr>\n",
              "      <th>180</th>\n",
              "      <td>1</td>\n",
              "      <td>67</td>\n",
              "      <td>12779.23</td>\n",
              "      <td>12.538309</td>\n",
              "      <td>9</td>\n",
              "      <td>2</td>\n",
              "      <td>1</td>\n",
              "      <td>15.645967</td>\n",
              "      <td>240.114868</td>\n",
              "      <td>1781.854862</td>\n",
              "      <td>...</td>\n",
              "      <td>0</td>\n",
              "      <td>0</td>\n",
              "      <td>0</td>\n",
              "      <td>0</td>\n",
              "      <td>1</td>\n",
              "      <td>1</td>\n",
              "      <td>0</td>\n",
              "      <td>0</td>\n",
              "      <td>0</td>\n",
              "      <td>1</td>\n",
              "    </tr>\n",
              "    <tr>\n",
              "      <th>1131</th>\n",
              "      <td>4</td>\n",
              "      <td>42</td>\n",
              "      <td>13288.17</td>\n",
              "      <td>12.849761</td>\n",
              "      <td>10</td>\n",
              "      <td>1</td>\n",
              "      <td>1</td>\n",
              "      <td>3.123139</td>\n",
              "      <td>194.988208</td>\n",
              "      <td>875.119639</td>\n",
              "      <td>...</td>\n",
              "      <td>1</td>\n",
              "      <td>0</td>\n",
              "      <td>1</td>\n",
              "      <td>0</td>\n",
              "      <td>0</td>\n",
              "      <td>1</td>\n",
              "      <td>1</td>\n",
              "      <td>0</td>\n",
              "      <td>1</td>\n",
              "      <td>0</td>\n",
              "    </tr>\n",
              "    <tr>\n",
              "      <th>8493</th>\n",
              "      <td>2</td>\n",
              "      <td>53</td>\n",
              "      <td>4978.33</td>\n",
              "      <td>10.575800</td>\n",
              "      <td>9</td>\n",
              "      <td>1</td>\n",
              "      <td>0</td>\n",
              "      <td>61.845430</td>\n",
              "      <td>190.173700</td>\n",
              "      <td>5779.476540</td>\n",
              "      <td>...</td>\n",
              "      <td>1</td>\n",
              "      <td>0</td>\n",
              "      <td>1</td>\n",
              "      <td>0</td>\n",
              "      <td>1</td>\n",
              "      <td>1</td>\n",
              "      <td>1</td>\n",
              "      <td>0</td>\n",
              "      <td>1</td>\n",
              "      <td>0</td>\n",
              "    </tr>\n",
              "    <tr>\n",
              "      <th>4477</th>\n",
              "      <td>2</td>\n",
              "      <td>46</td>\n",
              "      <td>22922.41</td>\n",
              "      <td>12.309490</td>\n",
              "      <td>9</td>\n",
              "      <td>1</td>\n",
              "      <td>1</td>\n",
              "      <td>2.577535</td>\n",
              "      <td>139.956800</td>\n",
              "      <td>552.480335</td>\n",
              "      <td>...</td>\n",
              "      <td>1</td>\n",
              "      <td>0</td>\n",
              "      <td>0</td>\n",
              "      <td>0</td>\n",
              "      <td>1</td>\n",
              "      <td>0</td>\n",
              "      <td>1</td>\n",
              "      <td>0</td>\n",
              "      <td>0</td>\n",
              "      <td>1</td>\n",
              "    </tr>\n",
              "  </tbody>\n",
              "</table>\n",
              "<p>7000 rows × 45 columns</p>\n",
              "</div>\n",
              "      <button class=\"colab-df-convert\" onclick=\"convertToInteractive('df-2faa49ab-a207-4b76-a202-9c9ffe6e5dbc')\"\n",
              "              title=\"Convert this dataframe to an interactive table.\"\n",
              "              style=\"display:none;\">\n",
              "        \n",
              "  <svg xmlns=\"http://www.w3.org/2000/svg\" height=\"24px\"viewBox=\"0 0 24 24\"\n",
              "       width=\"24px\">\n",
              "    <path d=\"M0 0h24v24H0V0z\" fill=\"none\"/>\n",
              "    <path d=\"M18.56 5.44l.94 2.06.94-2.06 2.06-.94-2.06-.94-.94-2.06-.94 2.06-2.06.94zm-11 1L8.5 8.5l.94-2.06 2.06-.94-2.06-.94L8.5 2.5l-.94 2.06-2.06.94zm10 10l.94 2.06.94-2.06 2.06-.94-2.06-.94-.94-2.06-.94 2.06-2.06.94z\"/><path d=\"M17.41 7.96l-1.37-1.37c-.4-.4-.92-.59-1.43-.59-.52 0-1.04.2-1.43.59L10.3 9.45l-7.72 7.72c-.78.78-.78 2.05 0 2.83L4 21.41c.39.39.9.59 1.41.59.51 0 1.02-.2 1.41-.59l7.78-7.78 2.81-2.81c.8-.78.8-2.07 0-2.86zM5.41 20L4 18.59l7.72-7.72 1.47 1.35L5.41 20z\"/>\n",
              "  </svg>\n",
              "      </button>\n",
              "      \n",
              "  <style>\n",
              "    .colab-df-container {\n",
              "      display:flex;\n",
              "      flex-wrap:wrap;\n",
              "      gap: 12px;\n",
              "    }\n",
              "\n",
              "    .colab-df-convert {\n",
              "      background-color: #E8F0FE;\n",
              "      border: none;\n",
              "      border-radius: 50%;\n",
              "      cursor: pointer;\n",
              "      display: none;\n",
              "      fill: #1967D2;\n",
              "      height: 32px;\n",
              "      padding: 0 0 0 0;\n",
              "      width: 32px;\n",
              "    }\n",
              "\n",
              "    .colab-df-convert:hover {\n",
              "      background-color: #E2EBFA;\n",
              "      box-shadow: 0px 1px 2px rgba(60, 64, 67, 0.3), 0px 1px 3px 1px rgba(60, 64, 67, 0.15);\n",
              "      fill: #174EA6;\n",
              "    }\n",
              "\n",
              "    [theme=dark] .colab-df-convert {\n",
              "      background-color: #3B4455;\n",
              "      fill: #D2E3FC;\n",
              "    }\n",
              "\n",
              "    [theme=dark] .colab-df-convert:hover {\n",
              "      background-color: #434B5C;\n",
              "      box-shadow: 0px 1px 3px 1px rgba(0, 0, 0, 0.15);\n",
              "      filter: drop-shadow(0px 1px 2px rgba(0, 0, 0, 0.3));\n",
              "      fill: #FFFFFF;\n",
              "    }\n",
              "  </style>\n",
              "\n",
              "      <script>\n",
              "        const buttonEl =\n",
              "          document.querySelector('#df-2faa49ab-a207-4b76-a202-9c9ffe6e5dbc button.colab-df-convert');\n",
              "        buttonEl.style.display =\n",
              "          google.colab.kernel.accessAllowed ? 'block' : 'none';\n",
              "\n",
              "        async function convertToInteractive(key) {\n",
              "          const element = document.querySelector('#df-2faa49ab-a207-4b76-a202-9c9ffe6e5dbc');\n",
              "          const dataTable =\n",
              "            await google.colab.kernel.invokeFunction('convertToInteractive',\n",
              "                                                     [key], {});\n",
              "          if (!dataTable) return;\n",
              "\n",
              "          const docLinkHtml = 'Like what you see? Visit the ' +\n",
              "            '<a target=\"_blank\" href=https://colab.research.google.com/notebooks/data_table.ipynb>data table notebook</a>'\n",
              "            + ' to learn more about interactive tables.';\n",
              "          element.innerHTML = '';\n",
              "          dataTable['output_type'] = 'display_data';\n",
              "          await google.colab.output.renderOutput(dataTable, element);\n",
              "          const docLink = document.createElement('div');\n",
              "          docLink.innerHTML = docLinkHtml;\n",
              "          element.appendChild(docLink);\n",
              "        }\n",
              "      </script>\n",
              "    </div>\n",
              "  </div>\n",
              "  "
            ]
          },
          "metadata": {},
          "execution_count": 27
        }
      ]
    },
    {
      "cell_type": "code",
      "source": [
        "knn = KNeighborsClassifier(n_neighbors= 5)"
      ],
      "metadata": {
        "id": "WBsvOwt_Xkdg"
      },
      "execution_count": 28,
      "outputs": []
    },
    {
      "cell_type": "code",
      "source": [
        "knn.fit(scaled_X_train, y_train)"
      ],
      "metadata": {
        "colab": {
          "base_uri": "https://localhost:8080/"
        },
        "id": "jC2NcqG9YrmX",
        "outputId": "904569e3-7bec-42dc-e1f1-ef1e8d352945"
      },
      "execution_count": 29,
      "outputs": [
        {
          "output_type": "execute_result",
          "data": {
            "text/plain": [
              "KNeighborsClassifier()"
            ]
          },
          "metadata": {},
          "execution_count": 29
        }
      ]
    },
    {
      "cell_type": "code",
      "source": [
        "y_pred = knn.predict(scaled_X_test)"
      ],
      "metadata": {
        "id": "vbFNpQ1PY8Mw"
      },
      "execution_count": 30,
      "outputs": []
    },
    {
      "cell_type": "code",
      "source": [
        "confusion_matrix(y_test, y_pred)"
      ],
      "metadata": {
        "colab": {
          "base_uri": "https://localhost:8080/"
        },
        "id": "u_auCywXZb_i",
        "outputId": "92fd37e7-60c7-42ef-f9d7-1e47ddbf175b"
      },
      "execution_count": 31,
      "outputs": [
        {
          "output_type": "execute_result",
          "data": {
            "text/plain": [
              "array([[2013,  192],\n",
              "       [ 320,  475]])"
            ]
          },
          "metadata": {},
          "execution_count": 31
        }
      ]
    },
    {
      "cell_type": "code",
      "source": [
        "print(classification_report(y_test, y_pred))"
      ],
      "metadata": {
        "colab": {
          "base_uri": "https://localhost:8080/"
        },
        "id": "WHtyXozTZm0A",
        "outputId": "2f7de267-055f-4f7a-8082-a58debdc802f"
      },
      "execution_count": 32,
      "outputs": [
        {
          "output_type": "stream",
          "name": "stdout",
          "text": [
            "              precision    recall  f1-score   support\n",
            "\n",
            "           0       0.86      0.91      0.89      2205\n",
            "           1       0.71      0.60      0.65       795\n",
            "\n",
            "    accuracy                           0.83      3000\n",
            "   macro avg       0.79      0.76      0.77      3000\n",
            "weighted avg       0.82      0.83      0.82      3000\n",
            "\n"
          ]
        }
      ]
    },
    {
      "cell_type": "code",
      "source": [
        "knn.score(scaled_X_test,y_test)"
      ],
      "metadata": {
        "colab": {
          "base_uri": "https://localhost:8080/"
        },
        "id": "DCFac78zZx1R",
        "outputId": "4fdb2971-bed1-4b18-9d0e-987dda7bd470"
      },
      "execution_count": 33,
      "outputs": [
        {
          "output_type": "execute_result",
          "data": {
            "text/plain": [
              "0.8293333333333334"
            ]
          },
          "metadata": {},
          "execution_count": 33
        }
      ]
    },
    {
      "cell_type": "code",
      "source": [
        "test_error_rate = []\n",
        "\n",
        "for k in range(1,30):\n",
        "  knn = KNeighborsClassifier(n_neighbors=k)\n",
        "  knn.fit(scaled_X_train, y_train)\n",
        "  y_pred_test = knn.predict(scaled_X_test)\n",
        "  test_error = 1 - accuracy_score(y_test, y_pred_test)\n",
        "  test_error_rate.append(test_error)\n"
      ],
      "metadata": {
        "id": "M7NqACZral6O"
      },
      "execution_count": 34,
      "outputs": []
    },
    {
      "cell_type": "code",
      "source": [
        "test_error_rate"
      ],
      "metadata": {
        "colab": {
          "base_uri": "https://localhost:8080/"
        },
        "id": "dobJ4DrseB9b",
        "outputId": "3aba3268-88f1-4b6a-944b-cdae7b5227b3"
      },
      "execution_count": 35,
      "outputs": [
        {
          "output_type": "execute_result",
          "data": {
            "text/plain": [
              "[0.22199999999999998,\n",
              " 0.20999999999999996,\n",
              " 0.19199999999999995,\n",
              " 0.18766666666666665,\n",
              " 0.17066666666666663,\n",
              " 0.17566666666666664,\n",
              " 0.16833333333333333,\n",
              " 0.17166666666666663,\n",
              " 0.16533333333333333,\n",
              " 0.16966666666666663,\n",
              " 0.15633333333333332,\n",
              " 0.16900000000000004,\n",
              " 0.16100000000000003,\n",
              " 0.16666666666666663,\n",
              " 0.16000000000000003,\n",
              " 0.16200000000000003,\n",
              " 0.15533333333333332,\n",
              " 0.16300000000000003,\n",
              " 0.15933333333333333,\n",
              " 0.16200000000000003,\n",
              " 0.15333333333333332,\n",
              " 0.15966666666666662,\n",
              " 0.15366666666666662,\n",
              " 0.15966666666666662,\n",
              " 0.15433333333333332,\n",
              " 0.15700000000000003,\n",
              " 0.15333333333333332,\n",
              " 0.15866666666666662,\n",
              " 0.14933333333333332]"
            ]
          },
          "metadata": {},
          "execution_count": 35
        }
      ]
    },
    {
      "cell_type": "code",
      "source": [
        "scores = []\n",
        "k_range = range(1,25)\n",
        "for k in k_range:\n",
        "  knn = KNeighborsClassifier(n_neighbors=k)\n",
        "  knn.fit(scaled_X_train, y_train)\n",
        "  scores.append(knn.score(scaled_X_test, y_test))\n",
        "\n",
        "\n",
        "plt.figure()\n",
        "plt.xlabel('K count')\n",
        "plt.ylabel('Model accuracy')\n",
        "plt.scatter(k_range, scores)\n",
        "plt.grid()\n",
        "plt.xticks([0,5,10,15,20,25,30])\n",
        "plt.show()\n",
        " "
      ],
      "metadata": {
        "colab": {
          "base_uri": "https://localhost:8080/",
          "height": 283
        },
        "id": "hz-W-AaOeJEl",
        "outputId": "cd80d177-2b4f-491a-ae84-732fea4b4d2d"
      },
      "execution_count": 36,
      "outputs": [
        {
          "output_type": "display_data",
          "data": {
            "text/plain": [
              "<Figure size 432x288 with 1 Axes>"
            ],
            "image/png": "[encoded data removed]"
          },
          "metadata": {
            "needs_background": "light"
          }
        }
      ]
    },
    {
      "cell_type": "code",
      "source": [
        "plt.plot(range(1,30), test_error_rate)\n",
        "plt.ylabel(\"ERROR RATE\")\n",
        "plt.xlabel(\"K NEIGHBORS\")"
      ],
      "metadata": {
        "id": "_VYN4N8Dn97N",
        "colab": {
          "base_uri": "https://localhost:8080/",
          "height": 297
        },
        "outputId": "9c7f620e-84cb-4794-b748-9251bcc8716a"
      },
      "execution_count": 37,
      "outputs": [
        {
          "output_type": "execute_result",
          "data": {
            "text/plain": [
              "Text(0.5, 0, 'K NEIGHBORS')"
            ]
          },
          "metadata": {},
          "execution_count": 37
        },
        {
          "output_type": "display_data",
          "data": {
            "text/plain": [
              "<Figure size 432x288 with 1 Axes>"
            ],
            "image/png": "[encoded data removed]"
          },
          "metadata": {
            "needs_background": "light"
          }
        }
      ]
    },
    {
      "cell_type": "code",
      "source": [
        "# Find the roc auc score for training data\n",
        "knn_roc_auc_train = roc_auc_score(\n",
        "    y_train, knn.predict_proba(scaled_X_train)[:, 1]\n",
        ")  # The indexing represents predicted probabilities for class 1\n",
        "# Find fpr, tpr and threshold values\n",
        "fpr, tpr, thresholds = roc_curve(y_train, knn.predict_proba(scaled_X_train)[:, 1])\n",
        "plt.figure(figsize=(7, 5))\n",
        "# Plot roc curve\n",
        "plt.plot(fpr, tpr, label=\"KNN (area = %0.2f)\" % knn_roc_auc_train)\n",
        "plt.plot([0, 1], [0, 1], \"r--\")\n",
        "plt.xlim([0.0, 1.0])\n",
        "plt.ylim([0.0, 1.05])\n",
        "plt.xlabel(\"False Positive Rate\")\n",
        "plt.ylabel(\"True Positive Rate\")\n",
        "plt.title(\"Receiver operating characteristic\")\n",
        "plt.legend(loc=\"lower right\")\n",
        "plt.show()"
      ],
      "metadata": {
        "colab": {
          "base_uri": "https://localhost:8080/",
          "height": 350
        },
        "id": "_pJVZWQvo_wZ",
        "outputId": "b1538eed-e5fa-4f23-b2ab-dd2a118338ba"
      },
      "execution_count": 38,
      "outputs": [
        {
          "output_type": "display_data",
          "data": {
            "text/plain": [
              "<Figure size 504x360 with 1 Axes>"
            ],
            "image/png": "[encoded data removed]"
          },
          "metadata": {
            "needs_background": "light"
          }
        }
      ]
    },
    {
      "cell_type": "code",
      "source": [
        "# Find the roc auc score for test data\n",
        "knn_roc_auc_test = roc_auc_score(\n",
        "    y_test, knn.predict_proba(scaled_X_test)[:, 1]\n",
        ")  # The indexing represents predicted probabilities for class 1\n",
        "# Find fpr, tpr and threshold values\n",
        "fpr, tpr, thresholds = roc_curve(y_test, knn.predict_proba(scaled_X_test)[:, 1])\n",
        "plt.figure(figsize=(7, 5))\n",
        "# Plot roc curve\n",
        "plt.plot(fpr, tpr, label=\"KNN (area = %0.2f)\" % knn_roc_auc_test)\n",
        "plt.plot([0, 1], [0, 1], \"r--\")\n",
        "plt.xlim([0.0, 1.0])\n",
        "plt.ylim([0.0, 1.05])\n",
        "plt.xlabel(\"False Positive Rate\")\n",
        "plt.ylabel(\"True Positive Rate\")\n",
        "plt.title(\"Receiver operating characteristic\")\n",
        "plt.legend(loc=\"lower right\")\n",
        "plt.show()"
      ],
      "metadata": {
        "colab": {
          "base_uri": "https://localhost:8080/",
          "height": 350
        },
        "id": "J6X-2d4prwiJ",
        "outputId": "d3fc5c0a-0af5-466e-876c-b4401beda614"
      },
      "execution_count": 39,
      "outputs": [
        {
          "output_type": "display_data",
          "data": {
            "text/plain": [
              "<Figure size 504x360 with 1 Axes>"
            ],
            "image/png": "[encoded data removed]"
          },
          "metadata": {
            "needs_background": "light"
          }
        }
      ]
    },
    {
      "cell_type": "code",
      "source": [
        "\n",
        "# Pipeline for gridsearch and cross validation\n",
        "#setting the scaller\n",
        "scaler2 = StandardScaler()\n",
        "\n",
        "#setting the knn model\n",
        "knn2 = KNeighborsClassifier()\n",
        "\n",
        "# our operations\n",
        "operations = [('scaler2', scaler2), ('knn2', knn2)]\n",
        "\n"
      ],
      "metadata": {
        "id": "JQfm8gBQx03P"
      },
      "execution_count": 40,
      "outputs": []
    },
    {
      "cell_type": "code",
      "source": [
        "from sklearn.pipeline import Pipeline\n",
        "from sklearn.model_selection import GridSearchCV"
      ],
      "metadata": {
        "id": "o7mXCpf24_8F"
      },
      "execution_count": 41,
      "outputs": []
    },
    {
      "cell_type": "code",
      "source": [
        "pipe = Pipeline(operations)"
      ],
      "metadata": {
        "id": "SslFLB115JIr"
      },
      "execution_count": 42,
      "outputs": []
    },
    {
      "cell_type": "code",
      "source": [
        "k_values = list(range(1,20))"
      ],
      "metadata": {
        "id": "04pDfnGl5f9p"
      },
      "execution_count": 43,
      "outputs": []
    },
    {
      "cell_type": "code",
      "source": [
        "param_grid = {'knn2__n_neighbors':k_values}"
      ],
      "metadata": {
        "id": "TgTIXEDI5r3h"
      },
      "execution_count": 44,
      "outputs": []
    },
    {
      "cell_type": "code",
      "source": [
        "full_knn_cv_classifier = GridSearchCV(pipe,param_grid, cv =5, scoring='accuracy')"
      ],
      "metadata": {
        "id": "2IgtSXsL6v1h"
      },
      "execution_count": 45,
      "outputs": []
    },
    {
      "cell_type": "code",
      "source": [
        "full_knn_cv_classifier.fit(X_train,y_train)"
      ],
      "metadata": {
        "colab": {
          "base_uri": "https://localhost:8080/"
        },
        "id": "Lc7LlnVy7Gej",
        "outputId": "fbc6182c-2e47-41cb-f900-46f9b075cef6"
      },
      "execution_count": 46,
      "outputs": [
        {
          "output_type": "execute_result",
          "data": {
            "text/plain": [
              "GridSearchCV(cv=5,\n",
              "             estimator=Pipeline(steps=[('scaler2', StandardScaler()),\n",
              "                                       ('knn2', KNeighborsClassifier())]),\n",
              "             param_grid={'knn2__n_neighbors': [1, 2, 3, 4, 5, 6, 7, 8, 9, 10,\n",
              "                                               11, 12, 13, 14, 15, 16, 17, 18,\n",
              "                                               19]},\n",
              "             scoring='accuracy')"
            ]
          },
          "metadata": {},
          "execution_count": 46
        }
      ]
    },
    {
      "cell_type": "code",
      "source": [
        "full_knn_cv_classifier.best_estimator_.get_params()"
      ],
      "metadata": {
        "colab": {
          "base_uri": "https://localhost:8080/"
        },
        "id": "B1PyQC8q7SWZ",
        "outputId": "551a1cf8-35bc-451c-c00e-abc2d5d79b23"
      },
      "execution_count": 47,
      "outputs": [
        {
          "output_type": "execute_result",
          "data": {
            "text/plain": [
              "{'memory': None,\n",
              " 'steps': [('scaler2', StandardScaler()),\n",
              "  ('knn2', KNeighborsClassifier(n_neighbors=13))],\n",
              " 'verbose': False,\n",
              " 'scaler2': StandardScaler(),\n",
              " 'knn2': KNeighborsClassifier(n_neighbors=13),\n",
              " 'scaler2__copy': True,\n",
              " 'scaler2__with_mean': True,\n",
              " 'scaler2__with_std': True,\n",
              " 'knn2__algorithm': 'auto',\n",
              " 'knn2__leaf_size': 30,\n",
              " 'knn2__metric': 'minkowski',\n",
              " 'knn2__metric_params': None,\n",
              " 'knn2__n_jobs': None,\n",
              " 'knn2__n_neighbors': 13,\n",
              " 'knn2__p': 2,\n",
              " 'knn2__weights': 'uniform'}"
            ]
          },
          "metadata": {},
          "execution_count": 47
        }
      ]
    },
    {
      "cell_type": "code",
      "source": [
        "full_prediction = full_knn_cv_classifier.predict(X_test)"
      ],
      "metadata": {
        "id": "dYc_9gLq7gTg"
      },
      "execution_count": 48,
      "outputs": []
    },
    {
      "cell_type": "code",
      "source": [
        "print(classification_report(y_test, full_prediction))"
      ],
      "metadata": {
        "colab": {
          "base_uri": "https://localhost:8080/"
        },
        "id": "fx0T_zOy8G5Y",
        "outputId": "59d0f556-6386-410f-b4c0-61c00bc5f788"
      },
      "execution_count": 49,
      "outputs": [
        {
          "output_type": "stream",
          "name": "stdout",
          "text": [
            "              precision    recall  f1-score   support\n",
            "\n",
            "           0       0.85      0.95      0.90      2205\n",
            "           1       0.79      0.53      0.64       795\n",
            "\n",
            "    accuracy                           0.84      3000\n",
            "   macro avg       0.82      0.74      0.77      3000\n",
            "weighted avg       0.83      0.84      0.83      3000\n",
            "\n"
          ]
        }
      ]
    },
    {
      "cell_type": "code",
      "source": [
        "# defining a function to compute different metrics to check performance of a classification model built using sklearn\n",
        "\n",
        "def model_performance_classification_sklearn_with_threshold(model, predictors, target, threshold=0.5):\n",
        "    \"\"\"\n",
        "    Function to compute different metrics, based on the threshold specified, to check classification model performance\n",
        "\n",
        "    model: classifier\n",
        "    predictors: independent variables\n",
        "    target: dependent variable\n",
        "    threshold: threshold for classifying the observation as class 1\n",
        "    \"\"\"\n",
        "\n",
        "    # predicting using the independent variables\n",
        "    pred_prob = model.predict_proba(predictors)[:, 1]\n",
        "    pred_thres = pred_prob > threshold\n",
        "    pred = np.round(pred_thres)\n",
        "\n",
        "    acc = accuracy_score(target, pred)  # to compute Accuracy\n",
        "    recall = recall_score(target, pred)  # to compute Recall\n",
        "    precision = precision_score(target, pred)  # to compute Precision\n",
        "    f1 = f1_score(target, pred)  # to compute F1-score\n",
        "\n",
        "    # creating a dataframe of metrics\n",
        "    df_perf = pd.DataFrame(\n",
        "        {\n",
        "            \"Accuracy\": acc,\n",
        "            \"Recall\": recall,\n",
        "            \"Precision\": precision,\n",
        "            \"F1\": f1,\n",
        "        },\n",
        "        index=[0],\n",
        "    )\n",
        "\n",
        "    return df_perf"
      ],
      "metadata": {
        "id": "YM5T5ewK8WVY"
      },
      "execution_count": 50,
      "outputs": []
    },
    {
      "cell_type": "code",
      "source": [
        "log_reg_model_train_perf = model_performance_classification_sklearn_with_threshold(\n",
        "    full_knn_cv_classifier, X_train, y_train\n",
        ")\n",
        "\n",
        "print(\"Training performance:\")\n",
        "log_reg_model_train_perf"
      ],
      "metadata": {
        "colab": {
          "base_uri": "https://localhost:8080/",
          "height": 99
        },
        "id": "8njBdFjz9sxV",
        "outputId": "c339c43d-c2fb-40fc-cc04-966d2bd899fd"
      },
      "execution_count": 51,
      "outputs": [
        {
          "output_type": "stream",
          "name": "stdout",
          "text": [
            "Training performance:\n"
          ]
        },
        {
          "output_type": "execute_result",
          "data": {
            "text/plain": [
              "   Accuracy    Recall  Precision       F1\n",
              "0  0.872286  0.609164     0.8699  0.71655"
            ],
            "text/html": [
              "\n",
              "  <div id=\"df-54a7a29f-bed9-4974-b0d1-56a89cd82148\">\n",
              "    <div class=\"colab-df-container\">\n",
              "      <div>\n",
              "<style scoped>\n",
              "    .dataframe tbody tr th:only-of-type {\n",
              "        vertical-align: middle;\n",
              "    }\n",
              "\n",
              "    .dataframe tbody tr th {\n",
              "        vertical-align: top;\n",
              "    }\n",
              "\n",
              "    .dataframe thead th {\n",
              "        text-align: right;\n",
              "    }\n",
              "</style>\n",
              "<table border=\"1\" class=\"dataframe\">\n",
              "  <thead>\n",
              "    <tr style=\"text-align: right;\">\n",
              "      <th></th>\n",
              "      <th>Accuracy</th>\n",
              "      <th>Recall</th>\n",
              "      <th>Precision</th>\n",
              "      <th>F1</th>\n",
              "    </tr>\n",
              "  </thead>\n",
              "  <tbody>\n",
              "    <tr>\n",
              "      <th>0</th>\n",
              "      <td>0.872286</td>\n",
              "      <td>0.609164</td>\n",
              "      <td>0.8699</td>\n",
              "      <td>0.71655</td>\n",
              "    </tr>\n",
              "  </tbody>\n",
              "</table>\n",
              "</div>\n",
              "      <button class=\"colab-df-convert\" onclick=\"convertToInteractive('df-54a7a29f-bed9-4974-b0d1-56a89cd82148')\"\n",
              "              title=\"Convert this dataframe to an interactive table.\"\n",
              "              style=\"display:none;\">\n",
              "        \n",
              "  <svg xmlns=\"http://www.w3.org/2000/svg\" height=\"24px\"viewBox=\"0 0 24 24\"\n",
              "       width=\"24px\">\n",
              "    <path d=\"M0 0h24v24H0V0z\" fill=\"none\"/>\n",
              "    <path d=\"M18.56 5.44l.94 2.06.94-2.06 2.06-.94-2.06-.94-.94-2.06-.94 2.06-2.06.94zm-11 1L8.5 8.5l.94-2.06 2.06-.94-2.06-.94L8.5 2.5l-.94 2.06-2.06.94zm10 10l.94 2.06.94-2.06 2.06-.94-2.06-.94-.94-2.06-.94 2.06-2.06.94z\"/><path d=\"M17.41 7.96l-1.37-1.37c-.4-.4-.92-.59-1.43-.59-.52 0-1.04.2-1.43.59L10.3 9.45l-7.72 7.72c-.78.78-.78 2.05 0 2.83L4 21.41c.39.39.9.59 1.41.59.51 0 1.02-.2 1.41-.59l7.78-7.78 2.81-2.81c.8-.78.8-2.07 0-2.86zM5.41 20L4 18.59l7.72-7.72 1.47 1.35L5.41 20z\"/>\n",
              "  </svg>\n",
              "      </button>\n",
              "      \n",
              "  <style>\n",
              "    .colab-df-container {\n",
              "      display:flex;\n",
              "      flex-wrap:wrap;\n",
              "      gap: 12px;\n",
              "    }\n",
              "\n",
              "    .colab-df-convert {\n",
              "      background-color: #E8F0FE;\n",
              "      border: none;\n",
              "      border-radius: 50%;\n",
              "      cursor: pointer;\n",
              "      display: none;\n",
              "      fill: #1967D2;\n",
              "      height: 32px;\n",
              "      padding: 0 0 0 0;\n",
              "      width: 32px;\n",
              "    }\n",
              "\n",
              "    .colab-df-convert:hover {\n",
              "      background-color: #E2EBFA;\n",
              "      box-shadow: 0px 1px 2px rgba(60, 64, 67, 0.3), 0px 1px 3px 1px rgba(60, 64, 67, 0.15);\n",
              "      fill: #174EA6;\n",
              "    }\n",
              "\n",
              "    [theme=dark] .colab-df-convert {\n",
              "      background-color: #3B4455;\n",
              "      fill: #D2E3FC;\n",
              "    }\n",
              "\n",
              "    [theme=dark] .colab-df-convert:hover {\n",
              "      background-color: #434B5C;\n",
              "      box-shadow: 0px 1px 3px 1px rgba(0, 0, 0, 0.15);\n",
              "      filter: drop-shadow(0px 1px 2px rgba(0, 0, 0, 0.3));\n",
              "      fill: #FFFFFF;\n",
              "    }\n",
              "  </style>\n",
              "\n",
              "      <script>\n",
              "        const buttonEl =\n",
              "          document.querySelector('#df-54a7a29f-bed9-4974-b0d1-56a89cd82148 button.colab-df-convert');\n",
              "        buttonEl.style.display =\n",
              "          google.colab.kernel.accessAllowed ? 'block' : 'none';\n",
              "\n",
              "        async function convertToInteractive(key) {\n",
              "          const element = document.querySelector('#df-54a7a29f-bed9-4974-b0d1-56a89cd82148');\n",
              "          const dataTable =\n",
              "            await google.colab.kernel.invokeFunction('convertToInteractive',\n",
              "                                                     [key], {});\n",
              "          if (!dataTable) return;\n",
              "\n",
              "          const docLinkHtml = 'Like what you see? Visit the ' +\n",
              "            '<a target=\"_blank\" href=https://colab.research.google.com/notebooks/data_table.ipynb>data table notebook</a>'\n",
              "            + ' to learn more about interactive tables.';\n",
              "          element.innerHTML = '';\n",
              "          dataTable['output_type'] = 'display_data';\n",
              "          await google.colab.output.renderOutput(dataTable, element);\n",
              "          const docLink = document.createElement('div');\n",
              "          docLink.innerHTML = docLinkHtml;\n",
              "          element.appendChild(docLink);\n",
              "        }\n",
              "      </script>\n",
              "    </div>\n",
              "  </div>\n",
              "  "
            ]
          },
          "metadata": {},
          "execution_count": 51
        }
      ]
    },
    {
      "cell_type": "code",
      "source": [
        "log_reg_model_train_perf = model_performance_classification_sklearn_with_threshold(\n",
        "    knn, scaled_X_train, y_train\n",
        ")\n",
        "\n",
        "print(\"Training performance:\")\n",
        "log_reg_model_train_perf"
      ],
      "metadata": {
        "colab": {
          "base_uri": "https://localhost:8080/",
          "height": 99
        },
        "id": "XFKSPPpl-FVH",
        "outputId": "e9fb5200-b069-4b91-92cd-484809a470fb"
      },
      "execution_count": 52,
      "outputs": [
        {
          "output_type": "stream",
          "name": "stdout",
          "text": [
            "Training performance:\n"
          ]
        },
        {
          "output_type": "execute_result",
          "data": {
            "text/plain": [
              "   Accuracy    Recall  Precision        F1\n",
              "0  0.854714  0.501887    0.90918  0.646752"
            ],
            "text/html": [
              "\n",
              "  <div id=\"df-b0987383-2130-4229-82c0-72af8fcba8b0\">\n",
              "    <div class=\"colab-df-container\">\n",
              "      <div>\n",
              "<style scoped>\n",
              "    .dataframe tbody tr th:only-of-type {\n",
              "        vertical-align: middle;\n",
              "    }\n",
              "\n",
              "    .dataframe tbody tr th {\n",
              "        vertical-align: top;\n",
              "    }\n",
              "\n",
              "    .dataframe thead th {\n",
              "        text-align: right;\n",
              "    }\n",
              "</style>\n",
              "<table border=\"1\" class=\"dataframe\">\n",
              "  <thead>\n",
              "    <tr style=\"text-align: right;\">\n",
              "      <th></th>\n",
              "      <th>Accuracy</th>\n",
              "      <th>Recall</th>\n",
              "      <th>Precision</th>\n",
              "      <th>F1</th>\n",
              "    </tr>\n",
              "  </thead>\n",
              "  <tbody>\n",
              "    <tr>\n",
              "      <th>0</th>\n",
              "      <td>0.854714</td>\n",
              "      <td>0.501887</td>\n",
              "      <td>0.90918</td>\n",
              "      <td>0.646752</td>\n",
              "    </tr>\n",
              "  </tbody>\n",
              "</table>\n",
              "</div>\n",
              "      <button class=\"colab-df-convert\" onclick=\"convertToInteractive('df-b0987383-2130-4229-82c0-72af8fcba8b0')\"\n",
              "              title=\"Convert this dataframe to an interactive table.\"\n",
              "              style=\"display:none;\">\n",
              "        \n",
              "  <svg xmlns=\"http://www.w3.org/2000/svg\" height=\"24px\"viewBox=\"0 0 24 24\"\n",
              "       width=\"24px\">\n",
              "    <path d=\"M0 0h24v24H0V0z\" fill=\"none\"/>\n",
              "    <path d=\"M18.56 5.44l.94 2.06.94-2.06 2.06-.94-2.06-.94-.94-2.06-.94 2.06-2.06.94zm-11 1L8.5 8.5l.94-2.06 2.06-.94-2.06-.94L8.5 2.5l-.94 2.06-2.06.94zm10 10l.94 2.06.94-2.06 2.06-.94-2.06-.94-.94-2.06-.94 2.06-2.06.94z\"/><path d=\"M17.41 7.96l-1.37-1.37c-.4-.4-.92-.59-1.43-.59-.52 0-1.04.2-1.43.59L10.3 9.45l-7.72 7.72c-.78.78-.78 2.05 0 2.83L4 21.41c.39.39.9.59 1.41.59.51 0 1.02-.2 1.41-.59l7.78-7.78 2.81-2.81c.8-.78.8-2.07 0-2.86zM5.41 20L4 18.59l7.72-7.72 1.47 1.35L5.41 20z\"/>\n",
              "  </svg>\n",
              "      </button>\n",
              "      \n",
              "  <style>\n",
              "    .colab-df-container {\n",
              "      display:flex;\n",
              "      flex-wrap:wrap;\n",
              "      gap: 12px;\n",
              "    }\n",
              "\n",
              "    .colab-df-convert {\n",
              "      background-color: #E8F0FE;\n",
              "      border: none;\n",
              "      border-radius: 50%;\n",
              "      cursor: pointer;\n",
              "      display: none;\n",
              "      fill: #1967D2;\n",
              "      height: 32px;\n",
              "      padding: 0 0 0 0;\n",
              "      width: 32px;\n",
              "    }\n",
              "\n",
              "    .colab-df-convert:hover {\n",
              "      background-color: #E2EBFA;\n",
              "      box-shadow: 0px 1px 2px rgba(60, 64, 67, 0.3), 0px 1px 3px 1px rgba(60, 64, 67, 0.15);\n",
              "      fill: #174EA6;\n",
              "    }\n",
              "\n",
              "    [theme=dark] .colab-df-convert {\n",
              "      background-color: #3B4455;\n",
              "      fill: #D2E3FC;\n",
              "    }\n",
              "\n",
              "    [theme=dark] .colab-df-convert:hover {\n",
              "      background-color: #434B5C;\n",
              "      box-shadow: 0px 1px 3px 1px rgba(0, 0, 0, 0.15);\n",
              "      filter: drop-shadow(0px 1px 2px rgba(0, 0, 0, 0.3));\n",
              "      fill: #FFFFFF;\n",
              "    }\n",
              "  </style>\n",
              "\n",
              "      <script>\n",
              "        const buttonEl =\n",
              "          document.querySelector('#df-b0987383-2130-4229-82c0-72af8fcba8b0 button.colab-df-convert');\n",
              "        buttonEl.style.display =\n",
              "          google.colab.kernel.accessAllowed ? 'block' : 'none';\n",
              "\n",
              "        async function convertToInteractive(key) {\n",
              "          const element = document.querySelector('#df-b0987383-2130-4229-82c0-72af8fcba8b0');\n",
              "          const dataTable =\n",
              "            await google.colab.kernel.invokeFunction('convertToInteractive',\n",
              "                                                     [key], {});\n",
              "          if (!dataTable) return;\n",
              "\n",
              "          const docLinkHtml = 'Like what you see? Visit the ' +\n",
              "            '<a target=\"_blank\" href=https://colab.research.google.com/notebooks/data_table.ipynb>data table notebook</a>'\n",
              "            + ' to learn more about interactive tables.';\n",
              "          element.innerHTML = '';\n",
              "          dataTable['output_type'] = 'display_data';\n",
              "          await google.colab.output.renderOutput(dataTable, element);\n",
              "          const docLink = document.createElement('div');\n",
              "          docLink.innerHTML = docLinkHtml;\n",
              "          element.appendChild(docLink);\n",
              "        }\n",
              "      </script>\n",
              "    </div>\n",
              "  </div>\n",
              "  "
            ]
          },
          "metadata": {},
          "execution_count": 52
        }
      ]
    },
    {
      "cell_type": "code",
      "source": [
        "log_reg_model_train_perf = model_performance_classification_sklearn_with_threshold(\n",
        "    full_knn_cv_classifier, X_test, y_test\n",
        ")\n",
        "\n",
        "print(\"Training performance:\")\n",
        "log_reg_model_train_perf"
      ],
      "metadata": {
        "colab": {
          "base_uri": "https://localhost:8080/",
          "height": 99
        },
        "id": "jP87PPZb-idq",
        "outputId": "851104f9-d9c9-461b-b3a9-31ce4ee38f2b"
      },
      "execution_count": 53,
      "outputs": [
        {
          "output_type": "stream",
          "name": "stdout",
          "text": [
            "Training performance:\n"
          ]
        },
        {
          "output_type": "execute_result",
          "data": {
            "text/plain": [
              "   Accuracy    Recall  Precision        F1\n",
              "0     0.839  0.530818   0.793233  0.636021"
            ],
            "text/html": [
              "\n",
              "  <div id=\"df-4e000d1c-d2ae-4f1a-93a1-7aa8c45d2a84\">\n",
              "    <div class=\"colab-df-container\">\n",
              "      <div>\n",
              "<style scoped>\n",
              "    .dataframe tbody tr th:only-of-type {\n",
              "        vertical-align: middle;\n",
              "    }\n",
              "\n",
              "    .dataframe tbody tr th {\n",
              "        vertical-align: top;\n",
              "    }\n",
              "\n",
              "    .dataframe thead th {\n",
              "        text-align: right;\n",
              "    }\n",
              "</style>\n",
              "<table border=\"1\" class=\"dataframe\">\n",
              "  <thead>\n",
              "    <tr style=\"text-align: right;\">\n",
              "      <th></th>\n",
              "      <th>Accuracy</th>\n",
              "      <th>Recall</th>\n",
              "      <th>Precision</th>\n",
              "      <th>F1</th>\n",
              "    </tr>\n",
              "  </thead>\n",
              "  <tbody>\n",
              "    <tr>\n",
              "      <th>0</th>\n",
              "      <td>0.839</td>\n",
              "      <td>0.530818</td>\n",
              "      <td>0.793233</td>\n",
              "      <td>0.636021</td>\n",
              "    </tr>\n",
              "  </tbody>\n",
              "</table>\n",
              "</div>\n",
              "      <button class=\"colab-df-convert\" onclick=\"convertToInteractive('df-4e000d1c-d2ae-4f1a-93a1-7aa8c45d2a84')\"\n",
              "              title=\"Convert this dataframe to an interactive table.\"\n",
              "              style=\"display:none;\">\n",
              "        \n",
              "  <svg xmlns=\"http://www.w3.org/2000/svg\" height=\"24px\"viewBox=\"0 0 24 24\"\n",
              "       width=\"24px\">\n",
              "    <path d=\"M0 0h24v24H0V0z\" fill=\"none\"/>\n",
              "    <path d=\"M18.56 5.44l.94 2.06.94-2.06 2.06-.94-2.06-.94-.94-2.06-.94 2.06-2.06.94zm-11 1L8.5 8.5l.94-2.06 2.06-.94-2.06-.94L8.5 2.5l-.94 2.06-2.06.94zm10 10l.94 2.06.94-2.06 2.06-.94-2.06-.94-.94-2.06-.94 2.06-2.06.94z\"/><path d=\"M17.41 7.96l-1.37-1.37c-.4-.4-.92-.59-1.43-.59-.52 0-1.04.2-1.43.59L10.3 9.45l-7.72 7.72c-.78.78-.78 2.05 0 2.83L4 21.41c.39.39.9.59 1.41.59.51 0 1.02-.2 1.41-.59l7.78-7.78 2.81-2.81c.8-.78.8-2.07 0-2.86zM5.41 20L4 18.59l7.72-7.72 1.47 1.35L5.41 20z\"/>\n",
              "  </svg>\n",
              "      </button>\n",
              "      \n",
              "  <style>\n",
              "    .colab-df-container {\n",
              "      display:flex;\n",
              "      flex-wrap:wrap;\n",
              "      gap: 12px;\n",
              "    }\n",
              "\n",
              "    .colab-df-convert {\n",
              "      background-color: #E8F0FE;\n",
              "      border: none;\n",
              "      border-radius: 50%;\n",
              "      cursor: pointer;\n",
              "      display: none;\n",
              "      fill: #1967D2;\n",
              "      height: 32px;\n",
              "      padding: 0 0 0 0;\n",
              "      width: 32px;\n",
              "    }\n",
              "\n",
              "    .colab-df-convert:hover {\n",
              "      background-color: #E2EBFA;\n",
              "      box-shadow: 0px 1px 2px rgba(60, 64, 67, 0.3), 0px 1px 3px 1px rgba(60, 64, 67, 0.15);\n",
              "      fill: #174EA6;\n",
              "    }\n",
              "\n",
              "    [theme=dark] .colab-df-convert {\n",
              "      background-color: #3B4455;\n",
              "      fill: #D2E3FC;\n",
              "    }\n",
              "\n",
              "    [theme=dark] .colab-df-convert:hover {\n",
              "      background-color: #434B5C;\n",
              "      box-shadow: 0px 1px 3px 1px rgba(0, 0, 0, 0.15);\n",
              "      filter: drop-shadow(0px 1px 2px rgba(0, 0, 0, 0.3));\n",
              "      fill: #FFFFFF;\n",
              "    }\n",
              "  </style>\n",
              "\n",
              "      <script>\n",
              "        const buttonEl =\n",
              "          document.querySelector('#df-4e000d1c-d2ae-4f1a-93a1-7aa8c45d2a84 button.colab-df-convert');\n",
              "        buttonEl.style.display =\n",
              "          google.colab.kernel.accessAllowed ? 'block' : 'none';\n",
              "\n",
              "        async function convertToInteractive(key) {\n",
              "          const element = document.querySelector('#df-4e000d1c-d2ae-4f1a-93a1-7aa8c45d2a84');\n",
              "          const dataTable =\n",
              "            await google.colab.kernel.invokeFunction('convertToInteractive',\n",
              "                                                     [key], {});\n",
              "          if (!dataTable) return;\n",
              "\n",
              "          const docLinkHtml = 'Like what you see? Visit the ' +\n",
              "            '<a target=\"_blank\" href=https://colab.research.google.com/notebooks/data_table.ipynb>data table notebook</a>'\n",
              "            + ' to learn more about interactive tables.';\n",
              "          element.innerHTML = '';\n",
              "          dataTable['output_type'] = 'display_data';\n",
              "          await google.colab.output.renderOutput(dataTable, element);\n",
              "          const docLink = document.createElement('div');\n",
              "          docLink.innerHTML = docLinkHtml;\n",
              "          element.appendChild(docLink);\n",
              "        }\n",
              "      </script>\n",
              "    </div>\n",
              "  </div>\n",
              "  "
            ]
          },
          "metadata": {},
          "execution_count": 53
        }
      ]
    },
    {
      "cell_type": "code",
      "source": [
        "log_reg_model_train_perf = model_performance_classification_sklearn_with_threshold(\n",
        "    knn, scaled_X_test, y_test\n",
        ")\n",
        "\n",
        "print(\"Training performance:\")\n",
        "log_reg_model_train_perf"
      ],
      "metadata": {
        "colab": {
          "base_uri": "https://localhost:8080/",
          "height": 99
        },
        "id": "JlOAAJDb_D_w",
        "outputId": "99004756-c508-49a6-d6ee-a57e857324bf"
      },
      "execution_count": 54,
      "outputs": [
        {
          "output_type": "stream",
          "name": "stdout",
          "text": [
            "Training performance:\n"
          ]
        },
        {
          "output_type": "execute_result",
          "data": {
            "text/plain": [
              "   Accuracy    Recall  Precision       F1\n",
              "0  0.840333  0.469182   0.867442  0.60898"
            ],
            "text/html": [
              "\n",
              "  <div id=\"df-32bd8035-7014-4410-87d8-a071eb7f1e9e\">\n",
              "    <div class=\"colab-df-container\">\n",
              "      <div>\n",
              "<style scoped>\n",
              "    .dataframe tbody tr th:only-of-type {\n",
              "        vertical-align: middle;\n",
              "    }\n",
              "\n",
              "    .dataframe tbody tr th {\n",
              "        vertical-align: top;\n",
              "    }\n",
              "\n",
              "    .dataframe thead th {\n",
              "        text-align: right;\n",
              "    }\n",
              "</style>\n",
              "<table border=\"1\" class=\"dataframe\">\n",
              "  <thead>\n",
              "    <tr style=\"text-align: right;\">\n",
              "      <th></th>\n",
              "      <th>Accuracy</th>\n",
              "      <th>Recall</th>\n",
              "      <th>Precision</th>\n",
              "      <th>F1</th>\n",
              "    </tr>\n",
              "  </thead>\n",
              "  <tbody>\n",
              "    <tr>\n",
              "      <th>0</th>\n",
              "      <td>0.840333</td>\n",
              "      <td>0.469182</td>\n",
              "      <td>0.867442</td>\n",
              "      <td>0.60898</td>\n",
              "    </tr>\n",
              "  </tbody>\n",
              "</table>\n",
              "</div>\n",
              "      <button class=\"colab-df-convert\" onclick=\"convertToInteractive('df-32bd8035-7014-4410-87d8-a071eb7f1e9e')\"\n",
              "              title=\"Convert this dataframe to an interactive table.\"\n",
              "              style=\"display:none;\">\n",
              "        \n",
              "  <svg xmlns=\"http://www.w3.org/2000/svg\" height=\"24px\"viewBox=\"0 0 24 24\"\n",
              "       width=\"24px\">\n",
              "    <path d=\"M0 0h24v24H0V0z\" fill=\"none\"/>\n",
              "    <path d=\"M18.56 5.44l.94 2.06.94-2.06 2.06-.94-2.06-.94-.94-2.06-.94 2.06-2.06.94zm-11 1L8.5 8.5l.94-2.06 2.06-.94-2.06-.94L8.5 2.5l-.94 2.06-2.06.94zm10 10l.94 2.06.94-2.06 2.06-.94-2.06-.94-.94-2.06-.94 2.06-2.06.94z\"/><path d=\"M17.41 7.96l-1.37-1.37c-.4-.4-.92-.59-1.43-.59-.52 0-1.04.2-1.43.59L10.3 9.45l-7.72 7.72c-.78.78-.78 2.05 0 2.83L4 21.41c.39.39.9.59 1.41.59.51 0 1.02-.2 1.41-.59l7.78-7.78 2.81-2.81c.8-.78.8-2.07 0-2.86zM5.41 20L4 18.59l7.72-7.72 1.47 1.35L5.41 20z\"/>\n",
              "  </svg>\n",
              "      </button>\n",
              "      \n",
              "  <style>\n",
              "    .colab-df-container {\n",
              "      display:flex;\n",
              "      flex-wrap:wrap;\n",
              "      gap: 12px;\n",
              "    }\n",
              "\n",
              "    .colab-df-convert {\n",
              "      background-color: #E8F0FE;\n",
              "      border: none;\n",
              "      border-radius: 50%;\n",
              "      cursor: pointer;\n",
              "      display: none;\n",
              "      fill: #1967D2;\n",
              "      height: 32px;\n",
              "      padding: 0 0 0 0;\n",
              "      width: 32px;\n",
              "    }\n",
              "\n",
              "    .colab-df-convert:hover {\n",
              "      background-color: #E2EBFA;\n",
              "      box-shadow: 0px 1px 2px rgba(60, 64, 67, 0.3), 0px 1px 3px 1px rgba(60, 64, 67, 0.15);\n",
              "      fill: #174EA6;\n",
              "    }\n",
              "\n",
              "    [theme=dark] .colab-df-convert {\n",
              "      background-color: #3B4455;\n",
              "      fill: #D2E3FC;\n",
              "    }\n",
              "\n",
              "    [theme=dark] .colab-df-convert:hover {\n",
              "      background-color: #434B5C;\n",
              "      box-shadow: 0px 1px 3px 1px rgba(0, 0, 0, 0.15);\n",
              "      filter: drop-shadow(0px 1px 2px rgba(0, 0, 0, 0.3));\n",
              "      fill: #FFFFFF;\n",
              "    }\n",
              "  </style>\n",
              "\n",
              "      <script>\n",
              "        const buttonEl =\n",
              "          document.querySelector('#df-32bd8035-7014-4410-87d8-a071eb7f1e9e button.colab-df-convert');\n",
              "        buttonEl.style.display =\n",
              "          google.colab.kernel.accessAllowed ? 'block' : 'none';\n",
              "\n",
              "        async function convertToInteractive(key) {\n",
              "          const element = document.querySelector('#df-32bd8035-7014-4410-87d8-a071eb7f1e9e');\n",
              "          const dataTable =\n",
              "            await google.colab.kernel.invokeFunction('convertToInteractive',\n",
              "                                                     [key], {});\n",
              "          if (!dataTable) return;\n",
              "\n",
              "          const docLinkHtml = 'Like what you see? Visit the ' +\n",
              "            '<a target=\"_blank\" href=https://colab.research.google.com/notebooks/data_table.ipynb>data table notebook</a>'\n",
              "            + ' to learn more about interactive tables.';\n",
              "          element.innerHTML = '';\n",
              "          dataTable['output_type'] = 'display_data';\n",
              "          await google.colab.output.renderOutput(dataTable, element);\n",
              "          const docLink = document.createElement('div');\n",
              "          docLink.innerHTML = docLinkHtml;\n",
              "          element.appendChild(docLink);\n",
              "        }\n",
              "      </script>\n",
              "    </div>\n",
              "  </div>\n",
              "  "
            ]
          },
          "metadata": {},
          "execution_count": 54
        }
      ]
    },
    {
      "cell_type": "code",
      "source": [],
      "metadata": {
        "id": "mpbCxWDZ_UEx"
      },
      "execution_count": 54,
      "outputs": []
    }
  ]
}